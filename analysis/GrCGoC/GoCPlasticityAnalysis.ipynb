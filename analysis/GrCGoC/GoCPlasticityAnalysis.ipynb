{
 "cells": [
  {
   "cell_type": "markdown",
   "metadata": {},
   "source": [
    "# Data anaylsis in cerebellar granular layer simulations (GrC-GoC plasticity)\n",
    "## Running the simulation\n",
    "\n",
    "First, we set current working directory to the root of Spiking Granular Layer and insert the source folder to the python path:"
   ]
  },
  {
   "cell_type": "code",
   "execution_count": 1,
   "metadata": {},
   "outputs": [],
   "source": [
    "import os\n",
    "os.chdir('../../')\n",
    "os.getcwd()\n",
    "import sys\n",
    "import numpy\n",
    "%matplotlib inline\n",
    "import matplotlib.pyplot as plt\n",
    "sys.path.insert(1,'./src')"
   ]
  },
  {
   "cell_type": "markdown",
   "metadata": {},
   "source": [
    "## Running the simulation\n",
    "Now start setting a new simulation with the configuration file that we specify:"
   ]
  },
  {
   "cell_type": "code",
   "execution_count": 2,
   "metadata": {},
   "outputs": [],
   "source": [
    "config_file = './config/GrCGoCPlasticity/InitialTest.cfg'\n",
    "data_path = './results'\n",
    "simulation_name = 'TestGrCGoCPlasticity'\n",
    "simulation_time = 600.0\n",
    "analysis_time = 1.0\n",
    "run_the_simulation = True\n",
    "import SpikingSimulation.FrequencySimulation as FrequencySimulation\n",
    "simulation = FrequencySimulation.FrequencySimulation(config_file=config_file)"
   ]
  },
  {
   "cell_type": "markdown",
   "metadata": {},
   "source": [
    "Set the simulation general parameters"
   ]
  },
  {
   "cell_type": "code",
   "execution_count": 3,
   "metadata": {},
   "outputs": [],
   "source": [
    "simulation.config_options['simulation']['verbosity'] = 'Debug'\n",
    "simulation.config_options['simulation']['seed'] = 1234567\n",
    "simulation.config_options['simulation']['time'] = simulation_time\n",
    "simulation.config_options['simulation']['data_path'] = data_path\n",
    "simulation.config_options['simulation']['simulation_name'] = simulation_name\n",
    "simulation.config_options['simulation']['register_activity_only_in_test'] = False\n",
    "simulation.config_options['simulation']['run_simulation'] = run_the_simulation\n",
    "simulation.config_options['simulation']['record_to_file'] = True\n",
    "simulation.config_options['simulation']['state_recording_step'] = 100.0\n",
    "simulation.config_options['simulation']['weight_normalization_step'] = 100.0\n",
    "if run_the_simulation:\n",
    "    simulation.config_options['network']['load_file'] = None\n",
    "else:\n",
    "    simulation.config_options['network']['load_file'] = data_path + '/' + simulation_name + '/network.h5'"
   ]
  },
  {
   "cell_type": "markdown",
   "metadata": {},
   "source": [
    "Set the network synaptic parameters of the granular layer"
   ]
  },
  {
   "cell_type": "code",
   "execution_count": 4,
   "metadata": {},
   "outputs": [],
   "source": [
    "# Set the MF-GrC learning rule and initial weights\n",
    "simulation.config_options['mfgrcsynapsis']['weight_initialization_type'] = 'random'\n",
    "simulation.config_options['mfgrcsynapsis']['random_min_weight'] = 1.31e-10\n",
    "simulation.config_options['mfgrcsynapsis']['random_max_weight'] = 1.91e-9\n",
    "simulation.config_options['mfgrcsynapsis']['weight_recording'] = False\n",
    "simulation.config_options['mfgrcsynapsis']['weight_normalization'] = False\n",
    "# Set the MF-GoC connectivity rules and parameters\n",
    "simulation.config_options['mfgocsynapsis']['weight_initialization_type'] = 'random'\n",
    "simulation.config_options['mfgocsynapsis']['random_min_weight'] = 0.00\n",
    "simulation.config_options['mfgocsynapsis']['random_max_weight'] = 0.00e-9\n",
    "simulation.config_options['mfgocsynapsis']['weight_recording'] = False\n",
    "simulation.config_options['mfgocsynapsis']['weight_normalization'] = False\n",
    "# Set the GrC-GoC connectivity rules and parameters\n",
    "simulation.config_options['grcgocsynapsis']['weight_initialization_type'] = 'random'\n",
    "simulation.config_options['grcgocsynapsis']['random_min_weight'] = 5.41e-13\n",
    "simulation.config_options['grcgocsynapsis']['random_max_weight'] = 2.80e-12\n",
    "simulation.config_options['grcgocsynapsis']['learning_rule_type'] = 'eSTDP'\n",
    "simulation.config_options['grcgocsynapsis']['tau_plus'] = 16.8e-3\n",
    "simulation.config_options['grcgocsynapsis']['learning_step'] = 6.2e-3\n",
    "simulation.config_options['grcgocsynapsis']['minus_plus_ratio'] = 1.9\n",
    "simulation.config_options['goclayer']['tau_minus'] = 33.7e-3\n",
    "simulation.config_options['grcgocsynapsis']['max_weight'] = 1.0e-11\n",
    "simulation.config_options['grcgocsynapsis']['weight_recording'] = True\n",
    "simulation.config_options['grcgocsynapsis']['weight_normalization'] = False\n",
    "#simulation.config_options['grcgocsynapsis']['weight_sum'] = 40.0e-9\n",
    "# Set the GoC-GrC connectivity rules and parameters\n",
    "simulation.config_options['gocgrcsynapsis']['weight_initialization_type'] = 'random'\n",
    "simulation.config_options['gocgrcsynapsis']['random_min_weight'] = 0.00\n",
    "simulation.config_options['gocgrcsynapsis']['random_max_weight'] = 0.00\n",
    "simulation.config_options['gocgocsynapsis']['weight_recording'] = False\n",
    "simulation.config_options['gocgocsynapsis']['weight_normalization'] = False\n",
    "# Set the GoC-GoC connectivity rules and parameters\n",
    "simulation.config_options['gocgocsynapsis']['weight_initialization_type'] = 'random'\n",
    "simulation.config_options['gocgocsynapsis']['random_min_weight'] = 0.00\n",
    "simulation.config_options['gocgocsynapsis']['random_max_weight'] = 0.00\n",
    "simulation.config_options['gocgocsynapsis']['weight_recording'] = False\n",
    "simulation.config_options['gocgocsynapsis']['weight_normalization'] = False\n"
   ]
  },
  {
   "cell_type": "markdown",
   "metadata": {},
   "source": [
    "Initialize the simulation"
   ]
  },
  {
   "cell_type": "code",
   "execution_count": null,
   "metadata": {},
   "outputs": [
    {
     "name": "stderr",
     "output_type": "stream",
     "text": [
      "2018-04-10 09:39:28,191 - P27183 - MemTotal:66M - Simulation - DEBUG: Simulation time fixed to 600.0s\n",
      "2018-04-10 09:39:28,213 - P27183 - MemTotal:66M - Simulation - DEBUG: Creating cerebellum generator\n",
      "2018-04-10 09:39:28,299 - P27183 - MemTotal:84M - Simulation - DEBUG: Initializing cerebellum generator\n",
      "2018-04-10 09:39:28,301 - P27183 - MemTotal:84M - Simulation - DEBUG: Removing results folder ./results/TestGrCGoCPlasticity\n",
      "2018-04-10 09:39:28,501 - P27183 - MemTotal:84M - Simulation - DEBUG: Cerebellar simulation initialized\n",
      "2018-04-10 09:39:28,504 - P27183 - MemTotal:84M - Simulation - DEBUG: NEST module loaded\n",
      "2018-04-10 09:39:28,538 - P27183 - MemTotal:87M - Simulation - DEBUG: Setting Global NEST Seed: 1234578\n",
      "2018-04-10 09:39:28,541 - P27183 - MemTotal:87M - Simulation - DEBUG: Setting Per-Process NEST Seeds: [1234579, 1234580, 1234581, 1234582, 1234583, 1234584, 1234585, 1234586, 1234587, 1234588]\n",
      "2018-04-10 09:39:28,543 - P27183 - MemTotal:87M - Simulation - WARNING: Non-specified cell model parameter: tau_minus in layer mflayer. Using default value\n",
      "2018-04-10 09:39:28,546 - P27183 - MemTotal:87M - Simulation - WARNING: Non-specified cell model parameter: tau_istdp in layer mflayer. Using default value\n",
      "2018-04-10 09:39:28,548 - P27183 - MemTotal:87M - Simulation - WARNING: Non-specified number of neurons in layer mflayer\n",
      "2018-04-10 09:39:28,550 - P27183 - MemTotal:88M - Simulation - WARNING: Non-specified cell model parameter: tau_minus in layer grclayer. Using default value\n",
      "2018-04-10 09:39:28,552 - P27183 - MemTotal:88M - Simulation - WARNING: Non-specified cell model parameter: tau_istdp in layer grclayer. Using default value\n",
      "2018-04-10 09:39:28,553 - P27183 - MemTotal:88M - Simulation - WARNING: Non-specified number of neurons in layer grclayer\n",
      "2018-04-10 09:39:28,556 - P27183 - MemTotal:89M - Simulation - WARNING: Non-specified cell model parameter: tau_istdp in layer goclayer. Using default value\n",
      "2018-04-10 09:39:28,558 - P27183 - MemTotal:89M - Simulation - WARNING: Non-specified number of neurons in layer goclayer\n",
      "2018-04-10 09:39:28,559 - P27183 - MemTotal:89M - Simulation - WARNING: tau_minus cannot be calculated in layer mflayer. Variable tau_minus is not defined. Using default value 20.0\n",
      "2018-04-10 09:39:28,561 - P27183 - MemTotal:89M - Simulation - WARNING: tau_syn_ex cannot be calculated in layer mflayer. Variable texc is not defined. Using default value 2.0\n",
      "2018-04-10 09:39:28,562 - P27183 - MemTotal:89M - Simulation - WARNING: tau_minus_triplet cannot be calculated in layer mflayer. Variable tau_istdp is not defined. Using default value 110.0\n",
      "2018-04-10 09:39:28,563 - P27183 - MemTotal:89M - Simulation - WARNING: tau_syn_in cannot be calculated in layer mflayer. Variable tinh is not defined. Using default value 2.0\n",
      "2018-04-10 09:39:28,578 - P27183 - MemTotal:96M - Simulation - DEBUG: Nest Process: 0. Neuron layer created in layer mflayer: 2400. Local: 2400\n",
      "2018-04-10 09:39:28,580 - P27183 - MemTotal:96M - Simulation - WARNING: tau_minus cannot be calculated in layer grclayer. Variable tau_minus is not defined. Using default value 20.0\n",
      "2018-04-10 09:39:28,582 - P27183 - MemTotal:96M - Simulation - WARNING: tau_minus_triplet cannot be calculated in layer grclayer. Variable tau_istdp is not defined. Using default value 110.0\n",
      "2018-04-10 09:39:28,808 - P27183 - MemTotal:157M - Simulation - DEBUG: Nest Process: 0. Neuron layer created in layer grclayer: 32000. Local: 32000\n",
      "2018-04-10 09:39:28,810 - P27183 - MemTotal:157M - Simulation - WARNING: tau_minus_triplet cannot be calculated in layer goclayer. Variable tau_istdp is not defined. Using default value 110.0\n",
      "2018-04-10 09:39:28,818 - P27183 - MemTotal:160M - Simulation - DEBUG: Nest Process: 0. Neuron layer created in layer goclayer: 72. Local: 72\n",
      "2018-04-10 09:39:30,889 - P27183 - MemTotal:179M - Simulation - DEBUG: Generated connections in layer gocgocsynapsis (1 of 1). Local: 5112\n",
      "2018-04-10 09:39:30,958 - P27183 - MemTotal:187M - Simulation - DEBUG: Nest Process: 0. Connections created in layer mfgrcsynapsis: 127854\n",
      "2018-04-10 09:39:30,970 - P27183 - MemTotal:187M - Simulation - DEBUG: Nest Process: 0. Connections created in layer mfgocsynapsis: 16183\n",
      "2018-04-10 09:39:31,089 - P27183 - MemTotal:231M - Simulation - DEBUG: Nest Process: 0. Connections created in layer grcgocsynapsis: 344968\n",
      "2018-04-10 09:39:31,168 - P27183 - MemTotal:246M - Simulation - DEBUG: Nest Process: 0. Connections created in layer gocgrcsynapsis: 320068\n",
      "2018-04-10 09:39:31,173 - P27183 - MemTotal:246M - Simulation - DEBUG: Nest Process: 0. Connections created in layer gocgocsynapsis: 5112\n",
      "2018-04-10 09:39:33,418 - P27183 - MemTotal:821M - Simulation - DEBUG: grcgocsynapsis layer weight recording initialized\n",
      "2018-04-10 09:39:33,434 - P27183 - MemTotal:818M - Simulation - DEBUG: Creating hdf5 activity file ./results/TestGrCGoCPlasticity/activity.h5\n",
      "2018-04-10 09:39:33,435 - P27183 - MemTotal:818M - Simulation - DEBUG: Creating group layer grclayer\n",
      "2018-04-10 09:39:33,437 - P27183 - MemTotal:818M - Simulation - DEBUG: Creating activity dataset grclayer\n",
      "2018-04-10 09:39:33,439 - P27183 - MemTotal:818M - Simulation - DEBUG: Creating group layer goclayer\n",
      "2018-04-10 09:39:33,440 - P27183 - MemTotal:818M - Simulation - DEBUG: Creating activity dataset goclayer\n",
      "2018-04-10 09:39:33,442 - P27183 - MemTotal:818M - Simulation - INFO: Saving network to hdf5 file ./results/TestGrCGoCPlasticity/network.h5\n",
      "2018-04-10 09:39:35,150 - P27183 - MemTotal:814M - Simulation - DEBUG: Creating hdf5 activity file ./results/TestGrCGoCPlasticity/network.h5\n",
      "2018-04-10 09:39:35,152 - P27183 - MemTotal:814M - Simulation - DEBUG: Writing neuron layer mflayer\n",
      "2018-04-10 09:39:35,154 - P27183 - MemTotal:814M - Simulation - DEBUG: Writing neuron layer grclayer\n",
      "2018-04-10 09:39:35,155 - P27183 - MemTotal:814M - Simulation - DEBUG: Writing neuron layer goclayer\n",
      "2018-04-10 09:39:35,157 - P27183 - MemTotal:814M - Simulation - DEBUG: Writing neuron layer mfgrcsynapsis\n",
      "2018-04-10 09:39:35,160 - P27183 - MemTotal:814M - Simulation - DEBUG: Writing neuron layer mfgocsynapsis\n",
      "2018-04-10 09:39:35,163 - P27183 - MemTotal:814M - Simulation - DEBUG: Writing neuron layer grcgocsynapsis\n",
      "2018-04-10 09:39:35,167 - P27183 - MemTotal:814M - Simulation - DEBUG: Writing neuron layer gocgrcsynapsis\n",
      "2018-04-10 09:39:35,172 - P27183 - MemTotal:814M - Simulation - DEBUG: Writing neuron layer gocgocsynapsis\n",
      "2018-04-10 09:39:35,176 - P27183 - MemTotal:814M - Simulation - DEBUG: File writing ended\n",
      "2018-04-10 09:39:35,178 - P27183 - MemTotal:814M - Simulation - DEBUG: Creating AC Current generator\n",
      "2018-04-10 09:39:35,180 - P27183 - MemTotal:814M - Simulation - DEBUG: Creating DC Current generator\n",
      "2018-04-10 09:39:36,687 - P27183 - MemTotal:1067M - Simulation - DEBUG: Normalization on iteration 10\n",
      "2018-04-10 09:39:36,692 - P27183 - MemTotal:1067M - Simulation - DEBUG: Average sum per columns 1200.5308360114675\n",
      "2018-04-10 09:39:36,698 - P27183 - MemTotal:1067M - Simulation - DEBUG: Average sum per rows 1150.508717844323\n",
      "2018-04-10 09:39:36,710 - P27183 - MemTotal:898M - Simulation - INFO: Saving activation patterns to hdf5 file ./results/TestGrCGoCPlasticity/stimulation_pattern.h5\n",
      "2018-04-10 09:39:36,712 - P27183 - MemTotal:898M - Simulation - DEBUG: Writing stimulation pattern bin length\n",
      "2018-04-10 09:39:36,713 - P27183 - MemTotal:898M - Simulation - DEBUG: Writing pattern activation matrix\n",
      "2018-04-10 09:39:36,716 - P27183 - MemTotal:898M - Simulation - DEBUG: Writing activation levels of simulation\n",
      "2018-04-10 09:39:36,745 - P27183 - MemTotal:898M - Simulation - DEBUG: Writing stimulation pattern 0\n",
      "2018-04-10 09:39:36,748 - P27183 - MemTotal:898M - Simulation - DEBUG: File writing ended\n"
     ]
    }
   ],
   "source": [
    "# Set the rate of fibers in pattern\n",
    "simulation.config_options['stimulation']['rate_of_fibers_in_pattern'] = 0.30\n",
    "simulation.config_options['network']['length'] = 2.0e-1\n",
    "simulation.initialize()"
   ]
  },
  {
   "cell_type": "markdown",
   "metadata": {},
   "source": [
    "Visualize the simulation or only run it."
   ]
  },
  {
   "cell_type": "code",
   "execution_count": null,
   "metadata": {},
   "outputs": [
    {
     "name": "stderr",
     "output_type": "stream",
     "text": [
      "2018-04-10 09:39:36,784 - P27183 - MemTotal:940M - Simulation - INFO: Running the simulation from 0.0s until time 600.0s\n",
      "2018-04-10 09:39:36,823 - P27183 - MemTotal:941M - Simulation - DEBUG: Running the simulation 0.062s until 0.062s\n",
      "2018-04-10 09:39:37,770 - P27183 - MemTotal:963M - Simulation - DEBUG: Simulation time is 0.9454870224 seconds. Real-time rate: 0.06557467054664293\n",
      "2018-04-10 09:39:37,792 - P27183 - MemTotal:963M - Simulation - DEBUG: Running the simulation 0.404s until 0.466s\n",
      "2018-04-10 09:39:43,811 - P27183 - MemTotal:968M - Simulation - DEBUG: Simulation time is 6.01654314995 seconds. Real-time rate: 0.06714819289602929\n",
      "2018-04-10 09:39:43,833 - P27183 - MemTotal:968M - Simulation - DEBUG: Running the simulation 0.14399999999999996s until 0.61s\n",
      "2018-04-10 09:39:45,801 - P27183 - MemTotal:969M - Simulation - DEBUG: Simulation time is 1.96537208557 seconds. Real-time rate: 0.07326856886651183\n",
      "2018-04-10 09:39:45,822 - P27183 - MemTotal:969M - Simulation - DEBUG: Running the simulation 0.5079999999999999s until 1.1179999999999999s\n",
      "2018-04-10 09:39:52,690 - P27183 - MemTotal:975M - Simulation - DEBUG: Simulation time is 6.8645939827 seconds. Real-time rate: 0.0740029200970235\n",
      "2018-04-10 09:39:52,712 - P27183 - MemTotal:975M - Simulation - DEBUG: Running the simulation 0.04699999999999993s until 1.1649999999999998s\n",
      "2018-04-10 09:39:53,379 - P27183 - MemTotal:975M - Simulation - DEBUG: Simulation time is 0.663102149963 seconds. Real-time rate: 0.0708789739297265\n",
      "2018-04-10 09:39:53,400 - P27183 - MemTotal:975M - Simulation - DEBUG: Running the simulation 0.028000000000000025s until 1.1929999999999998s\n",
      "2018-04-10 09:39:53,779 - P27183 - MemTotal:975M - Simulation - DEBUG: Simulation time is 0.376739025116 seconds. Real-time rate: 0.0743220057741062\n",
      "2018-04-10 09:39:53,801 - P27183 - MemTotal:975M - Simulation - DEBUG: Running the simulation 0.3440000000000001s until 1.537s\n",
      "2018-04-10 09:39:58,420 - P27183 - MemTotal:984M - Simulation - DEBUG: Simulation time is 4.61626195908 seconds. Real-time rate: 0.0745191679002682\n",
      "2018-04-10 09:39:58,441 - P27183 - MemTotal:984M - Simulation - DEBUG: Running the simulation 0.0129999999999999s until 1.5499999999999998s\n",
      "2018-04-10 09:39:58,644 - P27183 - MemTotal:984M - Simulation - DEBUG: Simulation time is 0.200262069702 seconds. Real-time rate: 0.06491493880660934\n",
      "2018-04-10 09:39:58,667 - P27183 - MemTotal:984M - Simulation - DEBUG: Running the simulation 0.18599999999999994s until 1.7359999999999998s\n",
      "2018-04-10 09:40:01,211 - P27183 - MemTotal:985M - Simulation - DEBUG: Simulation time is 2.54108786583 seconds. Real-time rate: 0.0731969966490259\n",
      "2018-04-10 09:40:01,237 - P27183 - MemTotal:985M - Simulation - DEBUG: Running the simulation 0.020000000000000018s until 1.7559999999999998s\n",
      "2018-04-10 09:40:01,510 - P27183 - MemTotal:985M - Simulation - DEBUG: Simulation time is 0.270123958588 seconds. Real-time rate: 0.07404008183713429\n",
      "2018-04-10 09:40:01,531 - P27183 - MemTotal:985M - Simulation - DEBUG: Running the simulation 0.07099999999999995s until 1.8269999999999997s\n",
      "2018-04-10 09:40:02,527 - P27183 - MemTotal:985M - Simulation - DEBUG: Simulation time is 0.992938041687 seconds. Real-time rate: 0.07150496508258485\n",
      "2018-04-10 09:40:02,548 - P27183 - MemTotal:985M - Simulation - DEBUG: Running the simulation 0.028000000000000025s until 1.8549999999999998s\n",
      "2018-04-10 09:40:02,945 - P27183 - MemTotal:985M - Simulation - DEBUG: Simulation time is 0.393308877945 seconds. Real-time rate: 0.07119086694991753\n",
      "2018-04-10 09:40:02,965 - P27183 - MemTotal:985M - Simulation - DEBUG: Running the simulation 0.06299999999999994s until 1.9179999999999997s\n",
      "2018-04-10 09:40:03,814 - P27183 - MemTotal:985M - Simulation - DEBUG: Simulation time is 0.846081972122 seconds. Real-time rate: 0.07446087031257699\n",
      "2018-04-10 09:40:03,844 - P27183 - MemTotal:985M - Simulation - DEBUG: Running the simulation 0.07299999999999995s until 1.9909999999999997s\n",
      "2018-04-10 09:40:04,847 - P27183 - MemTotal:987M - Simulation - DEBUG: Simulation time is 1.0006840229 seconds. Real-time rate: 0.07295010046047656\n",
      "2018-04-10 09:40:04,869 - P27183 - MemTotal:987M - Simulation - DEBUG: Running the simulation 0.15200000000000014s until 2.143s\n",
      "2018-04-10 09:40:06,908 - P27183 - MemTotal:987M - Simulation - DEBUG: Simulation time is 2.03662490845 seconds. Real-time rate: 0.07463328144988947\n",
      "2018-04-10 09:40:06,930 - P27183 - MemTotal:987M - Simulation - DEBUG: Running the simulation 0.028999999999999915s until 2.1719999999999997s\n",
      "2018-04-10 09:40:07,341 - P27183 - MemTotal:987M - Simulation - DEBUG: Simulation time is 0.408293962479 seconds. Real-time rate: 0.07102725649908972\n",
      "2018-04-10 09:40:07,363 - P27183 - MemTotal:987M - Simulation - DEBUG: Running the simulation 0.0040000000000000036s until 2.1759999999999997s\n",
      "2018-04-10 09:40:07,435 - P27183 - MemTotal:987M - Simulation - DEBUG: Simulation time is 0.0697700977325 seconds. Real-time rate: 0.05733115087975893\n",
      "2018-04-10 09:40:07,460 - P27183 - MemTotal:987M - Simulation - DEBUG: Running the simulation 0.24299999999999988s until 2.4189999999999996s\n",
      "2018-04-10 09:40:10,728 - P27183 - MemTotal:988M - Simulation - DEBUG: Simulation time is 3.26469492912 seconds. Real-time rate: 0.07443268215731352\n",
      "2018-04-10 09:40:10,749 - P27183 - MemTotal:988M - Simulation - DEBUG: Running the simulation 0.03200000000000003s until 2.4509999999999996s\n",
      "2018-04-10 09:40:11,207 - P27183 - MemTotal:992M - Simulation - DEBUG: Simulation time is 0.455518960953 seconds. Real-time rate: 0.07024954555803595\n",
      "2018-04-10 09:40:11,230 - P27183 - MemTotal:992M - Simulation - DEBUG: Running the simulation 0.029999999999999805s until 2.4809999999999994s\n",
      "2018-04-10 09:40:11,655 - P27183 - MemTotal:998M - Simulation - DEBUG: Simulation time is 0.421291828156 seconds. Real-time rate: 0.07120954643564904\n",
      "2018-04-10 09:40:11,685 - P27183 - MemTotal:998M - Simulation - DEBUG: Running the simulation 0.43100000000000005s until 2.9119999999999995s\n",
      "2018-04-10 09:40:17,954 - P27183 - MemTotal:1006M - Simulation - DEBUG: Simulation time is 6.26638102531 seconds. Real-time rate: 0.06877973079818912\n",
      "2018-04-10 09:40:17,975 - P27183 - MemTotal:1006M - Simulation - DEBUG: Running the simulation 0.13500000000000023s until 3.0469999999999997s\n",
      "2018-04-10 09:40:19,821 - P27183 - MemTotal:1008M - Simulation - DEBUG: Simulation time is 1.84327411652 seconds. Real-time rate: 0.0732392424926779\n",
      "2018-04-10 09:40:19,842 - P27183 - MemTotal:1008M - Simulation - DEBUG: Running the simulation 0.6379999999999999s until 3.6849999999999996s\n",
      "2018-04-10 09:40:28,431 - P27183 - MemTotal:1012M - Simulation - DEBUG: Simulation time is 8.58589196205 seconds. Real-time rate: 0.07430794643350778\n",
      "2018-04-10 09:40:28,455 - P27183 - MemTotal:1012M - Simulation - DEBUG: Running the simulation 0.05699999999999994s until 3.7419999999999995s\n",
      "2018-04-10 09:40:29,217 - P27183 - MemTotal:1012M - Simulation - DEBUG: Simulation time is 0.759353160858 seconds. Real-time rate: 0.07506388718469749\n",
      "2018-04-10 09:40:29,238 - P27183 - MemTotal:1012M - Simulation - DEBUG: Running the simulation 0.7040000000000002s until 4.446s\n",
      "2018-04-10 09:40:38,662 - P27183 - MemTotal:1016M - Simulation - DEBUG: Simulation time is 9.42101502419 seconds. Real-time rate: 0.0747265552801609\n",
      "2018-04-10 09:40:38,684 - P27183 - MemTotal:1016M - Simulation - DEBUG: Running the simulation 0.19299999999999962s until 4.638999999999999s\n",
      "2018-04-10 09:40:41,277 - P27183 - MemTotal:1017M - Simulation - DEBUG: Simulation time is 2.58946108818 seconds. Real-time rate: 0.07453288287703487\n",
      "2018-04-10 09:40:41,298 - P27183 - MemTotal:1017M - Simulation - DEBUG: Running the simulation 0.42600000000000016s until 5.0649999999999995s\n",
      "2018-04-10 09:40:47,383 - P27183 - MemTotal:1046M - Simulation - DEBUG: Simulation time is 6.0815820694 seconds. Real-time rate: 0.07004756248274074\n",
      "2018-04-10 09:40:47,404 - P27183 - MemTotal:1046M - Simulation - DEBUG: Running the simulation 0.1280000000000001s until 5.193s\n",
      "2018-04-10 09:40:49,131 - P27183 - MemTotal:1046M - Simulation - DEBUG: Simulation time is 1.72391295433 seconds. Real-time rate: 0.07424968858112352\n",
      "2018-04-10 09:40:49,152 - P27183 - MemTotal:1046M - Simulation - DEBUG: Running the simulation 0.006999999999999673s until 5.199999999999999s\n"
     ]
    },
    {
     "name": "stderr",
     "output_type": "stream",
     "text": [
      "2018-04-10 09:40:49,259 - P27183 - MemTotal:1046M - Simulation - DEBUG: Simulation time is 0.10440993309 seconds. Real-time rate: 0.06704342961269488\n",
      "2018-04-10 09:40:49,280 - P27183 - MemTotal:1046M - Simulation - DEBUG: Running the simulation 0.07699999999999996s until 5.276999999999999s\n",
      "2018-04-10 09:40:50,316 - P27183 - MemTotal:1046M - Simulation - DEBUG: Simulation time is 1.03279018402 seconds. Real-time rate: 0.07455531742198916\n",
      "2018-04-10 09:40:50,336 - P27183 - MemTotal:1046M - Simulation - DEBUG: Running the simulation 0.03200000000000003s until 5.308999999999999s\n",
      "2018-04-10 09:40:50,797 - P27183 - MemTotal:1047M - Simulation - DEBUG: Simulation time is 0.457916975021 seconds. Real-time rate: 0.06988166358870447\n",
      "2018-04-10 09:40:50,817 - P27183 - MemTotal:1047M - Simulation - DEBUG: Running the simulation 0.12100000000000044s until 5.43s\n",
      "2018-04-10 09:40:52,534 - P27183 - MemTotal:1047M - Simulation - DEBUG: Simulation time is 1.71435904503 seconds. Real-time rate: 0.07058031417098845\n",
      "2018-04-10 09:40:52,555 - P27183 - MemTotal:1047M - Simulation - DEBUG: Running the simulation 0.32200000000000006s until 5.752s\n",
      "2018-04-10 09:40:56,966 - P27183 - MemTotal:1049M - Simulation - DEBUG: Simulation time is 4.40840291977 seconds. Real-time rate: 0.07304232527294757\n",
      "2018-04-10 09:40:56,989 - P27183 - MemTotal:1049M - Simulation - DEBUG: Running the simulation 0.2400000000000002s until 5.992s\n",
      "2018-04-10 09:41:00,284 - P27183 - MemTotal:1050M - Simulation - DEBUG: Simulation time is 3.29173803329 seconds. Real-time rate: 0.07290981164737033\n",
      "2018-04-10 09:41:00,306 - P27183 - MemTotal:1050M - Simulation - DEBUG: Running the simulation 1.8180000000000005s until 7.8100000000000005s\n",
      "2018-04-10 09:41:25,174 - P27183 - MemTotal:1060M - Simulation - DEBUG: Simulation time is 24.8647558689 seconds. Real-time rate: 0.07311553789567003\n",
      "2018-04-10 09:41:25,196 - P27183 - MemTotal:1060M - Simulation - DEBUG: Running the simulation 0.5180000000000007s until 8.328000000000001s\n",
      "2018-04-10 09:41:32,214 - P27183 - MemTotal:1063M - Simulation - DEBUG: Simulation time is 7.01563000679 seconds. Real-time rate: 0.07383513661619102\n",
      "2018-04-10 09:41:32,237 - P27183 - MemTotal:1063M - Simulation - DEBUG: Running the simulation 0.13400000000000034s until 8.462000000000002s\n",
      "2018-04-10 09:41:34,066 - P27183 - MemTotal:1063M - Simulation - DEBUG: Simulation time is 1.82670903206 seconds. Real-time rate: 0.07335596290832441\n",
      "2018-04-10 09:41:34,088 - P27183 - MemTotal:1063M - Simulation - DEBUG: Running the simulation 0.9420000000000002s until 9.404000000000002s\n",
      "2018-04-10 09:41:46,945 - P27183 - MemTotal:1068M - Simulation - DEBUG: Simulation time is 12.854706049 seconds. Real-time rate: 0.07328055549553482\n",
      "2018-04-10 09:41:46,966 - P27183 - MemTotal:1068M - Simulation - DEBUG: Running the simulation 1.5890000000000004s until 10.993000000000002s\n",
      "2018-04-10 09:42:08,504 - P27183 - MemTotal:1147M - Simulation - DEBUG: Simulation time is 21.5350630283 seconds. Real-time rate: 0.07378664264456593\n",
      "2018-04-10 09:42:08,525 - P27183 - MemTotal:1147M - Simulation - DEBUG: Running the simulation 0.08099999999999952s until 11.074000000000002s\n",
      "2018-04-10 09:42:09,633 - P27183 - MemTotal:1147M - Simulation - DEBUG: Simulation time is 1.10446000099 seconds. Real-time rate: 0.07333900723182399\n",
      "2018-04-10 09:42:09,655 - P27183 - MemTotal:1147M - Simulation - DEBUG: Running the simulation 0.4410000000000007s until 11.515000000000002s\n"
     ]
    }
   ],
   "source": [
    "#simulation.visualize_animation()\n",
    "simulation.run_simulation()"
   ]
  },
  {
   "cell_type": "markdown",
   "metadata": {},
   "source": [
    "Save the network state after the simulation"
   ]
  },
  {
   "cell_type": "code",
   "execution_count": null,
   "metadata": {},
   "outputs": [],
   "source": [
    "simulation.cerebellum.update_network_weights()\n",
    "simulation.cerebellum.save_network_state()"
   ]
  },
  {
   "cell_type": "markdown",
   "metadata": {},
   "source": [
    "## GrC activity analysis"
   ]
  },
  {
   "cell_type": "markdown",
   "metadata": {},
   "source": [
    "Show the GrC acticity rasterplot"
   ]
  },
  {
   "cell_type": "code",
   "execution_count": null,
   "metadata": {},
   "outputs": [],
   "source": [
    "init_time = simulation.current_time - 1.0\n",
    "end_time = simulation.current_time\n",
    "min_neuron = 0\n",
    "max_neuron = 100\n",
    "#max_neuron = simulation.cerebellum.get_number_of_elements(layer='grclayer')\n",
    "gtime,gcell_id = simulation.cerebellum.get_spike_activity(neuron_layer = 'grclayer', init_time = init_time, end_time = end_time, neuron_indexes=range(min_neuron,max_neuron))\n",
    "plt.plot(gtime,gcell_id, '.')\n",
    "plt.ylabel('Simulation time (s)')\n",
    "plt.xlabel('GrC Cell Number')"
   ]
  },
  {
   "cell_type": "markdown",
   "metadata": {},
   "source": [
    "Calculate the average firing frequency of each granular cells during the ending 100 seconds"
   ]
  },
  {
   "cell_type": "code",
   "execution_count": null,
   "metadata": {},
   "outputs": [],
   "source": [
    "gtime,gcell_id = simulation.cerebellum.get_spike_activity(neuron_layer = 'grclayer',\n",
    "                                                          init_time = init_time, \n",
    "                                                          end_time = end_time)\n",
    "import numpy\n",
    "firing_frequency = numpy.bincount(gcell_id) / (simulation_time*8.0)\n",
    "av_firing_rate = numpy.average(firing_frequency)\n",
    "print 'Average spike per oscillatory cycle:',av_firing_rate,'Hz'\n",
    "%matplotlib inline\n",
    "import matplotlib.pyplot as plt\n",
    "plt.hist(firing_frequency, bins=20)\n",
    "plt.ylabel('Number of GoC cells')\n",
    "plt.xlabel('Av. Spikes per Oscillatory Cycle')"
   ]
  },
  {
   "cell_type": "markdown",
   "metadata": {},
   "source": [
    "Plot the histogram of non-zero weights between MF and GrC"
   ]
  },
  {
   "cell_type": "code",
   "execution_count": null,
   "metadata": {},
   "outputs": [],
   "source": [
    "target_cell_index = simulation.cerebellum.layer_map['mfgrcsynapsis'].target_index\n",
    "source_cell_index = simulation.cerebellum.layer_map['mfgrcsynapsis'].source_index\n",
    "weight = simulation.cerebellum.layer_map['mfgrcsynapsis'].weights\n",
    "plt.figure()\n",
    "plt.hist(weight, bins=20)\n",
    "plt.ylabel('Number of MF-GrC synapses')\n",
    "plt.xlabel('Synaptic Weight')\n",
    "max_weight = numpy.max(weight)\n",
    "active_synapses = weight>max_weight*0.0\n",
    "number_of_active_inputs = numpy.bincount(target_cell_index[active_synapses])\n",
    "plt.figure()\n",
    "plt.hist(number_of_active_inputs, bins=10)\n",
    "plt.ylabel('Number of GrC cells')\n",
    "plt.xlabel('Number of active inputs')\n",
    "print 'Number of active synapses MF-GrC:',numpy.count_nonzero(active_synapses)\n",
    "max_weight = numpy.max(weight)\n",
    "active_synapses = weight>max_weight*0.0\n",
    "weight_sum = numpy.bincount(target_cell_index,weights=weight)\n",
    "plt.figure()\n",
    "plt.hist(weight_sum, bins=20)\n",
    "plt.ylabel('Number of GrC cells')\n",
    "plt.xlabel('Weight sum')\n",
    "print 'Weight sum histogram MF-GrC:',numpy.count_nonzero(active_synapses)"
   ]
  },
  {
   "cell_type": "markdown",
   "metadata": {},
   "source": [
    "\n",
    "Histogram of active synapses connecting input fibers included in the pattern"
   ]
  },
  {
   "cell_type": "code",
   "execution_count": null,
   "metadata": {},
   "outputs": [],
   "source": [
    "for pat_id in range(simulation.pattern_generator.number_of_patterns):\n",
    "    included_in_pattern = numpy.in1d(source_cell_index, simulation.pattern_generator.fibers_in_pattern[pat_id,:])\n",
    "    included_and_active = numpy.logical_and(included_in_pattern,active_synapses)\n",
    "    number_of_active_inputs_in_pattern = numpy.bincount(target_cell_index[included_and_active],minlength=simulation.cerebellum.get_number_of_elements(layer='grclayer'))\n",
    "    plt.figure()\n",
    "    n,_,_=plt.hist(number_of_active_inputs_in_pattern, bins=4, density=True)\n",
    "    plt.ylabel('Number of GrC cells')\n",
    "    plt.xlabel('Number of active inputs in pattern')\n",
    "    print 'Number of active MF-GrC synapses also included in pattern',pat_id,':', numpy.count_nonzero(included_and_active)\n",
    "    plt.figure()\n",
    "    simulation.pattern_generator.fibers_in_pattern[0,:]\n",
    "    activation_level = [simulation.pattern_generator.pattern_activation[pat_id,numpy.where(simulation.pattern_generator.fibers_in_pattern[pat_id,:]==source)[0][0]] \n",
    "                    for source in source_cell_index[included_and_active]]\n",
    "    plt.hist(activation_level, bins=20)\n",
    "    plt.ylabel('Number of active synapses')\n",
    "    plt.xlabel('Activation level')"
   ]
  },
  {
   "cell_type": "markdown",
   "metadata": {},
   "source": [
    "## GoC activity analysis"
   ]
  },
  {
   "cell_type": "markdown",
   "metadata": {},
   "source": [
    "Show the GoC acticity rasterplot"
   ]
  },
  {
   "cell_type": "code",
   "execution_count": null,
   "metadata": {},
   "outputs": [],
   "source": [
    "init_time = simulation.current_time - 10.0\n",
    "end_time = simulation.current_time\n",
    "min_neuron = 0\n",
    "max_neuron = simulation.cerebellum.get_number_of_elements(layer='goclayer')\n",
    "pattern_id = 0\n",
    "gtime,gcell_id = simulation.cerebellum.get_spike_activity(neuron_layer = 'goclayer', init_time = init_time, end_time = end_time, neuron_indexes=range(min_neuron,max_neuron))\n",
    "plt.figure(figsize=(20,15))\n",
    "plt.plot(gtime,gcell_id, '.')\n",
    "plt.ylabel('GoC Cell Number')\n",
    "plt.xlabel('Simulation time (s)')\n",
    "plt.xlim(init_time,end_time)\n",
    "selected_bins = numpy.logical_and(simulation.pattern_length_cum<end_time,simulation.pattern_length_cum>init_time)\n",
    "index = numpy.where(selected_bins)[0]\n",
    "index = numpy.append([max(index[0]-1,0)],index)\n",
    "index = numpy.append(index,[min(index[-1]+1,simulation.pattern_length.size-1)])\n",
    "for idx in index[:-1]:\n",
    "    if simulation.pattern_generator.bin_is_in_pattern[idx+1,pattern_id]:\n",
    "        plt.axvspan(simulation.pattern_length_cum[idx], simulation.pattern_length_cum[idx+1], facecolor='b', alpha=0.1)"
   ]
  },
  {
   "cell_type": "markdown",
   "metadata": {},
   "source": [
    "Calculate the average firing frequency of each golgi cells during the ending 100 seconds"
   ]
  },
  {
   "cell_type": "code",
   "execution_count": null,
   "metadata": {},
   "outputs": [],
   "source": [
    "gtime,gcell_id = simulation.cerebellum.get_spike_activity(neuron_layer = 'goclayer',\n",
    "                                                          init_time = simulation.current_time-simulation_time, \n",
    "                                                          end_time = simulation.current_time)\n",
    "import numpy\n",
    "firing_frequency = numpy.bincount(gcell_id) / (simulation_time*8.0)\n",
    "av_firing_rate = numpy.average(firing_frequency)\n",
    "print 'Average spike per oscillatory cycle:',av_firing_rate,'Hz'\n",
    "%matplotlib inline\n",
    "import matplotlib.pyplot as plt\n",
    "plt.hist(firing_frequency, bins=20)\n",
    "plt.ylabel('Number of GoC cells')\n",
    "plt.xlabel('Av. Spikes per Oscillatory Cycle')"
   ]
  },
  {
   "cell_type": "markdown",
   "metadata": {},
   "source": [
    "Plot the histogram of non-zero weights between GrC and GoC"
   ]
  },
  {
   "cell_type": "code",
   "execution_count": null,
   "metadata": {},
   "outputs": [],
   "source": [
    "target_cell_index = simulation.cerebellum.layer_map['grcgocsynapsis'].target_index\n",
    "source_cell_index = simulation.cerebellum.layer_map['grcgocsynapsis'].source_index\n",
    "weight = simulation.cerebellum.layer_map['grcgocsynapsis'].weights\n",
    "plt.figure()\n",
    "plt.hist(weight, bins=20, range=(0,2.0e-11))\n",
    "plt.ylabel('Number of GrC-GoC synapses')\n",
    "plt.xlabel('Synaptic Weight')\n",
    "max_weight = numpy.max(weight)\n",
    "active_synapses = weight>max_weight*0.2\n",
    "number_of_active_inputs = numpy.bincount(target_cell_index[active_synapses])\n",
    "plt.figure()\n",
    "plt.hist(number_of_active_inputs, bins=10)\n",
    "plt.ylabel('Number of GoC cells')\n",
    "plt.xlabel('Number of active inputs')\n",
    "print 'Number of active synapses GrC-GoC:',numpy.count_nonzero(active_synapses)\n",
    "max_weight = numpy.max(weight)\n",
    "active_synapses = weight>max_weight*0.2\n",
    "weight_sum = numpy.bincount(target_cell_index,weights=weight)\n",
    "plt.figure()\n",
    "plt.hist(weight_sum, bins=20)\n",
    "plt.ylabel('Number of GoC cells')\n",
    "plt.xlabel('Weight sum')\n",
    "print 'Weight sum histogram GrC-GoC:',numpy.count_nonzero(active_synapses)"
   ]
  },
  {
   "cell_type": "markdown",
   "metadata": {},
   "source": [
    "## GrC-GoC weight analysis"
   ]
  },
  {
   "cell_type": "markdown",
   "metadata": {},
   "source": [
    "Plot the GrC-GoC weight as a function of the number of MF-GrC synapses in pattern"
   ]
  },
  {
   "cell_type": "code",
   "execution_count": null,
   "metadata": {},
   "outputs": [],
   "source": [
    "# Obtain the list of active GrC-GoC inputs\n",
    "grcgoc_target_cell_index = simulation.cerebellum.layer_map['grcgocsynapsis'].target_index\n",
    "grcgoc_source_cell_index = simulation.cerebellum.layer_map['grcgocsynapsis'].source_index\n",
    "grcgoc_weight = simulation.cerebellum.layer_map['grcgocsynapsis'].weights\n",
    "target_cell_index = grcgoc_target_cell_index==6\n",
    "# Obtain the list of active GrC inputs\n",
    "mfgrc_target_cell_index = simulation.cerebellum.layer_map['mfgrcsynapsis'].target_index\n",
    "mfgrc_source_cell_index = simulation.cerebellum.layer_map['mfgrcsynapsis'].source_index\n",
    "mfgrc_weight = simulation.cerebellum.layer_map['mfgrcsynapsis'].weights\n",
    "mfgrc_max_weight = numpy.max(mfgrc_weight)\n",
    "mfgrc_active_synapses = mfgrc_weight>mfgrc_max_weight*0.0\n",
    "mfgrc_number_of_active_inputs = numpy.bincount(mfgrc_target_cell_index[mfgrc_active_synapses])\n",
    "# Obtain the list of GrC active inputs in included in pattern \n",
    "pattern_id = 0\n",
    "included_in_pattern = numpy.in1d(mfgrc_source_cell_index, simulation.pattern_generator.fibers_in_pattern[pattern_id,:])\n",
    "included_and_active = numpy.logical_and(included_in_pattern,mfgrc_active_synapses)\n",
    "number_of_active_inputs_in_pattern = numpy.bincount(mfgrc_target_cell_index[included_and_active],minlength=simulation.cerebellum.get_number_of_elements(layer='grclayer'))\n",
    "# Plot the figure\n",
    "plt.figure(figsize=(15,5))\n",
    "plt.subplot(1,2,1)\n",
    "plt.plot(number_of_active_inputs_in_pattern[grcgoc_source_cell_index[target_cell_index]],grcgoc_weight[target_cell_index],'.')\n",
    "plt.xlabel('Number of active MF inputs')\n",
    "plt.ylabel('GrC-GoC weight')\n",
    "plt.title('Weight vs MFs in pattern')\n",
    "\n",
    "# Retrieve the weight of those MF included in pattern\n",
    "# Search the x-index of elements in y\n",
    "x = simulation.pattern_generator.fibers_in_pattern[pattern_id]\n",
    "y = mfgrc_source_cell_index[included_in_pattern]\n",
    "index = numpy.argsort(x)\n",
    "sorted_x = x[index]\n",
    "sorted_index = numpy.searchsorted(sorted_x, y)\n",
    "yindex = numpy.take(index, sorted_index, mode=\"clip\")\n",
    "\n",
    "# Calculate the normalized activation levels\n",
    "normalized_activation = mfgrc_weight[included_in_pattern]*simulation.pattern_generator.pattern_activation[pattern_id][yindex]\n",
    "input_conductance_in_pattern = numpy.bincount(mfgrc_target_cell_index[included_and_active],weights=normalized_activation,minlength=simulation.cerebellum.get_number_of_elements(layer='grclayer'))\n",
    "# Plot the figure\n",
    "plt.subplot(1,2,2)\n",
    "plt.plot(input_conductance_in_pattern[grcgoc_source_cell_index[target_cell_index]],grcgoc_weight[target_cell_index],'.')\n",
    "plt.xlabel('Input Conductance in Pattern')\n",
    "plt.ylabel('GrC-GoC weight')\n",
    "plt.title('Weight vs Pattern input conductance')"
   ]
  },
  {
   "cell_type": "markdown",
   "metadata": {},
   "source": [
    "Analyze the GrC neurons which are strenghted"
   ]
  },
  {
   "cell_type": "code",
   "execution_count": null,
   "metadata": {},
   "outputs": [],
   "source": [
    "# Obtain the list of active GrC-GoC inputs\n",
    "grcgoc_target_cell_index = simulation.cerebellum.layer_map['grcgocsynapsis'].target_index\n",
    "grcgoc_source_cell_index = simulation.cerebellum.layer_map['grcgocsynapsis'].source_index\n",
    "grcgoc_weight = simulation.cerebellum.layer_map['grcgocsynapsis'].weights\n",
    "target_cell_index = grcgoc_target_cell_index==0\n",
    "grcgoc_max_weight = numpy.max(grcgoc_weight[target_cell_index])\n",
    "selected_synapses = numpy.logical_and(grcgoc_weight>grcgoc_max_weight*0.95,target_cell_index)\n",
    "target_count = numpy.bincount(grcgoc_target_cell_index[selected_synapses],minlength=simulation.cerebellum.get_number_of_elements(layer='goclayer'))\n",
    "source_count = numpy.bincount(grcgoc_source_cell_index[selected_synapses],minlength=simulation.cerebellum.get_number_of_elements(layer='grclayer'))\n",
    "plt.figure(figsize=(15,5))\n",
    "plt.subplot(1,2,1)\n",
    "plt.plot(range(0,simulation.cerebellum.get_number_of_elements(layer='goclayer')),target_count,'.')\n",
    "plt.ylabel('Number of selected synapses')\n",
    "plt.xlabel('Number of GoC cells')\n",
    "plt.subplot(1,2,2)\n",
    "plt.plot(range(0,simulation.cerebellum.get_number_of_elements(layer='grclayer')),source_count,'.')\n",
    "plt.ylabel('Number of selected synapses')\n",
    "plt.xlabel('Number of GrC cells')"
   ]
  },
  {
   "cell_type": "markdown",
   "metadata": {},
   "source": [
    "Analyze the firing pattern of the selected GrCs and GoCs"
   ]
  },
  {
   "cell_type": "code",
   "execution_count": null,
   "metadata": {},
   "outputs": [],
   "source": [
    "oscillation_frequency = 8.0\n",
    "init_time = simulation.current_time - 10.0\n",
    "end_time = simulation.current_time\n",
    "grc_time,grc_cell = simulation.cerebellum.get_spike_activity(neuron_layer = 'grclayer',\n",
    "                                                          init_time = init_time, \n",
    "                                                          end_time = end_time)\n",
    "grc_selected_spikes = numpy.isin(grc_cell,numpy.unique(grcgoc_source_cell_index[selected_synapses]))\n",
    "cell_id = grc_cell[grc_selected_spikes]\n",
    "time = grc_time[grc_selected_spikes]\n",
    "grc_phase = numpy.mod(time,1./oscillation_frequency)\n",
    "plt.figure(figsize=(15,5))\n",
    "plt.subplot(1,2,1)\n",
    "plt.hist(grc_phase,bins=50,range=(0,1./oscillation_frequency))\n",
    "plt.title('Firing pattern of selected GrCs')\n",
    "plt.ylabel('Number of GrC Spikes')\n",
    "plt.xlabel('Firing phase (s)')\n",
    "goc_time,goc_cell = simulation.cerebellum.get_spike_activity(neuron_layer = 'goclayer',\n",
    "                                                          init_time = init_time, \n",
    "                                                          end_time = end_time)\n",
    "goc_selected_spikes = numpy.isin(goc_cell,numpy.unique(grcgoc_target_cell_index[selected_synapses]))\n",
    "cell_id = goc_cell[goc_selected_spikes]\n",
    "time = goc_time[goc_selected_spikes]\n",
    "goc_phase = numpy.mod(time,1./oscillation_frequency)\n",
    "plt.subplot(1,2,2)\n",
    "plt.hist(goc_phase,bins=50,range=(0,1./oscillation_frequency))\n",
    "plt.title('Firing pattern of selected GoCs')\n",
    "plt.ylabel('Number of GoC Spikes')\n",
    "plt.xlabel('Firing phase (s)')"
   ]
  },
  {
   "cell_type": "markdown",
   "metadata": {},
   "source": [
    "## Information Analysis"
   ]
  },
  {
   "cell_type": "markdown",
   "metadata": {},
   "source": [
    "Mutual information analysis in the GoC layer"
   ]
  },
  {
   "cell_type": "code",
   "execution_count": null,
   "metadata": {},
   "outputs": [],
   "source": [
    "simulation.analyze_av_MI()"
   ]
  },
  {
   "cell_type": "code",
   "execution_count": null,
   "metadata": {},
   "outputs": [],
   "source": []
  }
 ],
 "metadata": {
  "kernelspec": {
   "display_name": "Python 2",
   "language": "python",
   "name": "python2"
  },
  "language_info": {
   "codemirror_mode": {
    "name": "ipython",
    "version": 2
   },
   "file_extension": ".py",
   "mimetype": "text/x-python",
   "name": "python",
   "nbconvert_exporter": "python",
   "pygments_lexer": "ipython2",
   "version": "2.7.12"
  }
 },
 "nbformat": 4,
 "nbformat_minor": 2
}
