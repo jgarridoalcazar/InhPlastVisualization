{
 "cells": [
  {
   "cell_type": "markdown",
   "metadata": {},
   "source": [
    "# Data anaylsis in cerebellar granular layer simulations (MF-GrC + Connectivity FanIn)\n",
    "## Running the simulation\n",
    "\n",
    "First, we set current working directory to the root of Spiking Granular Layer and insert the source folder to the python path:"
   ]
  },
  {
   "cell_type": "code",
   "execution_count": 1,
   "metadata": {},
   "outputs": [],
   "source": [
    "import os\n",
    "os.chdir('../../')\n",
    "os.getcwd()\n",
    "import sys\n",
    "import numpy\n",
    "%matplotlib notebook\n",
    "import matplotlib.pyplot as plt\n",
    "import time\n",
    "sys.path.insert(1,'./src')"
   ]
  },
  {
   "cell_type": "markdown",
   "metadata": {},
   "source": [
    "## Running the simulation\n",
    "Now start setting a new simulation with the configuration file that we specify:"
   ]
  },
  {
   "cell_type": "code",
   "execution_count": 2,
   "metadata": {},
   "outputs": [],
   "source": [
    "config_file = './config/GrCFanIn/InitialTest.cfg'\n",
    "data_path = './results'\n",
    "simulation_name = 'TestMFGrCPlasticity10'\n",
    "simulation_time = 10\n",
    "analysis_time = 100.0\n",
    "analysis_step = 0.0\n",
    "run_the_simulation = True\n",
    "import SpikingSimulation.FrequencySimulation as FrequencySimulation\n",
    "simulation = FrequencySimulation.FrequencySimulation(config_file=config_file)"
   ]
  },
  {
   "cell_type": "markdown",
   "metadata": {},
   "source": [
    "Set the simulation general parameters"
   ]
  },
  {
   "cell_type": "code",
   "execution_count": 3,
   "metadata": {},
   "outputs": [],
   "source": [
    "simulation.config_options['simulation']['verbosity'] = 'Debug'\n",
    "simulation.config_options['simulation']['seed'] = 123\n",
    "simulation.config_options['simulation']['time'] = simulation_time\n",
    "simulation.config_options['simulation']['data_path'] = data_path\n",
    "simulation.config_options['simulation']['simulation_name'] = simulation_name\n",
    "simulation.config_options['simulation']['register_activity_only_in_test'] = False\n",
    "simulation.config_options['simulation']['run_simulation'] = run_the_simulation\n",
    "simulation.config_options['simulation']['record_to_file'] = True\n",
    "simulation.config_options['simulation']['state_recording_step'] = 10.0\n",
    "simulation.config_options['simulation']['weight_normalization_step'] = 100.0\n",
    "if run_the_simulation:\n",
    "    simulation.config_options['network']['load_file'] = None\n",
    "else:\n",
    "    simulation.config_options['network']['load_file'] = data_path + '/' + simulation_name + '/network.h5'"
   ]
  },
  {
   "cell_type": "markdown",
   "metadata": {},
   "source": [
    "Set the network synaptic parameters of the granular layer"
   ]
  },
  {
   "cell_type": "code",
   "execution_count": 4,
   "metadata": {},
   "outputs": [],
   "source": [
    "# Set the density of neurons per layer (in units/mm3)\n",
    "simulation.config_options['mflayer']['density_of_neurons'] = 300.0e3\n",
    "simulation.config_options['grclayer']['density_of_neurons'] = 4.0e3\n",
    "simulation.config_options['goclayer']['density_of_neurons'] = 9.0e3\n",
    "# Set the neuron dynamic parameters\n",
    "simulation.config_options['grclayer']['cm'] = 2.0e-12\n",
    "simulation.config_options['grclayer']['grest'] = 0.2e-9\n",
    "# Set the MF-GrC connectivity rules and parameters\n",
    "simulation.config_options['mfgrcsynapsis']['connectivity_type'] = 'randomn2onestd'\n",
    "simulation.config_options['mfgrcsynapsis']['average_number_of_source_cells'] = 1000.0\n",
    "simulation.config_options['mfgrcsynapsis']['std_number_of_source_cells'] = 0.5\n",
    "# Set the MF-GrC learning rule and initial weights\n",
    "simulation.config_options['mfgrcsynapsis']['weight_initialization_type'] = 'random'\n",
    "simulation.config_options['mfgrcsynapsis']['random_min_weight'] = 7.0e-12\n",
    "simulation.config_options['mfgrcsynapsis']['random_max_weight'] = 7.5e-12\n",
    "simulation.config_options['mfgrcsynapsis']['weight_recording'] = True\n",
    "simulation.config_options['mfgrcsynapsis']['weight_normalization'] = False\n",
    "#simulation.config_options['mfgrcsynapsis']['learning_rule_type'] = 'eSTDP'\n",
    "simulation.config_options['mfgrcsynapsis']['tau_plus'] = 16.8e-3\n",
    "simulation.config_options['mfgrcsynapsis']['learning_step'] = 2.0e-3\n",
    "simulation.config_options['mfgrcsynapsis']['minus_plus_ratio'] = 1.23\n",
    "simulation.config_options['grclayer']['tau_minus'] = 33.7e-3\n",
    "simulation.config_options['mfgrcsynapsis']['max_weight'] = 3.63e-10"
   ]
  },
  {
   "cell_type": "markdown",
   "metadata": {},
   "source": [
    "Set analysis parameters"
   ]
  },
  {
   "cell_type": "code",
   "execution_count": 5,
   "metadata": {},
   "outputs": [],
   "source": [
    "simulation.config_options['individual_mutual_information']['layer'] = 'grclayer'\n",
    "simulation.config_options['individual_mutual_information']['window_length'] = analysis_time\n",
    "simulation.config_options['hit_top_analysis']['layer'] = 'grclayer'\n",
    "simulation.config_options['hit_top_analysis']['window_length'] = analysis_time\n",
    "simulation.config_options['hit_top_analysis']['number_of_cells'] = 500"
   ]
  },
  {
   "cell_type": "markdown",
   "metadata": {},
   "source": [
    "Initialize the simulation"
   ]
  },
  {
   "cell_type": "code",
   "execution_count": 6,
   "metadata": {},
   "outputs": [
    {
     "name": "stderr",
     "output_type": "stream",
     "text": [
      "2018-06-01 23:43:13,509 - P23120 - MemTotal:67M - Simulation - DEBUG: Simulation time fixed to 10s\n",
      "2018-06-01 23:43:13,538 - P23120 - MemTotal:67M - Simulation - DEBUG: Creating cerebellum generator\n",
      "2018-06-01 23:43:13,639 - P23120 - MemTotal:84M - Simulation - DEBUG: Initializing cerebellum generator\n",
      "2018-06-01 23:43:13,641 - P23120 - MemTotal:84M - Simulation - DEBUG: Removing results folder ./results/TestMFGrCPlasticity10\n",
      "2018-06-01 23:43:13,643 - P23120 - MemTotal:84M - Simulation - DEBUG: Cerebellar simulation initialized\n",
      "2018-06-01 23:43:13,646 - P23120 - MemTotal:84M - Simulation - DEBUG: NEST module loaded\n",
      "2018-06-01 23:43:13,668 - P23120 - MemTotal:87M - Simulation - DEBUG: Setting Global NEST Seed: 134\n",
      "2018-06-01 23:43:13,670 - P23120 - MemTotal:87M - Simulation - DEBUG: Setting Per-Process NEST Seeds: [135, 136, 137, 138, 139, 140, 141, 142, 143, 144]\n",
      "2018-06-01 23:43:13,672 - P23120 - MemTotal:87M - Simulation - WARNING: Non-specified cell model parameter: tau_minus in layer mflayer. Using default value\n",
      "2018-06-01 23:43:13,673 - P23120 - MemTotal:87M - Simulation - WARNING: Non-specified cell model parameter: tau_istdp in layer mflayer. Using default value\n",
      "2018-06-01 23:43:13,675 - P23120 - MemTotal:87M - Simulation - WARNING: Non-specified number of neurons in layer mflayer\n",
      "2018-06-01 23:43:13,677 - P23120 - MemTotal:88M - Simulation - WARNING: Non-specified cell model parameter: tau_istdp in layer grclayer. Using default value\n",
      "2018-06-01 23:43:13,679 - P23120 - MemTotal:88M - Simulation - WARNING: Non-specified number of neurons in layer grclayer\n",
      "2018-06-01 23:43:13,681 - P23120 - MemTotal:88M - Simulation - WARNING: Non-specified cell model parameter: tau_minus in layer goclayer. Using default value\n",
      "2018-06-01 23:43:13,682 - P23120 - MemTotal:88M - Simulation - WARNING: Non-specified cell model parameter: tau_istdp in layer goclayer. Using default value\n",
      "2018-06-01 23:43:13,684 - P23120 - MemTotal:88M - Simulation - WARNING: Non-specified number of neurons in layer goclayer\n",
      "2018-06-01 23:43:13,686 - P23120 - MemTotal:88M - Simulation - WARNING: tau_minus cannot be calculated in layer mflayer. Variable tau_minus is not defined. Using default value 20.0\n",
      "2018-06-01 23:43:13,687 - P23120 - MemTotal:88M - Simulation - WARNING: tau_syn_ex cannot be calculated in layer mflayer. Variable texc is not defined. Using default value 2.0\n",
      "2018-06-01 23:43:13,689 - P23120 - MemTotal:88M - Simulation - WARNING: tau_minus_triplet cannot be calculated in layer mflayer. Variable tau_istdp is not defined. Using default value 110.0\n",
      "2018-06-01 23:43:13,690 - P23120 - MemTotal:88M - Simulation - WARNING: tau_syn_in cannot be calculated in layer mflayer. Variable tinh is not defined. Using default value 2.0\n",
      "2018-06-01 23:43:13,705 - P23120 - MemTotal:96M - Simulation - DEBUG: Nest Process: 0. Neuron layer created in layer mflayer: 2400. Local: 2400\n",
      "2018-06-01 23:43:13,707 - P23120 - MemTotal:96M - Simulation - WARNING: tau_minus_triplet cannot be calculated in layer grclayer. Variable tau_istdp is not defined. Using default value 110.0\n",
      "2018-06-01 23:43:13,718 - P23120 - MemTotal:113M - Simulation - DEBUG: Nest Process: 0. Neuron layer created in layer grclayer: 32. Local: 32\n",
      "2018-06-01 23:43:13,720 - P23120 - MemTotal:113M - Simulation - WARNING: tau_minus cannot be calculated in layer goclayer. Variable tau_minus is not defined. Using default value 20.0\n",
      "2018-06-01 23:43:13,722 - P23120 - MemTotal:113M - Simulation - WARNING: tau_minus_triplet cannot be calculated in layer goclayer. Variable tau_istdp is not defined. Using default value 110.0\n",
      "2018-06-01 23:43:13,729 - P23120 - MemTotal:113M - Simulation - DEBUG: Nest Process: 0. Neuron layer created in layer goclayer: 72. Local: 72\n",
      "2018-06-01 23:43:13,749 - P23120 - MemTotal:120M - Simulation - WARNING: Unrecognized parameter minus_plus_ratio in layer mfgrcsynapsis\n",
      "2018-06-01 23:43:13,751 - P23120 - MemTotal:120M - Simulation - WARNING: Unrecognized parameter tau_plus in layer mfgrcsynapsis\n",
      "2018-06-01 23:43:13,752 - P23120 - MemTotal:120M - Simulation - WARNING: Unrecognized parameter learning_step in layer mfgrcsynapsis\n",
      "2018-06-01 23:43:13,754 - P23120 - MemTotal:120M - Simulation - WARNING: Unrecognized parameter max_weight in layer mfgrcsynapsis\n",
      "2018-06-01 23:43:13,773 - P23120 - MemTotal:122M - Simulation - DEBUG: Nest Process: 0. Connections created in layer mfgrcsynapsis: 31995\n",
      "2018-06-01 23:43:13,991 - P23120 - MemTotal:176M - Simulation - DEBUG: mfgrcsynapsis layer weight recording initialized\n",
      "2018-06-01 23:43:14,008 - P23120 - MemTotal:181M - Simulation - DEBUG: Creating hdf5 activity file ./results/TestMFGrCPlasticity10/activity.h5\n",
      "2018-06-01 23:43:14,010 - P23120 - MemTotal:181M - Simulation - DEBUG: Creating group layer grclayer\n",
      "2018-06-01 23:43:14,011 - P23120 - MemTotal:181M - Simulation - DEBUG: Creating activity dataset grclayer\n",
      "2018-06-01 23:43:14,013 - P23120 - MemTotal:181M - Simulation - DEBUG: Creating group layer goclayer\n",
      "2018-06-01 23:43:14,015 - P23120 - MemTotal:181M - Simulation - DEBUG: Creating activity dataset goclayer\n",
      "2018-06-01 23:43:14,017 - P23120 - MemTotal:181M - Simulation - INFO: Saving network to hdf5 file ./results/TestMFGrCPlasticity10/network.h5\n",
      "2018-06-01 23:43:14,217 - P23120 - MemTotal:182M - Simulation - DEBUG: Creating hdf5 activity file ./results/TestMFGrCPlasticity10/network.h5\n",
      "2018-06-01 23:43:14,219 - P23120 - MemTotal:182M - Simulation - DEBUG: Writing neuron layer mflayer\n",
      "2018-06-01 23:43:14,221 - P23120 - MemTotal:182M - Simulation - DEBUG: Writing neuron layer grclayer\n",
      "2018-06-01 23:43:14,222 - P23120 - MemTotal:182M - Simulation - DEBUG: Writing neuron layer goclayer\n",
      "2018-06-01 23:43:14,224 - P23120 - MemTotal:182M - Simulation - DEBUG: Writing neuron layer mfgrcsynapsis\n",
      "2018-06-01 23:43:14,229 - P23120 - MemTotal:182M - Simulation - DEBUG: File writing ended\n",
      "2018-06-01 23:43:14,231 - P23120 - MemTotal:182M - Simulation - DEBUG: Creating AC Current generator\n",
      "2018-06-01 23:43:14,237 - P23120 - MemTotal:182M - Simulation - DEBUG: Creating DC Current generator\n",
      "2018-06-01 23:43:14,254 - P23120 - MemTotal:182M - Simulation - DEBUG: Normalization on iteration 10\n",
      "2018-06-01 23:43:14,256 - P23120 - MemTotal:182M - Simulation - DEBUG: Average sum per columns 1196.3135518382678\n",
      "2018-06-01 23:43:14,257 - P23120 - MemTotal:182M - Simulation - DEBUG: Average sum per rows 16.44931133777618\n",
      "2018-06-01 23:43:14,259 - P23120 - MemTotal:182M - Simulation - INFO: Saving activation patterns to hdf5 file ./results/TestMFGrCPlasticity10/stimulation_pattern.h5\n",
      "2018-06-01 23:43:14,261 - P23120 - MemTotal:182M - Simulation - DEBUG: Writing stimulation pattern bin length\n",
      "2018-06-01 23:43:14,263 - P23120 - MemTotal:182M - Simulation - DEBUG: Writing pattern activation matrix\n",
      "2018-06-01 23:43:14,264 - P23120 - MemTotal:182M - Simulation - DEBUG: Writing activation levels of simulation\n",
      "2018-06-01 23:43:14,267 - P23120 - MemTotal:182M - Simulation - DEBUG: Writing stimulation pattern 0\n",
      "2018-06-01 23:43:14,269 - P23120 - MemTotal:182M - Simulation - DEBUG: File writing ended\n"
     ]
    }
   ],
   "source": [
    "# Set the rate of fibers in pattern\n",
    "simulation.config_options['stimulation']['rate_of_fibers_in_pattern'] = 0.10\n",
    "simulation.config_options['network']['length'] = 2.0e-1\n",
    "simulation.initialize()"
   ]
  },
  {
   "cell_type": "markdown",
   "metadata": {},
   "source": [
    "Visualize the simulation or only run it."
   ]
  },
  {
   "cell_type": "code",
   "execution_count": 7,
   "metadata": {},
   "outputs": [
    {
     "name": "stderr",
     "output_type": "stream",
     "text": [
      "2018-06-01 23:43:14,307 - P23120 - MemTotal:182M - Simulation - INFO: Running the simulation from 0.0s until time 10s\n",
      "2018-06-01 23:43:14,331 - P23120 - MemTotal:182M - Simulation - DEBUG: Running the simulation 0.136s until 0.136s\n",
      "2018-06-01 23:43:14,527 - P23120 - MemTotal:182M - Simulation - DEBUG: Simulation time is 0.194599151611 seconds. Real-time rate: 0.6988725226902947\n",
      "2018-06-01 23:43:14,547 - P23120 - MemTotal:182M - Simulation - DEBUG: Running the simulation 0.035s until 0.171s\n",
      "2018-06-01 23:43:14,610 - P23120 - MemTotal:182M - Simulation - DEBUG: Simulation time is 0.0611870288849 seconds. Real-time rate: 0.5720166616660888\n",
      "2018-06-01 23:43:14,628 - P23120 - MemTotal:183M - Simulation - DEBUG: Running the simulation 0.028999999999999998s until 0.2s\n",
      "2018-06-01 23:43:14,676 - P23120 - MemTotal:183M - Simulation - DEBUG: Simulation time is 0.0466921329498 seconds. Real-time rate: 0.6210896390439182\n",
      "2018-06-01 23:43:14,693 - P23120 - MemTotal:183M - Simulation - DEBUG: Running the simulation 0.038000000000000006s until 0.23800000000000002s\n",
      "2018-06-01 23:43:14,771 - P23120 - MemTotal:183M - Simulation - DEBUG: Simulation time is 0.0763649940491 seconds. Real-time rate: 0.49761020050078375\n",
      "2018-06-01 23:43:14,789 - P23120 - MemTotal:183M - Simulation - DEBUG: Running the simulation 0.145s until 0.383s\n",
      "2018-06-01 23:43:14,975 - P23120 - MemTotal:183M - Simulation - DEBUG: Simulation time is 0.183231115341 seconds. Real-time rate: 0.791350310398984\n",
      "2018-06-01 23:43:14,991 - P23120 - MemTotal:183M - Simulation - DEBUG: Running the simulation 0.33499999999999996s until 0.718s\n",
      "2018-06-01 23:43:15,370 - P23120 - MemTotal:183M - Simulation - DEBUG: Simulation time is 0.377764940262 seconds. Real-time rate: 0.8867948406429693\n",
      "2018-06-01 23:43:15,386 - P23120 - MemTotal:183M - Simulation - DEBUG: Running the simulation 0.05700000000000005s until 0.775s\n",
      "2018-06-01 23:43:15,467 - P23120 - MemTotal:183M - Simulation - DEBUG: Simulation time is 0.0794320106506 seconds. Real-time rate: 0.7175948277414598\n",
      "2018-06-01 23:43:15,484 - P23120 - MemTotal:183M - Simulation - DEBUG: Running the simulation 0.09299999999999997s until 0.868s\n",
      "2018-06-01 23:43:15,607 - P23120 - MemTotal:183M - Simulation - DEBUG: Simulation time is 0.121466875076 seconds. Real-time rate: 0.7656408378134879\n",
      "2018-06-01 23:43:15,624 - P23120 - MemTotal:183M - Simulation - DEBUG: Running the simulation 0.20400000000000007s until 1.072s\n",
      "2018-06-01 23:43:15,860 - P23120 - MemTotal:183M - Simulation - DEBUG: Simulation time is 0.235126972198 seconds. Real-time rate: 0.8676163270107101\n",
      "2018-06-01 23:43:15,877 - P23120 - MemTotal:183M - Simulation - DEBUG: Running the simulation 0.5659999999999998s until 1.638s\n",
      "2018-06-01 23:43:16,499 - P23120 - MemTotal:183M - Simulation - DEBUG: Simulation time is 0.620234012604 seconds. Real-time rate: 0.9125587899056293\n",
      "2018-06-01 23:43:16,515 - P23120 - MemTotal:183M - Simulation - DEBUG: Running the simulation 0.1160000000000001s until 1.754s\n",
      "2018-06-01 23:43:16,660 - P23120 - MemTotal:183M - Simulation - DEBUG: Simulation time is 0.142508983612 seconds. Real-time rate: 0.8139837718285643\n",
      "2018-06-01 23:43:16,676 - P23120 - MemTotal:183M - Simulation - DEBUG: Running the simulation 0.7010000000000001s until 2.455s\n",
      "2018-06-01 23:43:17,402 - P23120 - MemTotal:183M - Simulation - DEBUG: Simulation time is 0.724509954453 seconds. Real-time rate: 0.9675505432216177\n",
      "2018-06-01 23:43:17,419 - P23120 - MemTotal:183M - Simulation - DEBUG: Running the simulation 0.0950000000000002s until 2.5500000000000003s\n",
      "2018-06-01 23:43:17,558 - P23120 - MemTotal:183M - Simulation - DEBUG: Simulation time is 0.137038946152 seconds. Real-time rate: 0.693233585544459\n",
      "2018-06-01 23:43:17,574 - P23120 - MemTotal:183M - Simulation - DEBUG: Running the simulation 0.3690000000000002s until 2.9190000000000005s\n",
      "2018-06-01 23:43:17,975 - P23120 - MemTotal:183M - Simulation - DEBUG: Simulation time is 0.398768901825 seconds. Real-time rate: 0.9253479855407113\n",
      "2018-06-01 23:43:18,004 - P23120 - MemTotal:183M - Simulation - DEBUG: Running the simulation 0.29899999999999993s until 3.2180000000000004s\n",
      "2018-06-01 23:43:18,385 - P23120 - MemTotal:183M - Simulation - DEBUG: Simulation time is 0.379534959793 seconds. Real-time rate: 0.787806214644902\n",
      "2018-06-01 23:43:18,401 - P23120 - MemTotal:183M - Simulation - DEBUG: Running the simulation 0.661s until 3.8790000000000004s\n",
      "2018-06-01 23:43:19,087 - P23120 - MemTotal:183M - Simulation - DEBUG: Simulation time is 0.683737039566 seconds. Real-time rate: 0.9667459297210651\n",
      "2018-06-01 23:43:19,103 - P23120 - MemTotal:183M - Simulation - DEBUG: Running the simulation 0.03299999999999992s until 3.9120000000000004s\n",
      "2018-06-01 23:43:19,148 - P23120 - MemTotal:183M - Simulation - DEBUG: Simulation time is 0.043359041214 seconds. Real-time rate: 0.761086940025622\n",
      "2018-06-01 23:43:19,167 - P23120 - MemTotal:183M - Simulation - DEBUG: Running the simulation 0.14500000000000002s until 4.057s\n",
      "2018-06-01 23:43:19,352 - P23120 - MemTotal:183M - Simulation - DEBUG: Simulation time is 0.182366847992 seconds. Real-time rate: 0.7951006534170392\n",
      "2018-06-01 23:43:19,368 - P23120 - MemTotal:183M - Simulation - DEBUG: Running the simulation 0.15700000000000003s until 4.214s\n",
      "2018-06-01 23:43:19,551 - P23120 - MemTotal:183M - Simulation - DEBUG: Simulation time is 0.181662082672 seconds. Real-time rate: 0.8642419909022425\n",
      "2018-06-01 23:43:19,582 - P23120 - MemTotal:183M - Simulation - DEBUG: Running the simulation 0.1559999999999997s until 4.37s\n",
      "2018-06-01 23:43:19,762 - P23120 - MemTotal:183M - Simulation - DEBUG: Simulation time is 0.178229093552 seconds. Real-time rate: 0.8752779744952475\n",
      "2018-06-01 23:43:19,778 - P23120 - MemTotal:183M - Simulation - DEBUG: Running the simulation 0.17100000000000026s until 4.541s\n",
      "2018-06-01 23:43:20,017 - P23120 - MemTotal:183M - Simulation - DEBUG: Simulation time is 0.237384080887 seconds. Real-time rate: 0.7203515895470457\n",
      "2018-06-01 23:43:20,034 - P23120 - MemTotal:183M - Simulation - DEBUG: Running the simulation 0.1900000000000004s until 4.731000000000001s\n",
      "2018-06-01 23:43:20,250 - P23120 - MemTotal:183M - Simulation - DEBUG: Simulation time is 0.213613986969 seconds. Real-time rate: 0.8894548652733059\n",
      "2018-06-01 23:43:20,266 - P23120 - MemTotal:183M - Simulation - DEBUG: Running the simulation 0.11800000000000033s until 4.849000000000001s\n",
      "2018-06-01 23:43:20,430 - P23120 - MemTotal:183M - Simulation - DEBUG: Simulation time is 0.162691116333 seconds. Real-time rate: 0.7253008194895503\n",
      "2018-06-01 23:43:20,446 - P23120 - MemTotal:183M - Simulation - DEBUG: Running the simulation 0.043999999999999595s until 4.893000000000001s\n",
      "2018-06-01 23:43:20,534 - P23120 - MemTotal:183M - Simulation - DEBUG: Simulation time is 0.0856170654297 seconds. Real-time rate: 0.5139162359650639\n",
      "2018-06-01 23:43:20,552 - P23120 - MemTotal:183M - Simulation - DEBUG: Running the simulation 0.11000000000000032s until 5.003000000000001s\n",
      "2018-06-01 23:43:20,700 - P23120 - MemTotal:183M - Simulation - DEBUG: Simulation time is 0.146558046341 seconds. Real-time rate: 0.7505558565109691\n",
      "2018-06-01 23:43:20,716 - P23120 - MemTotal:183M - Simulation - DEBUG: Running the simulation 0.9299999999999997s until 5.933000000000001s\n",
      "2018-06-01 23:43:21,667 - P23120 - MemTotal:183M - Simulation - DEBUG: Simulation time is 0.948656082153 seconds. Real-time rate: 0.9803341985527845\n",
      "2018-06-01 23:43:21,682 - P23120 - MemTotal:183M - Simulation - DEBUG: Running the simulation 0.4939999999999998s until 6.4270000000000005s\n",
      "2018-06-01 23:43:22,229 - P23120 - MemTotal:183M - Simulation - DEBUG: Simulation time is 0.544942140579 seconds. Real-time rate: 0.9065182580207928\n",
      "2018-06-01 23:43:22,244 - P23120 - MemTotal:183M - Simulation - DEBUG: Running the simulation 0.5030000000000001s until 6.930000000000001s\n",
      "2018-06-01 23:43:22,788 - P23120 - MemTotal:183M - Simulation - DEBUG: Simulation time is 0.541679143906 seconds. Real-time rate: 0.9285939945430548\n",
      "2018-06-01 23:43:22,805 - P23120 - MemTotal:183M - Simulation - DEBUG: Running the simulation 0.27500000000000036s until 7.205000000000001s\n",
      "2018-06-01 23:43:23,122 - P23120 - MemTotal:183M - Simulation - DEBUG: Simulation time is 0.315764188766 seconds. Real-time rate: 0.8709030655891573\n"
     ]
    },
    {
     "name": "stderr",
     "output_type": "stream",
     "text": [
      "2018-06-01 23:43:23,139 - P23120 - MemTotal:183M - Simulation - DEBUG: Running the simulation 0.5010000000000003s until 7.706000000000001s\n",
      "2018-06-01 23:43:23,651 - P23120 - MemTotal:183M - Simulation - DEBUG: Simulation time is 0.509938955307 seconds. Real-time rate: 0.9824705384556769\n",
      "2018-06-01 23:43:23,667 - P23120 - MemTotal:183M - Simulation - DEBUG: Running the simulation 0.07800000000000029s until 7.784000000000002s\n",
      "2018-06-01 23:43:23,760 - P23120 - MemTotal:183M - Simulation - DEBUG: Simulation time is 0.0906250476837 seconds. Real-time rate: 0.8606892023077624\n",
      "2018-06-01 23:43:23,776 - P23120 - MemTotal:183M - Simulation - DEBUG: Running the simulation 0.9500000000000002s until 8.734000000000002s\n",
      "2018-06-01 23:43:24,770 - P23120 - MemTotal:183M - Simulation - DEBUG: Simulation time is 0.992230892181 seconds. Real-time rate: 0.9574384424893759\n",
      "2018-06-01 23:43:24,787 - P23120 - MemTotal:183M - Simulation - DEBUG: Running the simulation 1.2659999999999982s until 10.0s\n",
      "2018-06-01 23:43:26,090 - P23120 - MemTotal:183M - Simulation - DEBUG: Simulation time is 1.30041408539 seconds. Real-time rate: 0.9735360561109945\n",
      "2018-06-01 23:43:26,092 - P23120 - MemTotal:183M - Simulation - DEBUG: Resizing activity dataset of layer grclayer\n",
      "2018-06-01 23:43:26,094 - P23120 - MemTotal:183M - Simulation - DEBUG: Saving network state to file ./results/TestMFGrCPlasticity10/network.h5\n"
     ]
    }
   ],
   "source": [
    "#simulation.visualize_animation()\n",
    "if analysis_step>0.0:\n",
    "    #Hit_evolution = []\n",
    "    MI_evolution = []\n",
    "    time_evolution = []\n",
    "    fig = plt.figure(figsize=(8,4))\n",
    "    axis = fig.add_subplot(1,2,1)\n",
    "    line,= axis.plot(time_evolution,MI_evolution)\n",
    "    #line2,=axis.plot(time_evolution,Hit_evolution)\n",
    "    axis.set_title('MI & Hit evolution')\n",
    "    axis.set_xlabel('Time (s)')\n",
    "    axis.set_ylabel('MI (bits)')\n",
    "    axis.set_xlim([0,simulation_time])\n",
    "    axis.set_ylim([0,1])\n",
    "    axis2 = fig.add_subplot(1,2,2)\n",
    "    target_cell_index = simulation.cerebellum.layer_map['mfgrcsynapsis'].target_index\n",
    "    source_cell_index = simulation.cerebellum.layer_map['mfgrcsynapsis'].source_index\n",
    "    weight = simulation.cerebellum.layer_map['mfgrcsynapsis'].weights\n",
    "    n,bins,_ = axis2.hist(weight, bins=20)\n",
    "    #line3,= axis2.plot(bins[:-1],n)\n",
    "    axis2.set_title('Weight Histogram')\n",
    "    axis2.set_xlabel('Weight (nS)')\n",
    "    axis2.set_ylabel('Synapses count')\n",
    "    axis2.set_xlim([0,simulation.config_options['mfgrcsynapsis']['max_weight']])\n",
    "    fig.canvas.draw()\n",
    "    \n",
    "    for sim_time in numpy.arange(simulation.config_options['individual_mutual_information']['window_length'],simulation_time,analysis_step):\n",
    "        simulation.run_simulation(end_time=sim_time)\n",
    "        av_MI=simulation.analyze_av_MI()[0][0]\n",
    "        #av_Hit=simulation.analyze_Hits_Top()[0]\n",
    "        time_evolution.append(sim_time)\n",
    "        MI_evolution.append(av_MI)\n",
    "        #Hit_evolution.append(av_Hit)\n",
    "        line.set_xdata(time_evolution)\n",
    "        line.set_ydata(MI_evolution)\n",
    "        _,_,weight =simulation.cerebellum.get_synaptic_weights(synaptic_layer='mfgrcsynapsis', init_time=0, end_time=sim_time)\n",
    "        weight=weight[:,-1]\n",
    "        axis2.cla()\n",
    "        n, bins,_ = axis2.hist(weight, bins=20)\n",
    "        axis2.set_title('Weight Histogram')\n",
    "        axis2.set_xlabel('Weight (nS)')\n",
    "        axis2.set_ylabel('Synapses count')\n",
    "        axis2.set_xlim([0,simulation.config_options['mfgrcsynapsis']['max_weight']])\n",
    "        #line3.set_xdata(bins[:-1])\n",
    "        #line3.set_ydata(n)\n",
    "        #line2.set_xdata(time_evolution)\n",
    "        #line2.set_ydata(Hit_evolution)\n",
    "        fig.canvas.draw()\n",
    "        time.sleep(1)    \n",
    "else:\n",
    "    simulation.run_simulation()"
   ]
  },
  {
   "cell_type": "markdown",
   "metadata": {},
   "source": [
    "Save the network state after the simulation"
   ]
  },
  {
   "cell_type": "code",
   "execution_count": 8,
   "metadata": {},
   "outputs": [
    {
     "name": "stderr",
     "output_type": "stream",
     "text": [
      "2018-06-01 23:43:26,406 - P23120 - MemTotal:207M - Simulation - DEBUG: Saving network state to file ./results/TestMFGrCPlasticity10/network.h5\n"
     ]
    }
   ],
   "source": [
    "simulation.cerebellum.update_network_weights()\n",
    "simulation.cerebellum.save_network_state()"
   ]
  },
  {
   "cell_type": "markdown",
   "metadata": {},
   "source": [
    "## GrC activity analysis"
   ]
  },
  {
   "cell_type": "markdown",
   "metadata": {},
   "source": [
    "Show the GrC acticity rasterplot"
   ]
  },
  {
   "cell_type": "code",
   "execution_count": 16,
   "metadata": {},
   "outputs": [
    {
     "data": {
      "image/png": "[encoded data removed]",
      "text/plain": [
       "<matplotlib.figure.Figure at 0x7fbd7ed390d0>"
      ]
     },
     "metadata": {},
     "output_type": "display_data"
    }
   ],
   "source": [
    "init_time = simulation.current_time - 9.0\n",
    "end_time = simulation.current_time - 8.0\n",
    "min_neuron = 0\n",
    "max_neuron = 100\n",
    "#max_neuron = simulation.cerebellum.get_number_of_elements(layer='grclayer')\n",
    "gtime,gcell_id = simulation.cerebellum.get_spike_activity(neuron_layer = 'grclayer', init_time = init_time, end_time = end_time, neuron_indexes=range(min_neuron,max_neuron))\n",
    "plt.figure()\n",
    "plt.plot(gtime,gcell_id, '.')\n",
    "plt.ylabel('GrC Cell Number')\n",
    "plt.xlabel('Simulation time (s)')\n",
    "selected_bins = numpy.logical_and(simulation.pattern_length_cum<end_time,simulation.pattern_length_cum>init_time)\n",
    "index = numpy.where(selected_bins)[0]\n",
    "index = numpy.append([max(index[0]-1,0)],index)\n",
    "index = numpy.append(index,[min(index[-1]+1,simulation.pattern_length.size-1)])\n",
    "pattern_id = 0\n",
    "for idx in index[:-1]:\n",
    "    if simulation.pattern_generator.bin_is_in_pattern[idx+1,pattern_id]:\n",
    "        plt.axvspan(simulation.pattern_length_cum[idx], simulation.pattern_length_cum[idx+1], facecolor='b', alpha=0.1)\n",
    "plt.show()"
   ]
  },
  {
   "cell_type": "markdown",
   "metadata": {},
   "source": [
    "Calculate the average firing frequency of each granular cells during the ending 100 seconds"
   ]
  },
  {
   "cell_type": "code",
   "execution_count": 10,
   "metadata": {},
   "outputs": [
    {
     "name": "stdout",
     "output_type": "stream",
     "text": [
      "Average spike per oscillatory cycle: 0.2859375 Hz\n"
     ]
    },
    {
     "data": {
      "text/plain": [
       "Text(0.5,0,u'Av. Spikes per Oscillatory Cycle')"
      ]
     },
     "execution_count": 10,
     "metadata": {},
     "output_type": "execute_result"
    },
    {
     "data": {
      "image/png": "[encoded data removed]",
      "text/plain": [
       "<matplotlib.figure.Figure at 0x7fbdf0eec190>"
      ]
     },
     "metadata": {},
     "output_type": "display_data"
    }
   ],
   "source": [
    "init_time = simulation.current_time - 100.0\n",
    "end_time = simulation.current_time\n",
    "gtime,gcell_id = simulation.cerebellum.get_spike_activity(neuron_layer = 'grclayer',\n",
    "                                                          init_time = init_time, \n",
    "                                                          end_time = end_time)\n",
    "import numpy\n",
    "firing_frequency = numpy.bincount(gcell_id) / ((end_time-init_time)*8.0)\n",
    "av_firing_rate = numpy.average(firing_frequency)\n",
    "print 'Average spike per oscillatory cycle:',av_firing_rate,'Hz'\n",
    "%matplotlib inline\n",
    "import matplotlib.pyplot as plt\n",
    "plt.hist(firing_frequency, bins=20)\n",
    "plt.ylabel('Number of GrC cells')\n",
    "plt.xlabel('Av. Spikes per Oscillatory Cycle')"
   ]
  },
  {
   "cell_type": "markdown",
   "metadata": {},
   "source": [
    "Plot the histogram of non-zero weights between MF and GrC"
   ]
  },
  {
   "cell_type": "code",
   "execution_count": 11,
   "metadata": {},
   "outputs": [
    {
     "name": "stdout",
     "output_type": "stream",
     "text": [
      "0.0\n"
     ]
    },
    {
     "data": {
      "image/png": "[encoded data removed]",
      "text/plain": [
       "<matplotlib.figure.Figure at 0x7fbdf05ed7d0>"
      ]
     },
     "metadata": {},
     "output_type": "display_data"
    },
    {
     "name": "stdout",
     "output_type": "stream",
     "text": [
      "10.0\n"
     ]
    },
    {
     "data": {
      "image/png": "[encoded data removed]",
      "text/plain": [
       "<matplotlib.figure.Figure at 0x7fbda8ac1a10>"
      ]
     },
     "metadata": {},
     "output_type": "display_data"
    },
    {
     "name": "stdout",
     "output_type": "stream",
     "text": [
      "Number of active synapses MF-GrC: 31995\n",
      "Weight sum histogram MF-GrC: 31995\n"
     ]
    },
    {
     "data": {
      "image/png": "[encoded data removed]",
      "text/plain": [
       "<matplotlib.figure.Figure at 0x7fbda8bce550>"
      ]
     },
     "metadata": {},
     "output_type": "display_data"
    },
    {
     "data": {
      "image/png": "[encoded data removed]",
      "text/plain": [
       "<matplotlib.figure.Figure at 0x7fbda8b0a990>"
      ]
     },
     "metadata": {},
     "output_type": "display_data"
    }
   ],
   "source": [
    "target_cell_index = simulation.cerebellum.layer_map['mfgrcsynapsis'].target_index\n",
    "source_cell_index = simulation.cerebellum.layer_map['mfgrcsynapsis'].source_index\n",
    "#weight = simulation.cerebellum.layer_map['mfgrcsynapsis'].weights\n",
    "time_list,_,weight_list =simulation.cerebellum.get_synaptic_weights(synaptic_layer='mfgrcsynapsis', init_time=0, end_time=simulation_time)\n",
    "for idx,time in enumerate(time_list):\n",
    "    print time\n",
    "    weight=weight_list[:,idx]\n",
    "    plt.figure()\n",
    "    plt.hist(weight, bins=20)\n",
    "    plt.ylabel('Number of MF-GrC synapses')\n",
    "    plt.xlabel('Synaptic Weight')\n",
    "    plt.show()\n",
    "max_weight = numpy.max(weight)\n",
    "active_synapses = weight>max_weight*0.5\n",
    "number_of_active_inputs = numpy.bincount(target_cell_index[active_synapses])\n",
    "plt.figure()\n",
    "plt.hist(number_of_active_inputs, bins=10)\n",
    "plt.ylabel('Number of GrC cells')\n",
    "plt.xlabel('Number of active inputs')\n",
    "print 'Number of active synapses MF-GrC:',numpy.count_nonzero(active_synapses)\n",
    "max_weight = numpy.max(weight)\n",
    "active_synapses = weight>max_weight*0.5\n",
    "weight_sum = numpy.bincount(target_cell_index,weights=weight)\n",
    "plt.figure()\n",
    "plt.hist(weight_sum, bins=20)\n",
    "plt.ylabel('Number of GrC cells')\n",
    "plt.xlabel('Weight sum')\n",
    "print 'Weight sum histogram MF-GrC:',numpy.count_nonzero(active_synapses)"
   ]
  },
  {
   "cell_type": "markdown",
   "metadata": {},
   "source": [
    "\n",
    "Histogram of active synapses connecting input fibers included in the pattern"
   ]
  },
  {
   "cell_type": "code",
   "execution_count": 12,
   "metadata": {},
   "outputs": [
    {
     "name": "stdout",
     "output_type": "stream",
     "text": [
      "Number of active MF-GrC synapses also included in pattern 0 : 3206\n"
     ]
    },
    {
     "data": {
      "image/png": "[encoded data removed]",
      "text/plain": [
       "<matplotlib.figure.Figure at 0x7fbda8bbce50>"
      ]
     },
     "metadata": {},
     "output_type": "display_data"
    },
    {
     "data": {
      "image/png": "[encoded data removed]",
      "text/plain": [
       "<matplotlib.figure.Figure at 0x7fbda8a8f210>"
      ]
     },
     "metadata": {},
     "output_type": "display_data"
    }
   ],
   "source": [
    "for pat_id in range(simulation.pattern_generator.number_of_patterns):\n",
    "    included_in_pattern = numpy.in1d(source_cell_index, simulation.pattern_generator.fibers_in_pattern[pat_id,:])\n",
    "    included_and_active = numpy.logical_and(included_in_pattern,active_synapses)\n",
    "    number_of_active_inputs_in_pattern = numpy.bincount(target_cell_index[included_and_active],minlength=simulation.cerebellum.get_number_of_elements(layer='grclayer'))\n",
    "    plt.figure()\n",
    "    n,_,_=plt.hist(number_of_active_inputs_in_pattern, bins=4, density=True)\n",
    "    plt.ylabel('Number of GrC cells')\n",
    "    plt.xlabel('Number of active inputs in pattern')\n",
    "    print 'Number of active MF-GrC synapses also included in pattern',pat_id,':', numpy.count_nonzero(included_and_active)\n",
    "    plt.figure()\n",
    "    simulation.pattern_generator.fibers_in_pattern[0,:]\n",
    "    activation_level = [simulation.pattern_generator.pattern_activation[pat_id,numpy.where(simulation.pattern_generator.fibers_in_pattern[pat_id,:]==source)[0][0]] \n",
    "                    for source in source_cell_index[included_and_active]]\n",
    "    plt.hist(activation_level, bins=20)\n",
    "    plt.ylabel('Number of active synapses')\n",
    "    plt.xlabel('Activation level')"
   ]
  },
  {
   "cell_type": "markdown",
   "metadata": {},
   "source": [
    "## GoC activity analysis"
   ]
  },
  {
   "cell_type": "markdown",
   "metadata": {},
   "source": [
    "Show the GoC acticity rasterplot"
   ]
  },
  {
   "cell_type": "code",
   "execution_count": 13,
   "metadata": {},
   "outputs": [
    {
     "data": {
      "image/png": "[encoded data removed]",
      "text/plain": [
       "<matplotlib.figure.Figure at 0x7fbda8bbcad0>"
      ]
     },
     "metadata": {},
     "output_type": "display_data"
    }
   ],
   "source": [
    "init_time = simulation.current_time - 10.0\n",
    "end_time = simulation.current_time\n",
    "min_neuron = 0\n",
    "max_neuron = simulation.cerebellum.get_number_of_elements(layer='goclayer')\n",
    "pattern_id = 0\n",
    "gtime,gcell_id = simulation.cerebellum.get_spike_activity(neuron_layer = 'goclayer', init_time = init_time, end_time = end_time, neuron_indexes=range(min_neuron,max_neuron))\n",
    "plt.figure(figsize=(20,15))\n",
    "plt.plot(gtime,gcell_id, '.')\n",
    "plt.ylabel('GoC Cell Number')\n",
    "plt.xlabel('Simulation time (s)')\n",
    "plt.xlim(init_time,end_time)\n",
    "selected_bins = numpy.logical_and(simulation.pattern_length_cum<end_time,simulation.pattern_length_cum>init_time)\n",
    "index = numpy.where(selected_bins)[0]\n",
    "index = numpy.append([max(index[0]-1,0)],index)\n",
    "index = numpy.append(index,[min(index[-1]+1,simulation.pattern_length.size-1)])\n",
    "for idx in index[:-1]:\n",
    "    if simulation.pattern_generator.bin_is_in_pattern[idx+1,pattern_id]:\n",
    "        plt.axvspan(simulation.pattern_length_cum[idx], simulation.pattern_length_cum[idx+1], facecolor='b', alpha=0.1)"
   ]
  },
  {
   "cell_type": "markdown",
   "metadata": {},
   "source": [
    "Calculate the average firing frequency of each golgi cells during the ending 100 seconds"
   ]
  },
  {
   "cell_type": "code",
   "execution_count": 14,
   "metadata": {},
   "outputs": [
    {
     "name": "stdout",
     "output_type": "stream",
     "text": [
      "Average spike per oscillatory cycle: nan Hz\n"
     ]
    },
    {
     "name": "stderr",
     "output_type": "stream",
     "text": [
      "/usr/local/lib/python2.7/dist-packages/numpy/lib/function_base.py:1128: RuntimeWarning: Mean of empty slice.\n",
      "  avg = a.mean(axis)\n",
      "/usr/local/lib/python2.7/dist-packages/numpy/core/_methods.py:80: RuntimeWarning: invalid value encountered in double_scalars\n",
      "  ret = ret.dtype.type(ret / rcount)\n"
     ]
    },
    {
     "data": {
      "text/plain": [
       "Text(0.5,0,u'Av. Spikes per Oscillatory Cycle')"
      ]
     },
     "execution_count": 14,
     "metadata": {},
     "output_type": "execute_result"
    },
    {
     "data": {
      "image/png": "[encoded data removed]",
      "text/plain": [
       "<matplotlib.figure.Figure at 0x7fbd7edd19d0>"
      ]
     },
     "metadata": {},
     "output_type": "display_data"
    }
   ],
   "source": [
    "gtime,gcell_id = simulation.cerebellum.get_spike_activity(neuron_layer = 'goclayer',\n",
    "                                                          init_time = simulation.current_time-simulation_time, \n",
    "                                                          end_time = simulation.current_time)\n",
    "import numpy\n",
    "firing_frequency = numpy.bincount(gcell_id) / (simulation_time*8.0)\n",
    "av_firing_rate = numpy.average(firing_frequency)\n",
    "print 'Average spike per oscillatory cycle:',av_firing_rate,'Hz'\n",
    "%matplotlib inline\n",
    "import matplotlib.pyplot as plt\n",
    "plt.hist(firing_frequency, bins=20)\n",
    "plt.ylabel('Number of GoC cells')\n",
    "plt.xlabel('Av. Spikes per Oscillatory Cycle')"
   ]
  },
  {
   "cell_type": "markdown",
   "metadata": {},
   "source": [
    "Plot the histogram of non-zero weights between GrC and GoC"
   ]
  },
  {
   "cell_type": "code",
   "execution_count": 15,
   "metadata": {},
   "outputs": [
    {
     "ename": "KeyError",
     "evalue": "'grcgocsynapsis'",
     "output_type": "error",
     "traceback": [
      "\u001b[1;31m---------------------------------------------------------------------------\u001b[0m",
      "\u001b[1;31mKeyError\u001b[0m                                  Traceback (most recent call last)",
      "\u001b[1;32m<ipython-input-15-8d18df6e87dd>\u001b[0m in \u001b[0;36m<module>\u001b[1;34m()\u001b[0m\n\u001b[1;32m----> 1\u001b[1;33m \u001b[0mtarget_cell_index\u001b[0m \u001b[1;33m=\u001b[0m \u001b[0msimulation\u001b[0m\u001b[1;33m.\u001b[0m\u001b[0mcerebellum\u001b[0m\u001b[1;33m.\u001b[0m\u001b[0mlayer_map\u001b[0m\u001b[1;33m[\u001b[0m\u001b[1;34m'grcgocsynapsis'\u001b[0m\u001b[1;33m]\u001b[0m\u001b[1;33m.\u001b[0m\u001b[0mtarget_index\u001b[0m\u001b[1;33m\u001b[0m\u001b[0m\n\u001b[0m\u001b[0;32m      2\u001b[0m \u001b[0msource_cell_index\u001b[0m \u001b[1;33m=\u001b[0m \u001b[0msimulation\u001b[0m\u001b[1;33m.\u001b[0m\u001b[0mcerebellum\u001b[0m\u001b[1;33m.\u001b[0m\u001b[0mlayer_map\u001b[0m\u001b[1;33m[\u001b[0m\u001b[1;34m'grcgocsynapsis'\u001b[0m\u001b[1;33m]\u001b[0m\u001b[1;33m.\u001b[0m\u001b[0msource_index\u001b[0m\u001b[1;33m\u001b[0m\u001b[0m\n\u001b[0;32m      3\u001b[0m \u001b[0mweight\u001b[0m \u001b[1;33m=\u001b[0m \u001b[0msimulation\u001b[0m\u001b[1;33m.\u001b[0m\u001b[0mcerebellum\u001b[0m\u001b[1;33m.\u001b[0m\u001b[0mlayer_map\u001b[0m\u001b[1;33m[\u001b[0m\u001b[1;34m'grcgocsynapsis'\u001b[0m\u001b[1;33m]\u001b[0m\u001b[1;33m.\u001b[0m\u001b[0mweights\u001b[0m\u001b[1;33m\u001b[0m\u001b[0m\n\u001b[0;32m      4\u001b[0m \u001b[0mplt\u001b[0m\u001b[1;33m.\u001b[0m\u001b[0mfigure\u001b[0m\u001b[1;33m(\u001b[0m\u001b[1;33m)\u001b[0m\u001b[1;33m\u001b[0m\u001b[0m\n\u001b[0;32m      5\u001b[0m \u001b[0mplt\u001b[0m\u001b[1;33m.\u001b[0m\u001b[0mhist\u001b[0m\u001b[1;33m(\u001b[0m\u001b[0mweight\u001b[0m\u001b[1;33m,\u001b[0m \u001b[0mbins\u001b[0m\u001b[1;33m=\u001b[0m\u001b[1;36m20\u001b[0m\u001b[1;33m,\u001b[0m \u001b[0mrange\u001b[0m\u001b[1;33m=\u001b[0m\u001b[1;33m(\u001b[0m\u001b[1;36m0\u001b[0m\u001b[1;33m,\u001b[0m\u001b[1;36m6.5e-12\u001b[0m\u001b[1;33m)\u001b[0m\u001b[1;33m)\u001b[0m\u001b[1;33m\u001b[0m\u001b[0m\n",
      "\u001b[1;31mKeyError\u001b[0m: 'grcgocsynapsis'"
     ]
    }
   ],
   "source": [
    "target_cell_index = simulation.cerebellum.layer_map['grcgocsynapsis'].target_index\n",
    "source_cell_index = simulation.cerebellum.layer_map['grcgocsynapsis'].source_index\n",
    "weight = simulation.cerebellum.layer_map['grcgocsynapsis'].weights\n",
    "plt.figure()\n",
    "plt.hist(weight, bins=20, range=(0,6.5e-12))\n",
    "plt.ylabel('Number of GrC-GoC synapses')\n",
    "plt.xlabel('Synaptic Weight')\n",
    "max_weight = numpy.max(weight)\n",
    "active_synapses = weight>max_weight*0.2\n",
    "number_of_active_inputs = numpy.bincount(target_cell_index[active_synapses])\n",
    "plt.figure()\n",
    "plt.hist(number_of_active_inputs, bins=10)\n",
    "plt.ylabel('Number of GoC cells')\n",
    "plt.xlabel('Number of active inputs')\n",
    "print 'Number of active synapses GrC-GoC:',numpy.count_nonzero(active_synapses)\n",
    "max_weight = numpy.max(weight)\n",
    "active_synapses = weight>max_weight*0.2\n",
    "weight_sum = numpy.bincount(target_cell_index,weights=weight)\n",
    "plt.figure()\n",
    "plt.hist(weight_sum, bins=20)\n",
    "plt.ylabel('Number of GoC cells')\n",
    "plt.xlabel('Weight sum')\n",
    "print 'Weight sum histogram GrC-GoC:',numpy.count_nonzero(active_synapses)"
   ]
  },
  {
   "cell_type": "markdown",
   "metadata": {},
   "source": [
    "Plot the histogram of non-zero weights between MF and GoC"
   ]
  },
  {
   "cell_type": "code",
   "execution_count": null,
   "metadata": {},
   "outputs": [],
   "source": [
    "target_cell_index = simulation.cerebellum.layer_map['mfgocsynapsis'].target_index\n",
    "source_cell_index = simulation.cerebellum.layer_map['mfgocsynapsis'].source_index\n",
    "weight = simulation.cerebellum.layer_map['mfgocsynapsis'].weights\n",
    "plt.figure()\n",
    "plt.hist(weight, bins=20, range=(0,6.5e-12))\n",
    "plt.ylabel('Number of MF-GoC synapses')\n",
    "plt.xlabel('Synaptic Weight')\n",
    "max_weight = numpy.max(weight)\n",
    "active_synapses = weight>max_weight*0.2\n",
    "number_of_active_inputs = numpy.bincount(target_cell_index[active_synapses])\n",
    "plt.figure()\n",
    "plt.hist(number_of_active_inputs, bins=10)\n",
    "plt.ylabel('Number of MF cells')\n",
    "plt.xlabel('Number of active inputs')\n",
    "print 'Number of active synapses MF-GoC:',numpy.count_nonzero(active_synapses)\n",
    "max_weight = numpy.max(weight)\n",
    "active_synapses = weight>max_weight*0.2\n",
    "weight_sum = numpy.bincount(target_cell_index,weights=weight)\n",
    "plt.figure()\n",
    "plt.hist(weight_sum, bins=20)\n",
    "plt.ylabel('Number of GoC cells')\n",
    "plt.xlabel('Weight sum')\n",
    "print 'Weight sum histogram MF-GoC:',numpy.count_nonzero(active_synapses)"
   ]
  },
  {
   "cell_type": "markdown",
   "metadata": {},
   "source": [
    "## GrC-GoC weight analysis"
   ]
  },
  {
   "cell_type": "markdown",
   "metadata": {},
   "source": [
    "Plot the GrC-GoC weight as a function of the number of MF-GrC synapses in pattern"
   ]
  },
  {
   "cell_type": "code",
   "execution_count": null,
   "metadata": {},
   "outputs": [],
   "source": [
    "# Obtain the list of active GrC-GoC inputs\n",
    "grcgoc_target_cell_index = simulation.cerebellum.layer_map['grcgocsynapsis'].target_index\n",
    "grcgoc_source_cell_index = simulation.cerebellum.layer_map['grcgocsynapsis'].source_index\n",
    "grcgoc_weight = simulation.cerebellum.layer_map['grcgocsynapsis'].weights\n",
    "target_cell_index = grcgoc_target_cell_index==6\n",
    "# Obtain the list of active GrC inputs\n",
    "mfgrc_target_cell_index = simulation.cerebellum.layer_map['mfgrcsynapsis'].target_index\n",
    "mfgrc_source_cell_index = simulation.cerebellum.layer_map['mfgrcsynapsis'].source_index\n",
    "mfgrc_weight = simulation.cerebellum.layer_map['mfgrcsynapsis'].weights\n",
    "mfgrc_max_weight = numpy.max(mfgrc_weight)\n",
    "mfgrc_active_synapses = mfgrc_weight>mfgrc_max_weight*0.0\n",
    "mfgrc_number_of_active_inputs = numpy.bincount(mfgrc_target_cell_index[mfgrc_active_synapses])\n",
    "# Obtain the list of GrC active inputs in included in pattern \n",
    "pattern_id = 0\n",
    "included_in_pattern = numpy.in1d(mfgrc_source_cell_index, simulation.pattern_generator.fibers_in_pattern[pattern_id,:])\n",
    "included_and_active = numpy.logical_and(included_in_pattern,mfgrc_active_synapses)\n",
    "number_of_active_inputs_in_pattern = numpy.bincount(mfgrc_target_cell_index[included_and_active],minlength=simulation.cerebellum.get_number_of_elements(layer='grclayer'))\n",
    "# Plot the figure\n",
    "plt.figure(figsize=(15,5))\n",
    "plt.subplot(1,2,1)\n",
    "plt.plot(number_of_active_inputs_in_pattern[grcgoc_source_cell_index[target_cell_index]],grcgoc_weight[target_cell_index],'.')\n",
    "plt.xlabel('Number of active MF inputs')\n",
    "plt.ylabel('GrC-GoC weight')\n",
    "plt.title('Weight vs MFs in pattern')\n",
    "\n",
    "# Retrieve the weight of those MF included in pattern\n",
    "# Search the x-index of elements in y\n",
    "x = simulation.pattern_generator.fibers_in_pattern[pattern_id]\n",
    "y = mfgrc_source_cell_index[included_in_pattern]\n",
    "index = numpy.argsort(x)\n",
    "sorted_x = x[index]\n",
    "sorted_index = numpy.searchsorted(sorted_x, y)\n",
    "yindex = numpy.take(index, sorted_index, mode=\"clip\")\n",
    "\n",
    "# Calculate the normalized activation levels\n",
    "normalized_activation = mfgrc_weight[included_in_pattern]*simulation.pattern_generator.pattern_activation[pattern_id][yindex]\n",
    "input_conductance_in_pattern = numpy.bincount(mfgrc_target_cell_index[included_and_active],weights=normalized_activation,minlength=simulation.cerebellum.get_number_of_elements(layer='grclayer'))\n",
    "# Plot the figure\n",
    "plt.subplot(1,2,2)\n",
    "plt.plot(input_conductance_in_pattern[grcgoc_source_cell_index[target_cell_index]],grcgoc_weight[target_cell_index],'.')\n",
    "plt.xlabel('Input Conductance in Pattern')\n",
    "plt.ylabel('GrC-GoC weight')\n",
    "plt.title('Weight vs Pattern input conductance')"
   ]
  },
  {
   "cell_type": "markdown",
   "metadata": {},
   "source": [
    "Analyze the GrC neurons which are strenghted"
   ]
  },
  {
   "cell_type": "code",
   "execution_count": null,
   "metadata": {},
   "outputs": [],
   "source": [
    "# Obtain the list of active GrC-GoC inputs\n",
    "grcgoc_target_cell_index = simulation.cerebellum.layer_map['grcgocsynapsis'].target_index\n",
    "grcgoc_source_cell_index = simulation.cerebellum.layer_map['grcgocsynapsis'].source_index\n",
    "grcgoc_weight = simulation.cerebellum.layer_map['grcgocsynapsis'].weights\n",
    "target_cell_index = grcgoc_target_cell_index==0\n",
    "grcgoc_max_weight = numpy.max(grcgoc_weight[target_cell_index])\n",
    "selected_synapses = numpy.logical_and(grcgoc_weight>grcgoc_max_weight*0.95,target_cell_index)\n",
    "target_count = numpy.bincount(grcgoc_target_cell_index[selected_synapses],minlength=simulation.cerebellum.get_number_of_elements(layer='goclayer'))\n",
    "source_count = numpy.bincount(grcgoc_source_cell_index[selected_synapses],minlength=simulation.cerebellum.get_number_of_elements(layer='grclayer'))\n",
    "plt.figure(figsize=(15,5))\n",
    "plt.subplot(1,2,1)\n",
    "plt.plot(range(0,simulation.cerebellum.get_number_of_elements(layer='goclayer')),target_count,'.')\n",
    "plt.ylabel('Number of selected synapses')\n",
    "plt.xlabel('Number of GoC cells')\n",
    "plt.subplot(1,2,2)\n",
    "plt.plot(range(0,simulation.cerebellum.get_number_of_elements(layer='grclayer')),source_count,'.')\n",
    "plt.ylabel('Number of selected synapses')\n",
    "plt.xlabel('Number of GrC cells')"
   ]
  },
  {
   "cell_type": "markdown",
   "metadata": {},
   "source": [
    "Analyze the firing pattern of the selected GrCs and GoCs"
   ]
  },
  {
   "cell_type": "code",
   "execution_count": null,
   "metadata": {},
   "outputs": [],
   "source": [
    "oscillation_frequency = 8.0\n",
    "init_time = simulation.current_time - 10.0\n",
    "end_time = simulation.current_time\n",
    "grc_time,grc_cell = simulation.cerebellum.get_spike_activity(neuron_layer = 'grclayer',\n",
    "                                                          init_time = init_time, \n",
    "                                                          end_time = end_time)\n",
    "grc_selected_spikes = numpy.isin(grc_cell,numpy.unique(grcgoc_source_cell_index[selected_synapses]))\n",
    "cell_id = grc_cell[grc_selected_spikes]\n",
    "sel_time = grc_time[grc_selected_spikes]\n",
    "grc_phase = numpy.mod(sel_time,1./oscillation_frequency)\n",
    "plt.figure(figsize=(15,5))\n",
    "plt.subplot(1,2,1)\n",
    "plt.hist(grc_phase,bins=50,range=(0,1./oscillation_frequency))\n",
    "plt.title('Firing pattern of selected GrCs')\n",
    "plt.ylabel('Number of GrC Spikes')\n",
    "plt.xlabel('Firing phase (s)')\n",
    "goc_time,goc_cell = simulation.cerebellum.get_spike_activity(neuron_layer = 'goclayer',\n",
    "                                                          init_time = init_time, \n",
    "                                                          end_time = end_time)\n",
    "goc_selected_spikes = numpy.isin(goc_cell,numpy.unique(grcgoc_target_cell_index[selected_synapses]))\n",
    "cell_id = goc_cell[goc_selected_spikes]\n",
    "sel_time = goc_time[goc_selected_spikes]\n",
    "goc_phase = numpy.mod(sel_time,1./oscillation_frequency)\n",
    "plt.subplot(1,2,2)\n",
    "plt.hist(goc_phase,bins=50,range=(0,1./oscillation_frequency))\n",
    "plt.title('Firing pattern of selected GoCs')\n",
    "plt.ylabel('Number of GoC Spikes')\n",
    "plt.xlabel('Firing phase (s)')"
   ]
  },
  {
   "cell_type": "markdown",
   "metadata": {},
   "source": [
    "## MF-GoC weight analysis"
   ]
  },
  {
   "cell_type": "markdown",
   "metadata": {},
   "source": [
    "Plot the MF-GoC weight as a function of the number of MF activation current in pattern"
   ]
  },
  {
   "cell_type": "code",
   "execution_count": null,
   "metadata": {},
   "outputs": [],
   "source": [
    "# Obtain the list of MF-GoC inputs\n",
    "mfgoc_target_cell_index = simulation.cerebellum.layer_map['mfgocsynapsis'].target_index\n",
    "target_cell_index = mfgoc_target_cell_index>=0\n",
    "mfgoc_target_cell_index = mfgoc_target_cell_index[target_cell_index]\n",
    "mfgoc_source_cell_index = simulation.cerebellum.layer_map['mfgocsynapsis'].source_index[target_cell_index]\n",
    "mfgoc_weight = simulation.cerebellum.layer_map['mfgocsynapsis'].weights[target_cell_index]\n",
    "mfgoc_max_weight = numpy.max(mfgoc_weight)\n",
    "mfgoc_number_of_active_inputs = numpy.bincount(mfgoc_target_cell_index)\n",
    "# Obtain the list of GoC active inputs included in pattern \n",
    "pattern_id = 0\n",
    "included_in_pattern = numpy.in1d(mfgoc_source_cell_index, simulation.pattern_generator.fibers_in_pattern[pattern_id,:])\n",
    "# Retrieve the weight of those MF included in pattern\n",
    "# Search the x-index of elements in y\n",
    "x = simulation.pattern_generator.fibers_in_pattern[pattern_id]\n",
    "y = mfgoc_source_cell_index[included_in_pattern]\n",
    "index = numpy.argsort(x)\n",
    "sorted_x = x[index]\n",
    "sorted_index = numpy.searchsorted(sorted_x, y)\n",
    "yindex = numpy.take(index, sorted_index, mode=\"clip\")\n",
    "# Calculate the normalized activation levels\n",
    "normalized_activation = simulation.pattern_generator.pattern_activation[pattern_id][yindex]\n",
    "# Plot the figure\n",
    "plt.figure(figsize=(15,5))\n",
    "plt.subplot(1,2,1)\n",
    "plt.plot(normalized_activation,mfgoc_weight[included_in_pattern],'.')\n",
    "plt.xlabel('Input Activation in Pattern')\n",
    "plt.ylabel('MF-GoC weight')\n",
    "plt.title('Weight vs Pattern Activation')"
   ]
  },
  {
   "cell_type": "markdown",
   "metadata": {},
   "source": [
    "Analyze the GrC neurons which are strenghted"
   ]
  },
  {
   "cell_type": "code",
   "execution_count": null,
   "metadata": {},
   "outputs": [],
   "source": [
    "# Obtain the list of active GrC-GoC inputs\n",
    "mfgoc_target_cell_index = simulation.cerebellum.layer_map['mfgocsynapsis'].target_index\n",
    "mfgoc_source_cell_index = simulation.cerebellum.layer_map['mfgocsynapsis'].source_index\n",
    "mfgoc_weight = simulation.cerebellum.layer_map['mfgocsynapsis'].weights\n",
    "target_cell_index = mfgoc_target_cell_index>=0\n",
    "mfgoc_max_weight = numpy.max(mfgoc_weight[target_cell_index])\n",
    "selected_synapses = numpy.logical_and(mfgoc_weight>mfgoc_max_weight*0.50,target_cell_index)\n",
    "target_count = numpy.bincount(mfgoc_target_cell_index[selected_synapses],minlength=simulation.cerebellum.get_number_of_elements(layer='goclayer'))\n",
    "source_count = numpy.bincount(mfgoc_source_cell_index[selected_synapses],minlength=simulation.cerebellum.get_number_of_elements(layer='mflayer'))\n",
    "plt.figure(figsize=(15,5))\n",
    "plt.subplot(1,2,1)\n",
    "plt.plot(range(0,simulation.cerebellum.get_number_of_elements(layer='goclayer')),target_count,'.')\n",
    "plt.ylabel('Number of selected synapses')\n",
    "plt.xlabel('Number of GoC cells')\n",
    "plt.subplot(1,2,2)\n",
    "plt.plot(range(0,simulation.cerebellum.get_number_of_elements(layer='mflayer')),source_count,'.')\n",
    "plt.ylabel('Number of selected synapses')\n",
    "plt.xlabel('Number of MF cells')"
   ]
  },
  {
   "cell_type": "markdown",
   "metadata": {},
   "source": [
    "## Information Analysis"
   ]
  },
  {
   "cell_type": "markdown",
   "metadata": {},
   "source": [
    "Mutual information analysis in the GoC layer"
   ]
  },
  {
   "cell_type": "code",
   "execution_count": null,
   "metadata": {},
   "outputs": [],
   "source": [
    "simulation.analyze_av_MI()"
   ]
  },
  {
   "cell_type": "code",
   "execution_count": null,
   "metadata": {},
   "outputs": [],
   "source": [
    "simulation.analyze_Hits_Top()"
   ]
  },
  {
   "cell_type": "code",
   "execution_count": null,
   "metadata": {},
   "outputs": [],
   "source": []
  }
 ],
 "metadata": {
  "kernelspec": {
   "display_name": "Python 2",
   "language": "python",
   "name": "python2"
  },
  "language_info": {
   "codemirror_mode": {
    "name": "ipython",
    "version": 2
   },
   "file_extension": ".py",
   "mimetype": "text/x-python",
   "name": "python",
   "nbconvert_exporter": "python",
   "pygments_lexer": "ipython2",
   "version": "2.7.12"
  }
 },
 "nbformat": 4,
 "nbformat_minor": 2
}
