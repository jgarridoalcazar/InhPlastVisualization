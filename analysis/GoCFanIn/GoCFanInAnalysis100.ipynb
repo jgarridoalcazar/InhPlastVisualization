{
 "cells": [
  {
   "cell_type": "markdown",
   "metadata": {},
   "source": [
    "# Data anaylsis in cerebellar granular layer simulations (MF-GrC + Connectivity FanIn)\n",
    "## Running the simulation\n",
    "\n",
    "First, we set current working directory to the root of Spiking Granular Layer and insert the source folder to the python path:"
   ]
  },
  {
   "cell_type": "code",
   "execution_count": 1,
   "metadata": {},
   "outputs": [],
   "source": [
    "import os\n",
    "os.chdir('../../')\n",
    "os.getcwd()\n",
    "import sys\n",
    "import numpy\n",
    "%matplotlib notebook\n",
    "import matplotlib.pyplot as plt\n",
    "import time\n",
    "sys.path.insert(1,'./src')"
   ]
  },
  {
   "cell_type": "markdown",
   "metadata": {},
   "source": [
    "## Running the simulation\n",
    "Now start setting a new simulation with the configuration file that we specify:"
   ]
  },
  {
   "cell_type": "code",
   "execution_count": 2,
   "metadata": {},
   "outputs": [],
   "source": [
    "config_file = './config/GoCFanIn/InitialTest.cfg'\n",
    "data_path = './results'\n",
    "simulation_name = 'TestMFGoCPlasticity10'\n",
    "simulation_time = 10\n",
    "analysis_time = 100.0\n",
    "analysis_step = 0.0\n",
    "run_the_simulation = True\n",
    "import SpikingSimulation.FrequencySimulation as FrequencySimulation\n",
    "simulation = FrequencySimulation.FrequencySimulation(config_file=config_file)"
   ]
  },
  {
   "cell_type": "markdown",
   "metadata": {},
   "source": [
    "Set the simulation general parameters"
   ]
  },
  {
   "cell_type": "code",
   "execution_count": 3,
   "metadata": {},
   "outputs": [],
   "source": [
    "simulation.config_options['simulation']['verbosity'] = 'Debug'\n",
    "simulation.config_options['simulation']['seed'] = 123\n",
    "simulation.config_options['simulation']['time'] = simulation_time\n",
    "simulation.config_options['simulation']['data_path'] = data_path\n",
    "simulation.config_options['simulation']['simulation_name'] = simulation_name\n",
    "simulation.config_options['simulation']['register_activity_only_in_test'] = False\n",
    "simulation.config_options['simulation']['run_simulation'] = run_the_simulation\n",
    "simulation.config_options['simulation']['record_to_file'] = True\n",
    "simulation.config_options['simulation']['state_recording_step'] = 10.0\n",
    "simulation.config_options['simulation']['weight_normalization_step'] = 100.0\n",
    "if run_the_simulation:\n",
    "    simulation.config_options['network']['load_file'] = None\n",
    "else:\n",
    "    simulation.config_options['network']['load_file'] = data_path + '/' + simulation_name + '/network.h5'"
   ]
  },
  {
   "cell_type": "markdown",
   "metadata": {},
   "source": [
    "Set the network synaptic parameters of the granular layer"
   ]
  },
  {
   "cell_type": "code",
   "execution_count": 4,
   "metadata": {},
   "outputs": [],
   "source": [
    "# Set the density of neurons per layer (in units/mm3)\n",
    "simulation.config_options['mflayer']['density_of_neurons'] = 300.0e3\n",
    "simulation.config_options['goclayer']['density_of_neurons'] = 9.0e3\n",
    "# Set the neuron dynamic parameters\n",
    "simulation.config_options['goclayer']['cm'] = 50.0e-12\n",
    "simulation.config_options['goclayer']['grest'] = 3.0e-9\n",
    "# Set the MF-GrC connectivity rules and parameters\n",
    "simulation.config_options['mfgocsynapsis']['connectivity_type'] = 'randomn2onestd'\n",
    "simulation.config_options['mfgocsynapsis']['average_number_of_source_cells'] = 100.0\n",
    "simulation.config_options['mfgocsynapsis']['std_number_of_source_cells'] = 0.5\n",
    "# Set the MF-GrC learning rule and initial weights\n",
    "simulation.config_options['mfgocsynapsis']['weight_initialization_type'] = 'random'\n",
    "simulation.config_options['mfgocsynapsis']['random_min_weight'] = 1.1e-9\n",
    "simulation.config_options['mfgocsynapsis']['random_max_weight'] = 1.2e-9\n",
    "simulation.config_options['mfgocsynapsis']['weight_recording'] = True\n",
    "simulation.config_options['mfgocsynapsis']['weight_normalization'] = False\n",
    "#simulation.config_options['mfgocsynapsis']['learning_rule_type'] = 'eSTDP'\n",
    "simulation.config_options['mfgocsynapsis']['tau_plus'] = 16.8e-3\n",
    "simulation.config_options['mfgocsynapsis']['learning_step'] = 2.0e-3\n",
    "simulation.config_options['mfgocsynapsis']['minus_plus_ratio'] = 0.876\n",
    "simulation.config_options['goclayer']['tau_minus'] = 33.7e-3\n",
    "simulation.config_options['mfgocsynapsis']['max_weight'] = 8.15e-11"
   ]
  },
  {
   "cell_type": "markdown",
   "metadata": {},
   "source": [
    "Set analysis parameters"
   ]
  },
  {
   "cell_type": "code",
   "execution_count": 5,
   "metadata": {},
   "outputs": [],
   "source": [
    "simulation.config_options['individual_mutual_information']['layer'] = 'goclayer'\n",
    "simulation.config_options['individual_mutual_information']['window_length'] = analysis_time\n",
    "simulation.config_options['hit_top_analysis']['layer'] = 'goclayer'\n",
    "simulation.config_options['hit_top_analysis']['window_length'] = analysis_time\n",
    "simulation.config_options['hit_top_analysis']['number_of_cells'] = 500"
   ]
  },
  {
   "cell_type": "markdown",
   "metadata": {},
   "source": [
    "Initialize the simulation"
   ]
  },
  {
   "cell_type": "code",
   "execution_count": null,
   "metadata": {},
   "outputs": [
    {
     "name": "stderr",
     "output_type": "stream",
     "text": [
      "2018-07-03 12:29:22,300 - P24336 - MemTotal:67M - Simulation - DEBUG: Simulation time fixed to 10s\n",
      "2018-07-03 12:29:22,316 - P24336 - MemTotal:67M - Simulation - DEBUG: Creating cerebellum generator\n",
      "2018-07-03 12:29:22,415 - P24336 - MemTotal:84M - Simulation - DEBUG: Initializing cerebellum generator\n",
      "2018-07-03 12:29:22,417 - P24336 - MemTotal:84M - Simulation - DEBUG: Removing results folder ./results/TestMFGoCPlasticity10\n",
      "2018-07-03 12:29:22,419 - P24336 - MemTotal:84M - Simulation - DEBUG: Cerebellar simulation initialized\n",
      "2018-07-03 12:29:22,422 - P24336 - MemTotal:84M - Simulation - DEBUG: NEST module loaded\n",
      "2018-07-03 12:29:22,455 - P24336 - MemTotal:87M - Simulation - DEBUG: Setting Global NEST Seed: 134\n",
      "2018-07-03 12:29:22,459 - P24336 - MemTotal:87M - Simulation - DEBUG: Setting Per-Process NEST Seeds: [135, 136, 137, 138, 139, 140, 141, 142, 143, 144]\n",
      "2018-07-03 12:29:22,461 - P24336 - MemTotal:87M - Simulation - WARNING: Non-specified cell model parameter: tau_minus in layer mflayer. Using default value\n",
      "2018-07-03 12:29:22,462 - P24336 - MemTotal:87M - Simulation - WARNING: Non-specified cell model parameter: tau_istdp in layer mflayer. Using default value\n",
      "2018-07-03 12:29:22,463 - P24336 - MemTotal:87M - Simulation - WARNING: Non-specified number of neurons in layer mflayer\n",
      "2018-07-03 12:29:22,465 - P24336 - MemTotal:88M - Simulation - WARNING: Non-specified cell model parameter: tau_istdp in layer goclayer. Using default value\n",
      "2018-07-03 12:29:22,466 - P24336 - MemTotal:88M - Simulation - WARNING: Non-specified number of neurons in layer goclayer\n",
      "2018-07-03 12:29:22,468 - P24336 - MemTotal:88M - Simulation - WARNING: tau_minus cannot be calculated in layer mflayer. Variable tau_minus is not defined. Using default value 20.0\n",
      "2018-07-03 12:29:22,469 - P24336 - MemTotal:88M - Simulation - WARNING: tau_syn_ex cannot be calculated in layer mflayer. Variable texc is not defined. Using default value 2.0\n",
      "2018-07-03 12:29:22,471 - P24336 - MemTotal:88M - Simulation - WARNING: tau_minus_triplet cannot be calculated in layer mflayer. Variable tau_istdp is not defined. Using default value 110.0\n",
      "2018-07-03 12:29:22,474 - P24336 - MemTotal:88M - Simulation - WARNING: tau_syn_in cannot be calculated in layer mflayer. Variable tinh is not defined. Using default value 2.0\n",
      "2018-07-03 12:29:22,493 - P24336 - MemTotal:96M - Simulation - DEBUG: Nest Process: 0. Neuron layer created in layer mflayer: 2400. Local: 2400\n",
      "2018-07-03 12:29:22,501 - P24336 - MemTotal:96M - Simulation - WARNING: tau_minus_triplet cannot be calculated in layer goclayer. Variable tau_istdp is not defined. Using default value 110.0\n",
      "2018-07-03 12:29:22,515 - P24336 - MemTotal:113M - Simulation - DEBUG: Nest Process: 0. Neuron layer created in layer goclayer: 72. Local: 72\n",
      "2018-07-03 12:29:22,541 - P24336 - MemTotal:119M - Simulation - WARNING: Unrecognized parameter minus_plus_ratio in layer mfgocsynapsis\n",
      "2018-07-03 12:29:22,543 - P24336 - MemTotal:119M - Simulation - WARNING: Unrecognized parameter tau_plus in layer mfgocsynapsis\n",
      "2018-07-03 12:29:22,550 - P24336 - MemTotal:119M - Simulation - WARNING: Unrecognized parameter learning_step in layer mfgocsynapsis\n",
      "2018-07-03 12:29:22,552 - P24336 - MemTotal:119M - Simulation - WARNING: Unrecognized parameter max_weight in layer mfgocsynapsis\n",
      "2018-07-03 12:29:22,561 - P24336 - MemTotal:120M - Simulation - DEBUG: Nest Process: 0. Connections created in layer mfgocsynapsis: 7198\n",
      "2018-07-03 12:29:22,643 - P24336 - MemTotal:131M - Simulation - DEBUG: mfgocsynapsis layer weight recording initialized\n",
      "2018-07-03 12:29:22,659 - P24336 - MemTotal:135M - Simulation - DEBUG: Creating hdf5 activity file ./results/TestMFGoCPlasticity10/activity.h5\n",
      "2018-07-03 12:29:22,661 - P24336 - MemTotal:136M - Simulation - DEBUG: Creating group layer goclayer\n",
      "2018-07-03 12:29:22,663 - P24336 - MemTotal:136M - Simulation - DEBUG: Creating activity dataset goclayer\n",
      "2018-07-03 12:29:22,665 - P24336 - MemTotal:136M - Simulation - INFO: Saving network to hdf5 file ./results/TestMFGoCPlasticity10/network.h5\n",
      "2018-07-03 12:29:22,702 - P24336 - MemTotal:137M - Simulation - DEBUG: Creating hdf5 activity file ./results/TestMFGoCPlasticity10/network.h5\n",
      "2018-07-03 12:29:22,704 - P24336 - MemTotal:137M - Simulation - DEBUG: Writing neuron layer mflayer\n",
      "2018-07-03 12:29:22,706 - P24336 - MemTotal:137M - Simulation - DEBUG: Writing neuron layer goclayer\n",
      "2018-07-03 12:29:22,708 - P24336 - MemTotal:137M - Simulation - DEBUG: Writing neuron layer mfgocsynapsis\n",
      "2018-07-03 12:29:22,710 - P24336 - MemTotal:137M - Simulation - DEBUG: File writing ended\n",
      "2018-07-03 12:29:22,712 - P24336 - MemTotal:137M - Simulation - DEBUG: Creating AC Current generator\n",
      "2018-07-03 12:29:22,715 - P24336 - MemTotal:137M - Simulation - DEBUG: Creating DC Current generator\n",
      "2018-07-03 12:29:22,735 - P24336 - MemTotal:139M - Simulation - DEBUG: Normalization on iteration 10\n",
      "2018-07-03 12:29:22,739 - P24336 - MemTotal:139M - Simulation - DEBUG: Average sum per columns 1196.3135518382678\n",
      "2018-07-03 12:29:22,740 - P24336 - MemTotal:139M - Simulation - DEBUG: Average sum per rows 16.44931133777618\n",
      "2018-07-03 12:29:22,743 - P24336 - MemTotal:139M - Simulation - INFO: Saving activation patterns to hdf5 file ./results/TestMFGoCPlasticity10/stimulation_pattern.h5\n",
      "2018-07-03 12:29:22,744 - P24336 - MemTotal:139M - Simulation - DEBUG: Writing stimulation pattern bin length\n",
      "2018-07-03 12:29:22,746 - P24336 - MemTotal:139M - Simulation - DEBUG: Writing pattern activation matrix\n",
      "2018-07-03 12:29:22,748 - P24336 - MemTotal:139M - Simulation - DEBUG: Writing activation levels of simulation\n",
      "2018-07-03 12:29:22,750 - P24336 - MemTotal:139M - Simulation - DEBUG: Writing stimulation pattern 0\n",
      "2018-07-03 12:29:22,752 - P24336 - MemTotal:139M - Simulation - DEBUG: File writing ended\n"
     ]
    }
   ],
   "source": [
    "# Set the rate of fibers in pattern\n",
    "simulation.config_options['stimulation']['rate_of_fibers_in_pattern'] = 0.10\n",
    "simulation.config_options['network']['length'] = 2.0e-1\n",
    "simulation.initialize()"
   ]
  },
  {
   "cell_type": "markdown",
   "metadata": {},
   "source": [
    "Visualize the simulation or only run it."
   ]
  },
  {
   "cell_type": "code",
   "execution_count": null,
   "metadata": {},
   "outputs": [
    {
     "name": "stderr",
     "output_type": "stream",
     "text": [
      "2018-07-03 12:29:22,800 - P24336 - MemTotal:139M - Simulation - INFO: Running the simulation from 0.0s until time 10s\n",
      "2018-07-03 12:29:22,834 - P24336 - MemTotal:143M - Simulation - DEBUG: Running the simulation 0.136s until 0.136s\n",
      "2018-07-03 12:29:23,474 - P24336 - MemTotal:143M - Simulation - DEBUG: Simulation time is 0.638633012772 seconds. Real-time rate: 0.21295485400883515\n",
      "2018-07-03 12:29:23,507 - P24336 - MemTotal:143M - Simulation - DEBUG: Running the simulation 0.035s until 0.171s\n",
      "2018-07-03 12:29:23,689 - P24336 - MemTotal:143M - Simulation - DEBUG: Simulation time is 0.179528951645 seconds. Real-time rate: 0.19495462809379563\n",
      "2018-07-03 12:29:23,718 - P24336 - MemTotal:143M - Simulation - DEBUG: Running the simulation 0.028999999999999998s until 0.2s\n",
      "2018-07-03 12:29:23,922 - P24336 - MemTotal:143M - Simulation - DEBUG: Simulation time is 0.201877832413 seconds. Real-time rate: 0.14365123527140067\n",
      "2018-07-03 12:29:23,951 - P24336 - MemTotal:143M - Simulation - DEBUG: Running the simulation 0.038000000000000006s until 0.23800000000000002s\n",
      "2018-07-03 12:29:24,191 - P24336 - MemTotal:143M - Simulation - DEBUG: Simulation time is 0.237995862961 seconds. Real-time rate: 0.1596666409544122\n",
      "2018-07-03 12:29:24,220 - P24336 - MemTotal:143M - Simulation - DEBUG: Running the simulation 0.145s until 0.383s\n",
      "2018-07-03 12:29:24,979 - P24336 - MemTotal:143M - Simulation - DEBUG: Simulation time is 0.755264997482 seconds. Real-time rate: 0.1919855951002127\n",
      "2018-07-03 12:29:25,007 - P24336 - MemTotal:143M - Simulation - DEBUG: Running the simulation 0.33499999999999996s until 0.718s\n",
      "2018-07-03 12:29:26,784 - P24336 - MemTotal:143M - Simulation - DEBUG: Simulation time is 1.77392292023 seconds. Real-time rate: 0.18884698775813896\n",
      "2018-07-03 12:29:26,806 - P24336 - MemTotal:143M - Simulation - DEBUG: Running the simulation 0.05700000000000005s until 0.775s\n",
      "2018-07-03 12:29:27,133 - P24336 - MemTotal:143M - Simulation - DEBUG: Simulation time is 0.32476401329 seconds. Real-time rate: 0.17551205696251335\n",
      "2018-07-03 12:29:27,164 - P24336 - MemTotal:143M - Simulation - DEBUG: Running the simulation 0.09299999999999997s until 0.868s\n",
      "2018-07-03 12:29:27,698 - P24336 - MemTotal:143M - Simulation - DEBUG: Simulation time is 0.532634973526 seconds. Real-time rate: 0.17460363029552378\n",
      "2018-07-03 12:29:27,733 - P24336 - MemTotal:143M - Simulation - DEBUG: Running the simulation 0.20400000000000007s until 1.072s\n",
      "2018-07-03 12:29:28,758 - P24336 - MemTotal:143M - Simulation - DEBUG: Simulation time is 1.02347111702 seconds. Real-time rate: 0.19932169712228698\n",
      "2018-07-03 12:29:28,788 - P24336 - MemTotal:143M - Simulation - DEBUG: Running the simulation 0.5659999999999998s until 1.638s\n",
      "2018-07-03 12:29:31,943 - P24336 - MemTotal:143M - Simulation - DEBUG: Simulation time is 3.15323400497 seconds. Real-time rate: 0.17949825452443743\n",
      "2018-07-03 12:29:31,970 - P24336 - MemTotal:143M - Simulation - DEBUG: Running the simulation 0.1160000000000001s until 1.754s\n",
      "2018-07-03 12:29:32,617 - P24336 - MemTotal:143M - Simulation - DEBUG: Simulation time is 0.645383834839 seconds. Real-time rate: 0.17973800045512728\n",
      "2018-07-03 12:29:32,637 - P24336 - MemTotal:143M - Simulation - DEBUG: Running the simulation 0.7010000000000001s until 2.455s\n",
      "2018-07-03 12:29:36,543 - P24336 - MemTotal:143M - Simulation - DEBUG: Simulation time is 3.90481996536 seconds. Real-time rate: 0.1795217209034411\n",
      "2018-07-03 12:29:36,573 - P24336 - MemTotal:143M - Simulation - DEBUG: Running the simulation 0.0950000000000002s until 2.5500000000000003s\n",
      "2018-07-03 12:29:37,083 - P24336 - MemTotal:143M - Simulation - DEBUG: Simulation time is 0.506633996964 seconds. Real-time rate: 0.18751209071909994\n",
      "2018-07-03 12:29:37,103 - P24336 - MemTotal:143M - Simulation - DEBUG: Running the simulation 0.3690000000000002s until 2.9190000000000005s\n",
      "2018-07-03 12:29:39,165 - P24336 - MemTotal:144M - Simulation - DEBUG: Simulation time is 2.05423498154 seconds. Real-time rate: 0.1796289145674731\n",
      "2018-07-03 12:29:39,183 - P24336 - MemTotal:144M - Simulation - DEBUG: Running the simulation 0.29899999999999993s until 3.2180000000000004s\n",
      "2018-07-03 12:29:40,875 - P24336 - MemTotal:144M - Simulation - DEBUG: Simulation time is 1.69024705887 seconds. Real-time rate: 0.17689721655257626\n",
      "2018-07-03 12:29:40,895 - P24336 - MemTotal:144M - Simulation - DEBUG: Running the simulation 0.661s until 3.8790000000000004s\n",
      "2018-07-03 12:29:42,597 - P24336 - MemTotal:144M - Simulation - DEBUG: Simulation time is 1.69852900505 seconds. Real-time rate: 0.3891602663448691\n",
      "2018-07-03 12:29:42,614 - P24336 - MemTotal:144M - Simulation - DEBUG: Running the simulation 0.03299999999999992s until 3.9120000000000004s\n",
      "2018-07-03 12:29:42,685 - P24336 - MemTotal:144M - Simulation - DEBUG: Simulation time is 0.0695672035217 seconds. Real-time rate: 0.474361456684007\n",
      "2018-07-03 12:29:42,722 - P24336 - MemTotal:144M - Simulation - DEBUG: Running the simulation 0.14500000000000002s until 4.057s\n",
      "2018-07-03 12:29:42,994 - P24336 - MemTotal:144M - Simulation - DEBUG: Simulation time is 0.27067899704 seconds. Real-time rate: 0.5356898820586449\n",
      "2018-07-03 12:29:43,016 - P24336 - MemTotal:144M - Simulation - DEBUG: Running the simulation 0.15700000000000003s until 4.214s\n",
      "2018-07-03 12:29:43,820 - P24336 - MemTotal:144M - Simulation - DEBUG: Simulation time is 0.802521944046 seconds. Real-time rate: 0.19563327976860517\n",
      "2018-07-03 12:29:43,849 - P24336 - MemTotal:144M - Simulation - DEBUG: Running the simulation 0.1559999999999997s until 4.37s\n",
      "2018-07-03 12:29:44,694 - P24336 - MemTotal:144M - Simulation - DEBUG: Simulation time is 0.844376087189 seconds. Real-time rate: 0.18475179764906488\n",
      "2018-07-03 12:29:44,714 - P24336 - MemTotal:144M - Simulation - DEBUG: Running the simulation 0.17100000000000026s until 4.541s\n",
      "2018-07-03 12:29:45,653 - P24336 - MemTotal:144M - Simulation - DEBUG: Simulation time is 0.937139987946 seconds. Real-time rate: 0.18247007085342146\n",
      "2018-07-03 12:29:45,670 - P24336 - MemTotal:144M - Simulation - DEBUG: Running the simulation 0.1900000000000004s until 4.731000000000001s\n",
      "2018-07-03 12:29:46,747 - P24336 - MemTotal:144M - Simulation - DEBUG: Simulation time is 1.0743291378 seconds. Real-time rate: 0.17685455352044605\n",
      "2018-07-03 12:29:46,772 - P24336 - MemTotal:144M - Simulation - DEBUG: Running the simulation 0.11800000000000033s until 4.849000000000001s\n"
     ]
    }
   ],
   "source": [
    "#simulation.visualize_animation()\n",
    "if analysis_step>0.0:\n",
    "    #Hit_evolution = []\n",
    "    MI_evolution = []\n",
    "    time_evolution = []\n",
    "    fig = plt.figure(figsize=(8,4))\n",
    "    axis = fig.add_subplot(1,2,1)\n",
    "    line,= axis.plot(time_evolution,MI_evolution)\n",
    "    #line2,=axis.plot(time_evolution,Hit_evolution)\n",
    "    axis.set_title('MI & Hit evolution')\n",
    "    axis.set_xlabel('Time (s)')\n",
    "    axis.set_ylabel('MI (bits)')\n",
    "    axis.set_xlim([0,simulation_time])\n",
    "    axis.set_ylim([0,1])\n",
    "    axis2 = fig.add_subplot(1,2,2)\n",
    "    target_cell_index = simulation.cerebellum.layer_map['mfgocsynapsis'].target_index\n",
    "    source_cell_index = simulation.cerebellum.layer_map['mfgocsynapsis'].source_index\n",
    "    weight = simulation.cerebellum.layer_map['mfgocsynapsis'].weights\n",
    "    n,bins,_ = axis2.hist(weight, bins=20)\n",
    "    #line3,= axis2.plot(bins[:-1],n)\n",
    "    axis2.set_title('Weight Histogram')\n",
    "    axis2.set_xlabel('Weight (nS)')\n",
    "    axis2.set_ylabel('Synapses count')\n",
    "    axis2.set_xlim([0,simulation.config_options['mfgocsynapsis']['max_weight']])\n",
    "    fig.canvas.draw()\n",
    "    \n",
    "    for sim_time in numpy.arange(simulation.config_options['individual_mutual_information']['window_length'],simulation_time,analysis_step):\n",
    "        simulation.run_simulation(end_time=sim_time)\n",
    "        av_MI=simulation.analyze_av_MI()[0][0]\n",
    "        #av_Hit=simulation.analyze_Hits_Top()[0]\n",
    "        time_evolution.append(sim_time)\n",
    "        MI_evolution.append(av_MI)\n",
    "        #Hit_evolution.append(av_Hit)\n",
    "        line.set_xdata(time_evolution)\n",
    "        line.set_ydata(MI_evolution)\n",
    "        _,_,weight =simulation.cerebellum.get_synaptic_weights(synaptic_layer='mfgocsynapsis', init_time=0, end_time=sim_time)\n",
    "        weight=weight[:,-1]\n",
    "        axis2.cla()\n",
    "        n, bins,_ = axis2.hist(weight, bins=20)\n",
    "        axis2.set_title('Weight Histogram')\n",
    "        axis2.set_xlabel('Weight (nS)')\n",
    "        axis2.set_ylabel('Synapses count')\n",
    "        axis2.set_xlim([0,simulation.config_options['mfgocsynapsis']['max_weight']])\n",
    "        #line3.set_xdata(bins[:-1])\n",
    "        #line3.set_ydata(n)\n",
    "        #line2.set_xdata(time_evolution)\n",
    "        #line2.set_ydata(Hit_evolution)\n",
    "        fig.canvas.draw()\n",
    "        time.sleep(1)    \n",
    "else:\n",
    "    simulation.run_simulation()"
   ]
  },
  {
   "cell_type": "markdown",
   "metadata": {},
   "source": [
    "Save the network state after the simulation"
   ]
  },
  {
   "cell_type": "code",
   "execution_count": null,
   "metadata": {},
   "outputs": [],
   "source": [
    "simulation.cerebellum.update_network_weights()\n",
    "simulation.cerebellum.save_network_state()"
   ]
  },
  {
   "cell_type": "markdown",
   "metadata": {},
   "source": [
    "## GoC activity analysis"
   ]
  },
  {
   "cell_type": "markdown",
   "metadata": {},
   "source": [
    "Show the GoC acticity rasterplot"
   ]
  },
  {
   "cell_type": "code",
   "execution_count": null,
   "metadata": {},
   "outputs": [],
   "source": [
    "init_time = simulation.current_time - 10.0\n",
    "end_time = simulation.current_time - 9.0\n",
    "min_neuron = 0\n",
    "max_neuron = simulation.cerebellum.get_number_of_elements(layer='goclayer')\n",
    "pattern_id = 0\n",
    "gtime,gcell_id = simulation.cerebellum.get_spike_activity(neuron_layer = 'goclayer', init_time = init_time, end_time = end_time, neuron_indexes=range(min_neuron,max_neuron))\n",
    "plt.figure(figsize=(20,15))\n",
    "plt.plot(gtime,gcell_id, '.')\n",
    "plt.ylabel('GoC Cell Number')\n",
    "plt.xlabel('Simulation time (s)')\n",
    "plt.xlim(init_time,end_time)\n",
    "selected_bins = numpy.logical_and(simulation.pattern_length_cum<end_time,simulation.pattern_length_cum>init_time)\n",
    "index = numpy.where(selected_bins)[0]\n",
    "index = numpy.append([max(index[0]-1,0)],index)\n",
    "index = numpy.append(index,[min(index[-1]+1,simulation.pattern_length.size-1)])\n",
    "for idx in index[:-1]:\n",
    "    if simulation.pattern_generator.bin_is_in_pattern[idx+1,pattern_id]:\n",
    "        plt.axvspan(simulation.pattern_length_cum[idx], simulation.pattern_length_cum[idx+1], facecolor='b', alpha=0.1)"
   ]
  },
  {
   "cell_type": "markdown",
   "metadata": {},
   "source": [
    "Calculate the average firing frequency of each golgi cells during the ending 100 seconds"
   ]
  },
  {
   "cell_type": "code",
   "execution_count": null,
   "metadata": {},
   "outputs": [],
   "source": [
    "gtime,gcell_id = simulation.cerebellum.get_spike_activity(neuron_layer = 'goclayer',\n",
    "                                                          init_time = simulation.current_time-simulation_time, \n",
    "                                                          end_time = simulation.current_time)\n",
    "import numpy\n",
    "firing_frequency = numpy.bincount(gcell_id) / (simulation_time*8.0)\n",
    "av_firing_rate = numpy.average(firing_frequency)\n",
    "print 'Average spike per oscillatory cycle:',av_firing_rate,'Hz'\n",
    "%matplotlib inline\n",
    "import matplotlib.pyplot as plt\n",
    "plt.hist(firing_frequency, bins=20)\n",
    "plt.ylabel('Number of GoC cells')\n",
    "plt.xlabel('Av. Spikes per Oscillatory Cycle')"
   ]
  },
  {
   "cell_type": "markdown",
   "metadata": {},
   "source": [
    "Plot the histogram of non-zero weights between MF and GoC"
   ]
  },
  {
   "cell_type": "code",
   "execution_count": null,
   "metadata": {},
   "outputs": [],
   "source": [
    "target_cell_index = simulation.cerebellum.layer_map['mfgocsynapsis'].target_index\n",
    "source_cell_index = simulation.cerebellum.layer_map['mfgocsynapsis'].source_index\n",
    "weight = simulation.cerebellum.layer_map['mfgocsynapsis'].weights\n",
    "plt.figure()\n",
    "plt.hist(weight, bins=20, range=(0,6.5e-12))\n",
    "plt.ylabel('Number of MF-GoC synapses')\n",
    "plt.xlabel('Synaptic Weight')\n",
    "max_weight = numpy.max(weight)\n",
    "active_synapses = weight>max_weight*0.2\n",
    "number_of_active_inputs = numpy.bincount(target_cell_index[active_synapses])\n",
    "plt.figure()\n",
    "plt.hist(number_of_active_inputs, bins=10)\n",
    "plt.ylabel('Number of MF cells')\n",
    "plt.xlabel('Number of active inputs')\n",
    "print 'Number of active synapses MF-GoC:',numpy.count_nonzero(active_synapses)\n",
    "max_weight = numpy.max(weight)\n",
    "active_synapses = weight>max_weight*0.2\n",
    "weight_sum = numpy.bincount(target_cell_index,weights=weight)\n",
    "plt.figure()\n",
    "plt.hist(weight_sum, bins=20)\n",
    "plt.ylabel('Number of GoC cells')\n",
    "plt.xlabel('Weight sum')\n",
    "print 'Weight sum histogram MF-GoC:',numpy.count_nonzero(active_synapses)"
   ]
  },
  {
   "cell_type": "markdown",
   "metadata": {},
   "source": [
    "## MF-GoC weight analysis"
   ]
  },
  {
   "cell_type": "markdown",
   "metadata": {},
   "source": [
    "Plot the MF-GoC weight as a function of the number of MF activation current in pattern"
   ]
  },
  {
   "cell_type": "code",
   "execution_count": null,
   "metadata": {},
   "outputs": [],
   "source": [
    "# Obtain the list of MF-GoC inputs\n",
    "mfgoc_target_cell_index = simulation.cerebellum.layer_map['mfgocsynapsis'].target_index\n",
    "target_cell_index = mfgoc_target_cell_index>=0\n",
    "mfgoc_target_cell_index = mfgoc_target_cell_index[target_cell_index]\n",
    "mfgoc_source_cell_index = simulation.cerebellum.layer_map['mfgocsynapsis'].source_index[target_cell_index]\n",
    "mfgoc_weight = simulation.cerebellum.layer_map['mfgocsynapsis'].weights[target_cell_index]\n",
    "mfgoc_max_weight = numpy.max(mfgoc_weight)\n",
    "mfgoc_number_of_active_inputs = numpy.bincount(mfgoc_target_cell_index)\n",
    "# Obtain the list of GoC active inputs included in pattern \n",
    "pattern_id = 0\n",
    "included_in_pattern = numpy.in1d(mfgoc_source_cell_index, simulation.pattern_generator.fibers_in_pattern[pattern_id,:])\n",
    "# Retrieve the weight of those MF included in pattern\n",
    "# Search the x-index of elements in y\n",
    "x = simulation.pattern_generator.fibers_in_pattern[pattern_id]\n",
    "y = mfgoc_source_cell_index[included_in_pattern]\n",
    "index = numpy.argsort(x)\n",
    "sorted_x = x[index]\n",
    "sorted_index = numpy.searchsorted(sorted_x, y)\n",
    "yindex = numpy.take(index, sorted_index, mode=\"clip\")\n",
    "# Calculate the normalized activation levels\n",
    "normalized_activation = simulation.pattern_generator.pattern_activation[pattern_id][yindex]\n",
    "# Plot the figure\n",
    "plt.figure(figsize=(15,5))\n",
    "plt.subplot(1,2,1)\n",
    "plt.plot(normalized_activation,mfgoc_weight[included_in_pattern],'.')\n",
    "plt.xlabel('Input Activation in Pattern')\n",
    "plt.ylabel('MF-GoC weight')\n",
    "plt.title('Weight vs Pattern Activation')"
   ]
  },
  {
   "cell_type": "markdown",
   "metadata": {},
   "source": [
    "Analyze the GrC neurons which are strenghted"
   ]
  },
  {
   "cell_type": "code",
   "execution_count": null,
   "metadata": {},
   "outputs": [],
   "source": [
    "# Obtain the list of active GrC-GoC inputs\n",
    "mfgoc_target_cell_index = simulation.cerebellum.layer_map['mfgocsynapsis'].target_index\n",
    "mfgoc_source_cell_index = simulation.cerebellum.layer_map['mfgocsynapsis'].source_index\n",
    "mfgoc_weight = simulation.cerebellum.layer_map['mfgocsynapsis'].weights\n",
    "target_cell_index = mfgoc_target_cell_index>=0\n",
    "mfgoc_max_weight = numpy.max(mfgoc_weight[target_cell_index])\n",
    "selected_synapses = numpy.logical_and(mfgoc_weight>mfgoc_max_weight*0.50,target_cell_index)\n",
    "target_count = numpy.bincount(mfgoc_target_cell_index[selected_synapses],minlength=simulation.cerebellum.get_number_of_elements(layer='goclayer'))\n",
    "source_count = numpy.bincount(mfgoc_source_cell_index[selected_synapses],minlength=simulation.cerebellum.get_number_of_elements(layer='mflayer'))\n",
    "plt.figure(figsize=(15,5))\n",
    "plt.subplot(1,2,1)\n",
    "plt.plot(range(0,simulation.cerebellum.get_number_of_elements(layer='goclayer')),target_count,'.')\n",
    "plt.ylabel('Number of selected synapses')\n",
    "plt.xlabel('Number of GoC cells')\n",
    "plt.subplot(1,2,2)\n",
    "plt.plot(range(0,simulation.cerebellum.get_number_of_elements(layer='mflayer')),source_count,'.')\n",
    "plt.ylabel('Number of selected synapses')\n",
    "plt.xlabel('Number of MF cells')"
   ]
  },
  {
   "cell_type": "markdown",
   "metadata": {},
   "source": [
    "## Information Analysis"
   ]
  },
  {
   "cell_type": "markdown",
   "metadata": {},
   "source": [
    "Mutual information analysis in the GoC layer"
   ]
  },
  {
   "cell_type": "code",
   "execution_count": null,
   "metadata": {},
   "outputs": [],
   "source": [
    "simulation.analyze_av_MI()"
   ]
  },
  {
   "cell_type": "code",
   "execution_count": null,
   "metadata": {},
   "outputs": [],
   "source": [
    "simulation.analyze_Hits_Top()"
   ]
  },
  {
   "cell_type": "code",
   "execution_count": null,
   "metadata": {},
   "outputs": [],
   "source": []
  }
 ],
 "metadata": {
  "kernelspec": {
   "display_name": "Python 2",
   "language": "python",
   "name": "python2"
  },
  "language_info": {
   "codemirror_mode": {
    "name": "ipython",
    "version": 2
   },
   "file_extension": ".py",
   "mimetype": "text/x-python",
   "name": "python",
   "nbconvert_exporter": "python",
   "pygments_lexer": "ipython2",
   "version": "2.7.12"
  }
 },
 "nbformat": 4,
 "nbformat_minor": 2
}
