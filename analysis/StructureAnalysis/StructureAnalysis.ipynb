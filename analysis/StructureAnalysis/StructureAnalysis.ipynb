{
 "cells": [
  {
   "cell_type": "markdown",
   "metadata": {},
   "source": [
    "# Data anaylsis in cerebellar granular layer simulations\n",
    "## No plasticity mechanism enabled - 4mf per GrC\n",
    "First, we set current working directory to the root of Spiking Granular Layer and insert the source folder to the python path:"
   ]
  },
  {
   "cell_type": "code",
   "execution_count": 1,
   "metadata": {},
   "outputs": [],
   "source": [
    "import os\n",
    "os.chdir('../..')\n",
    "os.getcwd()\n",
    "import sys\n",
    "import numpy\n",
    "%matplotlib inline\n",
    "import matplotlib.pyplot as plt\n",
    "sys.path.insert(1,'./src')"
   ]
  },
  {
   "cell_type": "markdown",
   "metadata": {},
   "source": [
    "## Running the simulation\n",
    "Now start setting a new simulation with the configuration file that we specify:"
   ]
  },
  {
   "cell_type": "code",
   "execution_count": 2,
   "metadata": {},
   "outputs": [],
   "source": [
    "config_file = './config/GoCGrCHitTop/SimulationConfigNoPlast4.cfg'\n",
    "data_path = './results'\n",
    "simulation_name = 'TestStructureNetwork'\n",
    "simulation_time = 1500.0\n",
    "analysis_time = 500.0\n",
    "run_the_simulation = True\n",
    "import SpikingSimulation.FrequencySimulation as FrequencySimulation\n",
    "simulation = FrequencySimulation.FrequencySimulation(config_file=config_file)"
   ]
  },
  {
   "cell_type": "markdown",
   "metadata": {},
   "source": [
    "Initialize the simulation. If run_the_simulation is true it will run the long simulation and record the activity, network, weights, state variables and stimulation patterns to some files. Otherwise the simulation will be loaded from the files."
   ]
  },
  {
   "cell_type": "code",
   "execution_count": 4,
   "metadata": {},
   "outputs": [
    {
     "name": "stderr",
     "output_type": "stream",
     "text": [
      "2017-04-19 18:39:31,557 - P42371 - MemTotal:64M - Simulation - DEBUG: Simulation time fixed to 1500.0s\n",
      "2017-04-19 18:39:31,588 - P42371 - MemTotal:64M - Simulation - DEBUG: Creating cerebellum generator\n",
      "2017-04-19 18:39:31,949 - P42371 - MemTotal:78M - Simulation - DEBUG: Initializing cerebellum generator\n",
      "2017-04-19 18:39:31,951 - P42371 - MemTotal:78M - Simulation - DEBUG: Removing results folder ./results/TestStructureNetwork\n",
      "2017-04-19 18:39:31,954 - P42371 - MemTotal:78M - Simulation - DEBUG: Cerebellar simulation initialized\n",
      "2017-04-19 18:39:31,967 - P42371 - MemTotal:79M - Simulation - DEBUG: NEST module loaded\n",
      "2017-04-19 18:39:31,982 - P42371 - MemTotal:82M - Simulation - DEBUG: Setting Global NEST Seed: 123467\n",
      "2017-04-19 18:39:31,985 - P42371 - MemTotal:82M - Simulation - DEBUG: Setting Per-Process NEST Seeds: [123468, 123469, 123470, 123471, 123472, 123473, 123474, 123475, 123476, 123477]\n",
      "2017-04-19 18:39:31,992 - P42371 - MemTotal:82M - Simulation - WARNING: Non-specified cell model parameter: tau_minus in layer mflayer. Using default value\n",
      "2017-04-19 18:39:31,996 - P42371 - MemTotal:82M - Simulation - WARNING: Non-specified cell model parameter: tau_istdp in layer mflayer. Using default value\n",
      "2017-04-19 18:39:32,001 - P42371 - MemTotal:82M - Simulation - WARNING: Non-specified number of neurons in layer mflayer\n",
      "2017-04-19 18:39:32,004 - P42371 - MemTotal:82M - Simulation - WARNING: Non-specified number of neurons in layer grclayer\n",
      "2017-04-19 18:39:32,007 - P42371 - MemTotal:83M - Simulation - WARNING: Non-specified cell model parameter: tau_istdp in layer goclayer. Using default value\n",
      "2017-04-19 18:39:32,009 - P42371 - MemTotal:83M - Simulation - WARNING: Non-specified number of neurons in layer goclayer\n",
      "2017-04-19 18:39:32,012 - P42371 - MemTotal:83M - Simulation - WARNING: tau_minus cannot be calculated in layer mflayer. Variable tau_minus is not defined. Using default value 20.0\n",
      "2017-04-19 18:39:32,015 - P42371 - MemTotal:83M - Simulation - WARNING: tau_minus_triplet cannot be calculated in layer mflayer. Variable tau_istdp is not defined. Using default value 110.0\n",
      "2017-04-19 18:39:32,055 - P42371 - MemTotal:110M - Simulation - DEBUG: Nest Process: 0. Neuron layer created in layer mflayer: 300. Local: 300\n",
      "2017-04-19 18:39:32,221 - P42371 - MemTotal:142M - Simulation - DEBUG: Nest Process: 0. Neuron layer created in layer grclayer: 4000. Local: 4000\n",
      "2017-04-19 18:39:32,224 - P42371 - MemTotal:142M - Simulation - WARNING: tau_minus_triplet cannot be calculated in layer goclayer. Variable tau_istdp is not defined. Using default value 110.0\n",
      "2017-04-19 18:39:32,232 - P42371 - MemTotal:142M - Simulation - DEBUG: Nest Process: 0. Neuron layer created in layer goclayer: 9. Local: 9\n",
      "2017-04-19 18:39:33,828 - P42371 - MemTotal:235M - Simulation - DEBUG: Generated connections in layer mfgrcsynapsis (1 of 1). Local: 16034\n",
      "2017-04-19 18:39:33,841 - P42371 - MemTotal:235M - Simulation - DEBUG: Generated connections in layer mfgocsynapsis (1 of 1). Local: 1900\n",
      "2017-04-19 18:39:33,856 - P42371 - MemTotal:237M - Simulation - DEBUG: Generated connections in layer grcgocsynapsis (1 of 1). Local: 35900\n",
      "2017-04-19 18:39:33,864 - P42371 - MemTotal:227M - Simulation - DEBUG: Creating glomerulus neighbourhood in layer gocgrcsynapsis. 300 glomeruli\n",
      "2017-04-19 18:39:33,921 - P42371 - MemTotal:228M - Simulation - DEBUG: Calculating  neighbourhood in layer gocgrcsynapsis and block 1.\n",
      "2017-04-19 18:39:33,925 - P42371 - MemTotal:228M - Simulation - DEBUG: Calculating  glomerulus connections in layer gocgrcsynapsis and block 1. 300 glomeruli\n",
      "2017-04-19 18:39:34,070 - P42371 - MemTotal:228M - Simulation - DEBUG: Generated glomerulus-like connections in layer gocgrcsynapsis (1 of 1). Local: 155\n",
      "2017-04-19 18:39:34,086 - P42371 - MemTotal:228M - Simulation - DEBUG: Generated glomerulus-like connections in layer gocgrcsynapsis. Local: 7777\n",
      "2017-04-19 18:39:34,094 - P42371 - MemTotal:228M - Simulation - DEBUG: Generated connections in layer gocgocsynapsis (1 of 1). Local: 81\n"
     ]
    },
    {
     "name": "stdout",
     "output_type": "stream",
     "text": [
      "./src/SpikingSimulation/SpikingCerebellum/SynapticLayerNoMPI.py:567: RuntimeWarning: invalid value encountered in divide\n",
      "/Users/jgarrido/NEST/nest210/ins_mpi/lib/python2.7/site-packages/nest/lib/hl_api_helper.py:61: UserWarning: \n",
      "OneToOneConnect is deprecated and will be removed in a future version of NEST.\n",
      "Please use Connect instead!\n",
      "For details, see http://www.nest-simulator.org/connection_management                       "
     ]
    },
    {
     "name": "stderr",
     "output_type": "stream",
     "text": [
      "2017-04-19 18:39:34,627 - P42371 - MemTotal:229M - Simulation - DEBUG: Nest Process: 0. Connections created in layer mfgrcsynapsis: 16034\n",
      "2017-04-19 18:39:34,693 - P42371 - MemTotal:230M - Simulation - DEBUG: Nest Process: 0. Connections created in layer mfgocsynapsis: 1900\n",
      "2017-04-19 18:39:35,907 - P42371 - MemTotal:232M - Simulation - DEBUG: Nest Process: 0. Connections created in layer grcgocsynapsis: 35900\n",
      "2017-04-19 18:39:36,151 - P42371 - MemTotal:232M - Simulation - DEBUG: Nest Process: 0. Connections created in layer gocgrcsynapsis: 7777\n",
      "2017-04-19 18:39:36,156 - P42371 - MemTotal:232M - Simulation - DEBUG: Nest Process: 0. Connections created in layer gocgocsynapsis: 81\n",
      "2017-04-19 18:39:36,219 - P42371 - MemTotal:235M - Simulation - DEBUG: Creating hdf5 activity file ./results/TestStructureNetwork/activity.h5\n",
      "2017-04-19 18:39:36,222 - P42371 - MemTotal:236M - Simulation - DEBUG: Creating group layer mflayer\n",
      "2017-04-19 18:39:36,225 - P42371 - MemTotal:236M - Simulation - DEBUG: Creating activity dataset mflayer\n",
      "2017-04-19 18:39:36,229 - P42371 - MemTotal:236M - Simulation - DEBUG: Creating group layer grclayer\n",
      "2017-04-19 18:39:36,233 - P42371 - MemTotal:236M - Simulation - DEBUG: Creating activity dataset grclayer\n",
      "2017-04-19 18:39:36,240 - P42371 - MemTotal:236M - Simulation - DEBUG: Creating group layer goclayer\n",
      "2017-04-19 18:39:36,247 - P42371 - MemTotal:236M - Simulation - DEBUG: Creating activity dataset goclayer\n",
      "2017-04-19 18:39:36,252 - P42371 - MemTotal:236M - Simulation - INFO: Saving network to hdf5 file ./results/TestStructureNetwork/network.h5\n",
      "2017-04-19 18:39:37,528 - P42371 - MemTotal:347M - Simulation - DEBUG: Creating hdf5 activity file ./results/TestStructureNetwork/network.h5\n",
      "2017-04-19 18:39:37,530 - P42371 - MemTotal:347M - Simulation - DEBUG: Writing neuron layer mflayer\n",
      "2017-04-19 18:39:37,532 - P42371 - MemTotal:347M - Simulation - DEBUG: Writing neuron layer grclayer\n",
      "2017-04-19 18:39:37,535 - P42371 - MemTotal:347M - Simulation - DEBUG: Writing neuron layer goclayer\n",
      "2017-04-19 18:39:37,537 - P42371 - MemTotal:347M - Simulation - DEBUG: Writing neuron layer mfgrcsynapsis\n",
      "2017-04-19 18:39:37,541 - P42371 - MemTotal:347M - Simulation - DEBUG: Writing neuron layer mfgocsynapsis\n",
      "2017-04-19 18:39:37,544 - P42371 - MemTotal:347M - Simulation - DEBUG: Writing neuron layer grcgocsynapsis\n",
      "2017-04-19 18:39:37,548 - P42371 - MemTotal:347M - Simulation - DEBUG: Writing neuron layer gocgrcsynapsis\n",
      "2017-04-19 18:39:37,551 - P42371 - MemTotal:347M - Simulation - DEBUG: Writing neuron layer gocgocsynapsis\n",
      "2017-04-19 18:39:37,555 - P42371 - MemTotal:347M - Simulation - DEBUG: File writing ended\n",
      "2017-04-19 18:39:37,558 - P42371 - MemTotal:347M - Simulation - DEBUG: Creating AC Current generator\n",
      "2017-04-19 18:39:37,562 - P42371 - MemTotal:349M - Simulation - DEBUG: Creating DC Current generator\n",
      "2017-04-19 18:39:37,672 - P42371 - MemTotal:349M - Simulation - DEBUG: Pattern 0 and 1 share 9 input cells: [ 16  23 145 153 191 214 243 267 296]\n",
      "2017-04-19 18:39:37,676 - P42371 - MemTotal:349M - Simulation - DEBUG: Pattern 0 and 2 share 6 input cells: [  8  16  51  86 132 160]\n",
      "2017-04-19 18:39:37,680 - P42371 - MemTotal:349M - Simulation - DEBUG: Pattern 0 and 3 share 15 input cells: [ 23  25  61  85  87  95 132 160 188 210 222 232 234 243 297]\n",
      "2017-04-19 18:39:37,685 - P42371 - MemTotal:349M - Simulation - DEBUG: Pattern 1 and 2 share 17 input cells: [  6  16  24  58  83  94 127 137 196 203 212 215 231 242 258 286 294]\n",
      "2017-04-19 18:39:37,691 - P42371 - MemTotal:349M - Simulation - DEBUG: Pattern 1 and 3 share 10 input cells: [  0  23  31  46  60 196 230 243 253 286]\n",
      "2017-04-19 18:39:37,696 - P42371 - MemTotal:349M - Simulation - DEBUG: Pattern 2 and 3 share 14 input cells: [  7  41  64  75  88 114 132 146 160 196 261 264 279 286]\n",
      "2017-04-19 18:39:37,797 - P42371 - MemTotal:379M - Simulation - DEBUG: Pattern 0 and 1 share 9 input cells: [ 16  23 145 153 191 214 243 267 296]\n",
      "2017-04-19 18:39:37,804 - P42371 - MemTotal:379M - Simulation - DEBUG: Activation level of pattern 0 in shared cells: [ 0.43002679  0.53460417  0.64316578  0.83833642  0.14591939  0.29708734\n",
      "  0.00638729  0.46201501  0.66913564]\n",
      "2017-04-19 18:39:37,810 - P42371 - MemTotal:379M - Simulation - DEBUG: Activation level of pattern 1 in shared cells: [ 1.          0.21138951  0.71583425  0.49383486  0.41574875  0.43044295\n",
      "  0.79617372  0.14701144  0.21178965]\n",
      "2017-04-19 18:39:37,817 - P42371 - MemTotal:379M - Simulation - DEBUG: Pattern 0 and 2 share 6 input cells: [  8  16  51  86 132 160]\n",
      "2017-04-19 18:39:37,822 - P42371 - MemTotal:379M - Simulation - DEBUG: Activation level of pattern 0 in shared cells: [ 0.93805279  0.43002679  0.12550349  0.70431764  0.91557112  0.31415745]\n",
      "2017-04-19 18:39:37,827 - P42371 - MemTotal:379M - Simulation - DEBUG: Activation level of pattern 2 in shared cells: [ 0.77440581  0.34793876  0.61341688  0.64156725  0.47069324  0.71513273]\n",
      "2017-04-19 18:39:37,832 - P42371 - MemTotal:379M - Simulation - DEBUG: Pattern 0 and 3 share 15 input cells: [ 23  25  61  85  87  95 132 160 188 210 222 232 234 243 297]\n",
      "2017-04-19 18:39:37,838 - P42371 - MemTotal:379M - Simulation - DEBUG: Activation level of pattern 0 in shared cells: [ 0.53460417  0.00193951  0.62680084  0.64426413  0.28740332  1.\n",
      "  0.91557112  0.31415745  0.22261028  0.71280674  0.16565869  0.28043686\n",
      "  0.01358036  0.00638729  0.61372131]\n",
      "2017-04-19 18:39:37,845 - P42371 - MemTotal:379M - Simulation - DEBUG: Activation level of pattern 3 in shared cells: [ 0.06104189  0.74939959  0.79489027  0.25322111  0.31084376  0.89301423\n",
      "  0.76276727  0.47651328  0.13851851  0.48093543  0.02817136  0.91956587\n",
      "  0.52725046  0.80762758  0.38526838]\n",
      "2017-04-19 18:39:37,851 - P42371 - MemTotal:379M - Simulation - DEBUG: Pattern 1 and 2 share 17 input cells: [  6  16  24  58  83  94 127 137 196 203 212 215 231 242 258 286 294]\n",
      "2017-04-19 18:39:37,856 - P42371 - MemTotal:379M - Simulation - DEBUG: Activation level of pattern 1 in shared cells: [ 0.77303845  1.          0.78791502  0.61663083  0.35188893  0.78764946\n",
      "  0.23820498  0.64679237  0.80849599  0.51327155  0.36516518  0.23818215\n",
      "  0.46915833  0.50705151  0.63209258  0.11371912  0.25234913]\n",
      "2017-04-19 18:39:37,864 - P42371 - MemTotal:379M - Simulation - DEBUG: Activation level of pattern 2 in shared cells: [ 0.57424375  0.34793876  0.24507431  0.52948626  0.26864623  0.6768276\n",
      "  0.25867818  0.68920301  0.26206566  0.36600262  0.11842311  0.26293333\n",
      "  0.07639168  0.02755972  0.50918791  0.74717682  0.86662024]\n",
      "2017-04-19 18:39:37,872 - P42371 - MemTotal:379M - Simulation - DEBUG: Pattern 1 and 3 share 10 input cells: [  0  23  31  46  60 196 230 243 253 286]\n",
      "2017-04-19 18:39:37,879 - P42371 - MemTotal:379M - Simulation - DEBUG: Activation level of pattern 1 in shared cells: [ 0.16235269  0.21138951  0.27635501  0.19035319  1.          0.80849599\n",
      "  0.87498837  0.79617372  0.6441243   0.11371912]\n",
      "2017-04-19 18:39:37,887 - P42371 - MemTotal:379M - Simulation - DEBUG: Activation level of pattern 3 in shared cells: [ 0.64956936  0.06104189  0.45300879  0.97071662  0.0888109   0.42423066\n",
      "  0.88603446  0.80762758  0.86478591  0.38736921]\n",
      "2017-04-19 18:39:37,893 - P42371 - MemTotal:379M - Simulation - DEBUG: Pattern 2 and 3 share 14 input cells: [  7  41  64  75  88 114 132 146 160 196 261 264 279 286]\n",
      "2017-04-19 18:39:37,900 - P42371 - MemTotal:379M - Simulation - DEBUG: Activation level of pattern 2 in shared cells: [ 0.70851458  0.26911052  0.13615583  0.57252368  0.11434321  0.59477058\n",
      "  0.47069324  0.9865248   0.71513273  0.26206566  0.36981542  0.33847122\n",
      "  0.81423401  0.74717682]\n",
      "2017-04-19 18:39:37,906 - P42371 - MemTotal:379M - Simulation - DEBUG: Activation level of pattern 3 in shared cells: [ 0.2163498   0.03253906  0.2829559   0.66615916  0.02146563  0.98589576\n",
      "  0.76276727  0.32750222  0.47651328  0.42423066  0.40351054  0.93070738\n",
      "  0.11832219  0.38736921]\n",
      "2017-04-19 18:39:39,679 - P42371 - MemTotal:466M - Simulation - DEBUG: Normalization on iteration 10\n",
      "2017-04-19 18:39:39,685 - P42371 - MemTotal:466M - Simulation - DEBUG: Average sum per columns 150.080631365\n",
      "2017-04-19 18:39:39,692 - P42371 - MemTotal:466M - Simulation - DEBUG: Average sum per rows 3041.63412899\n"
     ]
    },
    {
     "name": "stderr",
     "output_type": "stream",
     "text": [
      "2017-04-19 18:39:39,713 - P42371 - MemTotal:447M - Simulation - INFO: Saving activation patterns to hdf5 file ./results/TestStructureNetwork/stimulation_pattern.h5\n",
      "2017-04-19 18:39:39,719 - P42371 - MemTotal:447M - Simulation - DEBUG: Writing stimulation pattern bin length\n",
      "2017-04-19 18:39:39,724 - P42371 - MemTotal:447M - Simulation - DEBUG: Writing pattern activation matrix\n",
      "2017-04-19 18:39:39,730 - P42371 - MemTotal:447M - Simulation - DEBUG: Writing activation levels of simulation\n",
      "2017-04-19 18:39:39,775 - P42371 - MemTotal:447M - Simulation - DEBUG: Writing stimulation pattern 0\n",
      "2017-04-19 18:39:39,781 - P42371 - MemTotal:447M - Simulation - DEBUG: Writing stimulation pattern 1\n",
      "2017-04-19 18:39:39,787 - P42371 - MemTotal:447M - Simulation - DEBUG: Writing stimulation pattern 2\n",
      "2017-04-19 18:39:39,792 - P42371 - MemTotal:447M - Simulation - DEBUG: Writing stimulation pattern 3\n",
      "2017-04-19 18:39:39,814 - P42371 - MemTotal:447M - Simulation - DEBUG: File writing ended\n"
     ]
    },
    {
     "name": "stdout",
     "output_type": "stream",
     "text": [
      "\n"
     ]
    }
   ],
   "source": [
    "simulation.config_options['simulation']['verbosity'] = 'Debug'\n",
    "simulation.config_options['simulation']['seed'] = 123456\n",
    "simulation.config_options['simulation']['time'] = simulation_time\n",
    "simulation.config_options['simulation']['data_path'] = data_path\n",
    "simulation.config_options['simulation']['simulation_name'] = simulation_name\n",
    "simulation.config_options['simulation']['register_activity_only_in_test'] = False\n",
    "simulation.config_options['simulation']['run_simulation'] = run_the_simulation\n",
    "simulation.config_options['simulation']['record_to_file'] = run_the_simulation\n",
    "simulation.config_options['simulation']['state_recording_step'] = 100\n",
    "if run_the_simulation:\n",
    "    simulation.config_options['network']['load_file'] = None\n",
    "else:\n",
    "    simulation.config_options['network']['load_file'] = data_path + '/' + simulation_name + '/network.h5'\n",
    "simulation.config_options['stimulation']['load_pattern_file'] = None\n",
    "simulation.config_options['mflayer']['register_activity'] = True\n",
    "simulation.config_options['grclayer']['register_activity'] = True\n",
    "simulation.config_options['goclayer']['register_activity'] = True\n",
    "simulation.config_options['grclayer']['save_state_vars'] = 'Vth'\n",
    "simulation.config_options['grclayer']['load_state_vars'] = 'Vth'\n",
    "simulation.config_options['grclayer']['record_vars'] = 'Vth'\n",
    "simulation.config_options['goclayer']['save_state_vars'] = 'Vth'\n",
    "simulation.config_options['goclayer']['load_state_vars'] = 'Vth'\n",
    "simulation.config_options['goclayer']['record_vars'] = 'Vth'\n",
    "simulation.config_options['mfgrcsynapsis']['weight_recording'] = True\n",
    "simulation.config_options['mfgocsynapsis']['weight_recording'] = True\n",
    "simulation.config_options['grcgocsynapsis']['weight_recording'] = True\n",
    "simulation.config_options['gocgrcsynapsis']['weight_recording'] = True\n",
    "simulation.config_options['gocgocsynapsis']['weight_recording'] = True\n",
    "simulation.config_options['network']['length'] = 1.0e-1\n",
    "simulation.config_options['gocgrcsynapsis']['average_dendritic_length'] = 230.0e-3\n",
    "simulation.initialize()"
   ]
  },
  {
   "cell_type": "markdown",
   "metadata": {},
   "source": [
    "## Neuronal elements"
   ]
  },
  {
   "cell_type": "markdown",
   "metadata": {},
   "source": [
    "Print the number of neurons of each type"
   ]
  },
  {
   "cell_type": "code",
   "execution_count": 5,
   "metadata": {},
   "outputs": [
    {
     "name": "stdout",
     "output_type": "stream",
     "text": [
      "Number of Mossy Fibers: 300\n",
      "Number of granule cells: 4000\n",
      "Number of Golgi cells: 9\n"
     ]
    }
   ],
   "source": [
    "mfnumber = simulation.cerebellum.get_number_of_elements(layer='mflayer')\n",
    "print 'Number of Mossy Fibers:',mfnumber\n",
    "grcnumber = simulation.cerebellum.get_number_of_elements(layer='grclayer')\n",
    "print 'Number of granule cells:',grcnumber\n",
    "gocnumber = simulation.cerebellum.get_number_of_elements(layer='goclayer')\n",
    "print 'Number of Golgi cells:',gocnumber"
   ]
  },
  {
   "cell_type": "markdown",
   "metadata": {},
   "source": [
    "Plot the histogram of neuron position for each axis"
   ]
  },
  {
   "cell_type": "code",
   "execution_count": 6,
   "metadata": {},
   "outputs": [
    {
     "data": {
      "image/png": "[encoded data removed]",
      "text/plain": [
       "<matplotlib.figure.Figure at 0x115229e10>"
      ]
     },
     "metadata": {},
     "output_type": "display_data"
    }
   ],
   "source": [
    "mfpositions = simulation.cerebellum.mflayer.get_relative_coordinates()\n",
    "grcpositions = simulation.cerebellum.grclayer.get_relative_coordinates()\n",
    "gocpositions = simulation.cerebellum.goclayer.get_relative_coordinates()\n",
    "positions = [mfpositions, grcpositions, gocpositions]\n",
    "n_bins = 5\n",
    "labels = ['x','y','z']\n",
    "title = ['MF relative positions', 'GrC relative positions', 'GoC relative positions']\n",
    "plt.figure(figsize=(20,6))\n",
    "for ind, cur_position in enumerate(positions):\n",
    "    plt.subplot(1,len(positions),ind+1)\n",
    "    plt.hist(cur_position, n_bins, normed=1, histtype='bar', stacked=True, label = labels)\n",
    "    plt.xlabel('Relative position')\n",
    "    plt.ylabel('Count')\n",
    "    plt.title(title[ind])\n",
    "    plt.legend()"
   ]
  },
  {
   "cell_type": "markdown",
   "metadata": {},
   "source": [
    "## MF-GrC Connectivity Analysis"
   ]
  },
  {
   "cell_type": "markdown",
   "metadata": {},
   "source": [
    "Histogram of input synapses for the granular cells"
   ]
  },
  {
   "cell_type": "code",
   "execution_count": 7,
   "metadata": {},
   "outputs": [
    {
     "data": {
      "text/plain": [
       "<matplotlib.text.Text at 0x110b3c790>"
      ]
     },
     "execution_count": 7,
     "metadata": {},
     "output_type": "execute_result"
    },
    {
     "data": {
      "image/png": "[encoded data removed]",
      "text/plain": [
       "<matplotlib.figure.Figure at 0x1088fd090>"
      ]
     },
     "metadata": {},
     "output_type": "display_data"
    }
   ],
   "source": [
    "target_cell_index = simulation.cerebellum.layer_map['mfgrcsynapsis'].target_index\n",
    "cell_number = simulation.cerebellum.layer_map['grclayer'].number_of_neurons\n",
    "number_of_inputs = numpy.bincount(target_cell_index)\n",
    "plt.hist(number_of_inputs, bins=10, range=(0,9))\n",
    "plt.ylabel('Number of GrC cells')\n",
    "plt.xlabel('Number of MF-GrC afferents')"
   ]
  },
  {
   "cell_type": "markdown",
   "metadata": {},
   "source": [
    "Histogram of output synapses for the mossy fibers"
   ]
  },
  {
   "cell_type": "code",
   "execution_count": 8,
   "metadata": {},
   "outputs": [
    {
     "data": {
      "text/plain": [
       "<matplotlib.text.Text at 0x115288250>"
      ]
     },
     "execution_count": 8,
     "metadata": {},
     "output_type": "execute_result"
    },
    {
     "data": {
      "image/png": "[encoded data removed]",
      "text/plain": [
       "<matplotlib.figure.Figure at 0x1121bb5d0>"
      ]
     },
     "metadata": {},
     "output_type": "display_data"
    }
   ],
   "source": [
    "source_cell_index = simulation.cerebellum.layer_map['mfgrcsynapsis'].source_index\n",
    "cell_number = simulation.cerebellum.layer_map['mflayer'].number_of_neurons\n",
    "number_of_outputs = numpy.bincount(source_cell_index)\n",
    "plt.hist(number_of_outputs, bins=10, range=None)\n",
    "plt.ylabel('Number of MF cells')\n",
    "plt.xlabel('Number of MF-GrC efferents')"
   ]
  },
  {
   "cell_type": "markdown",
   "metadata": {},
   "source": [
    "## MF-GoC Connectivity Analysis"
   ]
  },
  {
   "cell_type": "markdown",
   "metadata": {},
   "source": [
    "Histogram of input synapses for the Golgi cells"
   ]
  },
  {
   "cell_type": "code",
   "execution_count": 9,
   "metadata": {},
   "outputs": [
    {
     "data": {
      "text/plain": [
       "<matplotlib.text.Text at 0x11102d790>"
      ]
     },
     "execution_count": 9,
     "metadata": {},
     "output_type": "execute_result"
    },
    {
     "data": {
      "image/png": "[encoded data removed]",
      "text/plain": [
       "<matplotlib.figure.Figure at 0x1110105d0>"
      ]
     },
     "metadata": {},
     "output_type": "display_data"
    }
   ],
   "source": [
    "target_cell_index = simulation.cerebellum.layer_map['mfgocsynapsis'].target_index\n",
    "cell_number = simulation.cerebellum.layer_map['goclayer'].number_of_neurons\n",
    "number_of_inputs = numpy.bincount(target_cell_index)\n",
    "plt.hist(number_of_inputs, bins=10, range=None)\n",
    "plt.ylabel('Number of GoC cells')\n",
    "plt.xlabel('Number of MF-GoC afferents')"
   ]
  },
  {
   "cell_type": "markdown",
   "metadata": {},
   "source": [
    "Histogram of output synapses for the mossy fibers"
   ]
  },
  {
   "cell_type": "code",
   "execution_count": 10,
   "metadata": {},
   "outputs": [
    {
     "data": {
      "text/plain": [
       "<matplotlib.text.Text at 0x1116ba850>"
      ]
     },
     "execution_count": 10,
     "metadata": {},
     "output_type": "execute_result"
    },
    {
     "data": {
      "image/png": "[encoded data removed]",
      "text/plain": [
       "<matplotlib.figure.Figure at 0x1116ba7d0>"
      ]
     },
     "metadata": {},
     "output_type": "display_data"
    }
   ],
   "source": [
    "source_cell_index = simulation.cerebellum.layer_map['mfgocsynapsis'].source_index\n",
    "cell_number = simulation.cerebellum.layer_map['mflayer'].number_of_neurons\n",
    "number_of_outputs = numpy.bincount(source_cell_index)\n",
    "plt.hist(number_of_outputs, bins=10, range=None)\n",
    "plt.ylabel('Number of MF cells')\n",
    "plt.xlabel('Number of MF-GoC efferents')"
   ]
  },
  {
   "cell_type": "markdown",
   "metadata": {},
   "source": [
    "## GrC-GoC Connectivity Analysis"
   ]
  },
  {
   "cell_type": "markdown",
   "metadata": {},
   "source": [
    "Histogram of input synapses for the Golgi cells"
   ]
  },
  {
   "cell_type": "code",
   "execution_count": 11,
   "metadata": {},
   "outputs": [
    {
     "data": {
      "text/plain": [
       "<matplotlib.text.Text at 0x112ab6750>"
      ]
     },
     "execution_count": 11,
     "metadata": {},
     "output_type": "execute_result"
    },
    {
     "data": {
      "image/png": "[encoded data removed]",
      "text/plain": [
       "<matplotlib.figure.Figure at 0x1110cf050>"
      ]
     },
     "metadata": {},
     "output_type": "display_data"
    }
   ],
   "source": [
    "target_cell_index = simulation.cerebellum.layer_map['grcgocsynapsis'].target_index\n",
    "cell_number = simulation.cerebellum.layer_map['goclayer'].number_of_neurons\n",
    "number_of_inputs = numpy.bincount(target_cell_index)\n",
    "plt.hist(number_of_inputs, bins=10)\n",
    "plt.ylabel('Number of GoC cells')\n",
    "plt.xlabel('Number of GrC-GoC afferents')"
   ]
  },
  {
   "cell_type": "markdown",
   "metadata": {},
   "source": [
    "Histogram of output synapses for the granule cells"
   ]
  },
  {
   "cell_type": "code",
   "execution_count": 12,
   "metadata": {},
   "outputs": [
    {
     "data": {
      "text/plain": [
       "<matplotlib.text.Text at 0x1116e4a10>"
      ]
     },
     "execution_count": 12,
     "metadata": {},
     "output_type": "execute_result"
    },
    {
     "data": {
      "image/png": "[encoded data removed]",
      "text/plain": [
       "<matplotlib.figure.Figure at 0x112bef610>"
      ]
     },
     "metadata": {},
     "output_type": "display_data"
    }
   ],
   "source": [
    "source_cell_index = simulation.cerebellum.layer_map['grcgocsynapsis'].source_index\n",
    "cell_number = simulation.cerebellum.layer_map['grclayer'].number_of_neurons\n",
    "number_of_outputs = numpy.bincount(source_cell_index)\n",
    "plt.hist(number_of_outputs, bins=10, range=None)\n",
    "plt.ylabel('Number of GrC cells')\n",
    "plt.xlabel('Number of GrC-GoC efferents')"
   ]
  },
  {
   "cell_type": "markdown",
   "metadata": {},
   "source": [
    "## GoC-GrC Connectivity Analysis"
   ]
  },
  {
   "cell_type": "markdown",
   "metadata": {},
   "source": [
    "Histogram of input synapses for the Golgi cells"
   ]
  },
  {
   "cell_type": "code",
   "execution_count": 13,
   "metadata": {},
   "outputs": [
    {
     "data": {
      "text/plain": [
       "<matplotlib.text.Text at 0x112d5f590>"
      ]
     },
     "execution_count": 13,
     "metadata": {},
     "output_type": "execute_result"
    },
    {
     "data": {
      "image/png": "[encoded data removed]",
      "text/plain": [
       "<matplotlib.figure.Figure at 0x112da70d0>"
      ]
     },
     "metadata": {},
     "output_type": "display_data"
    }
   ],
   "source": [
    "target_cell_index = simulation.cerebellum.layer_map['gocgrcsynapsis'].target_index\n",
    "cell_number = simulation.cerebellum.layer_map['grclayer'].number_of_neurons\n",
    "number_of_inputs = numpy.bincount(target_cell_index)\n",
    "plt.hist(number_of_inputs, bins=10)\n",
    "plt.ylabel('Number of GrC cells')\n",
    "plt.xlabel('Number of GoC-GrC afferents')"
   ]
  },
  {
   "cell_type": "markdown",
   "metadata": {},
   "source": [
    "Histogram of output synapses for the Golgi cells"
   ]
  },
  {
   "cell_type": "code",
   "execution_count": 14,
   "metadata": {},
   "outputs": [
    {
     "data": {
      "text/plain": [
       "<matplotlib.text.Text at 0x112d3b450>"
      ]
     },
     "execution_count": 14,
     "metadata": {},
     "output_type": "execute_result"
    },
    {
     "data": {
      "image/png": "[encoded data removed]",
      "text/plain": [
       "<matplotlib.figure.Figure at 0x111002b90>"
      ]
     },
     "metadata": {},
     "output_type": "display_data"
    }
   ],
   "source": [
    "source_cell_index = simulation.cerebellum.layer_map['gocgrcsynapsis'].source_index\n",
    "cell_number = simulation.cerebellum.layer_map['goclayer'].number_of_neurons\n",
    "number_of_outputs = numpy.bincount(source_cell_index)\n",
    "plt.hist(number_of_outputs, bins=10, range=None)\n",
    "plt.ylabel('Number of GoC cells')\n",
    "plt.xlabel('Number of GoC-GrC efferents')"
   ]
  },
  {
   "cell_type": "markdown",
   "metadata": {},
   "source": [
    "## GoC-GoC Connectivity Analysis"
   ]
  },
  {
   "cell_type": "markdown",
   "metadata": {},
   "source": [
    "Histogram of input synapses for the Golgi cells"
   ]
  },
  {
   "cell_type": "code",
   "execution_count": 15,
   "metadata": {},
   "outputs": [
    {
     "data": {
      "text/plain": [
       "<matplotlib.text.Text at 0x112efe490>"
      ]
     },
     "execution_count": 15,
     "metadata": {},
     "output_type": "execute_result"
    },
    {
     "data": {
      "image/png": "[encoded data removed]",
      "text/plain": [
       "<matplotlib.figure.Figure at 0x113029910>"
      ]
     },
     "metadata": {},
     "output_type": "display_data"
    }
   ],
   "source": [
    "target_cell_index = simulation.cerebellum.layer_map['gocgocsynapsis'].target_index\n",
    "cell_number = simulation.cerebellum.layer_map['goclayer'].number_of_neurons\n",
    "number_of_inputs = numpy.bincount(target_cell_index)\n",
    "plt.hist(number_of_inputs, bins=10)\n",
    "plt.ylabel('Number of GoC cells')\n",
    "plt.xlabel('Number of GoC-GoC afferents')"
   ]
  },
  {
   "cell_type": "markdown",
   "metadata": {},
   "source": [
    "Histogram of output synapses for the Golgi cells"
   ]
  },
  {
   "cell_type": "code",
   "execution_count": 16,
   "metadata": {},
   "outputs": [
    {
     "data": {
      "text/plain": [
       "<matplotlib.text.Text at 0x11528f750>"
      ]
     },
     "execution_count": 16,
     "metadata": {},
     "output_type": "execute_result"
    },
    {
     "data": {
      "image/png": "[encoded data removed]",
      "text/plain": [
       "<matplotlib.figure.Figure at 0x115214590>"
      ]
     },
     "metadata": {},
     "output_type": "display_data"
    }
   ],
   "source": [
    "source_cell_index = simulation.cerebellum.layer_map['gocgocsynapsis'].source_index\n",
    "cell_number = simulation.cerebellum.layer_map['goclayer'].number_of_neurons\n",
    "number_of_outputs = numpy.bincount(source_cell_index)\n",
    "plt.hist(number_of_outputs, bins=10, range=None)\n",
    "plt.ylabel('Number of GoC cells')\n",
    "plt.xlabel('Number of GoC-GoC efferents')"
   ]
  },
  {
   "cell_type": "code",
   "execution_count": null,
   "metadata": {
    "collapsed": true
   },
   "outputs": [],
   "source": []
  }
 ],
 "metadata": {
  "kernelspec": {
   "display_name": "Python 2",
   "language": "python",
   "name": "python2"
  },
  "language_info": {
   "codemirror_mode": {
    "name": "ipython",
    "version": 2
   },
   "file_extension": ".py",
   "mimetype": "text/x-python",
   "name": "python",
   "nbconvert_exporter": "python",
   "pygments_lexer": "ipython2",
   "version": "2.7.13"
  }
 },
 "nbformat": 4,
 "nbformat_minor": 1
}
