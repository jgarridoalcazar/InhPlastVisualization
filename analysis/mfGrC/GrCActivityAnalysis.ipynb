{
 "cells": [
  {
   "cell_type": "markdown",
   "metadata": {},
   "source": [
    "# Data anaylsis in cerebellar granular layer simulations\n",
    "## Running the simulation\n",
    "\n",
    "First, we set current working directory to the root of Spiking Granular Layer and insert the source folder to the python path:"
   ]
  },
  {
   "cell_type": "code",
   "execution_count": null,
   "metadata": {
    "collapsed": false
   },
   "outputs": [],
   "source": [
    "import os\n",
    "os.chdir('../../')\n",
    "os.getcwd()\n",
    "import sys\n",
    "sys.path.insert(1,'./src')"
   ]
  },
  {
   "cell_type": "markdown",
   "metadata": {},
   "source": [
    "Now start setting a new simulation with the configuration file that we specify:"
   ]
  },
  {
   "cell_type": "code",
   "execution_count": null,
   "metadata": {
    "collapsed": false
   },
   "outputs": [],
   "source": [
    "config_file = './config/GoCGrC/SimulationConfigGranular.cfg'\n",
    "simulation_time = 50.0\n",
    "import SpikingSimulation.FrequencySimulation as FrequencySimulation\n",
    "simulation = FrequencySimulation.FrequencySimulation(config_file=config_file)"
   ]
  },
  {
   "cell_type": "markdown",
   "metadata": {},
   "source": [
    "Initialize the simulation"
   ]
  },
  {
   "cell_type": "code",
   "execution_count": null,
   "metadata": {
    "collapsed": false
   },
   "outputs": [],
   "source": [
    "simulation.config_options['simulation']['verbosity'] = 'Debug'\n",
    "simulation.config_options['simulation']['time'] = simulation_time\n",
    "simulation.config_options['network']['length'] = 1.0e-1\n",
    "simulation.config_options['mfgrcsynapsis']['average_number_of_source_cells'] = 40\n",
    "simulation.config_options['mfgrcsynapsis']['std_number_of_source_cells'] = 1\n",
    "simulation.config_options['mfgrcsynapsis']['average_dendritic_length'] = 13.6e-3\n",
    "simulation.config_options['mfgrcsynapsis']['std_dendritic_length'] = 10.6e-3\n",
    "simulation.config_options['mfgrcsynapsis']['random_min_weight'] = 3.1e-9\n",
    "simulation.config_options['mfgrcsynapsis']['random_max_weight'] = 3.1e-9\n",
    "simulation.initialize()"
   ]
  },
  {
   "cell_type": "markdown",
   "metadata": {},
   "source": [
    "Visualize the simulation or only run it."
   ]
  },
  {
   "cell_type": "code",
   "execution_count": null,
   "metadata": {
    "collapsed": false
   },
   "outputs": [],
   "source": [
    "simulation.visualize_animation()\n",
    "#simulation.run_simulation()"
   ]
  },
  {
   "cell_type": "markdown",
   "metadata": {},
   "source": [
    "Calculate the average firing frequency of each granular cells during the ending 100 seconds"
   ]
  },
  {
   "cell_type": "code",
   "execution_count": null,
   "metadata": {
    "collapsed": false
   },
   "outputs": [],
   "source": [
    "gtime,gcell_id = simulation.cerebellum.get_spike_activity(neuron_layer = 'grclayer',\n",
    "                                                          init_time = simulation.current_time-100.0, \n",
    "                                                          end_time = simulation.current_time)\n",
    "import numpy\n",
    "firing_frequency = numpy.bincount(gcell_id) / (simulation_time*8.0)\n",
    "%matplotlib inline\n",
    "import matplotlib.pyplot as plt\n",
    "plt.hist(firing_frequency, bins=20)\n",
    "plt.ylabel('Number of GrC cells')\n",
    "plt.xlabel('Av. Spikes per Oscillatory Cycle')"
   ]
  },
  {
   "cell_type": "markdown",
   "metadata": {},
   "source": [
    "Get the histogram of input synapses for the granular cells"
   ]
  },
  {
   "cell_type": "code",
   "execution_count": null,
   "metadata": {
    "collapsed": false
   },
   "outputs": [],
   "source": [
    "target_cell_index = simulation.cerebellum.layer_map['mfgrcsynapsis'].target_index\n",
    "cell_number = simulation.cerebellum.layer_map['grclayer'].number_of_neurons\n",
    "import numpy\n",
    "number_of_inputs = numpy.bincount(target_cell_index)\n",
    "%matplotlib inline\n",
    "import matplotlib.pyplot as plt\n",
    "plt.hist(number_of_inputs, bins=30)\n",
    "plt.ylabel('Number of GrC cells')\n",
    "plt.xlabel('Number of input synapses from glomeruli')\n"
   ]
  },
  {
   "cell_type": "code",
   "execution_count": null,
   "metadata": {
    "collapsed": true
   },
   "outputs": [],
   "source": []
  }
 ],
 "metadata": {
  "kernelspec": {
   "display_name": "Python 2",
   "language": "python",
   "name": "python2"
  },
  "language_info": {
   "codemirror_mode": {
    "name": "ipython",
    "version": 2
   },
   "file_extension": ".py",
   "mimetype": "text/x-python",
   "name": "python",
   "nbconvert_exporter": "python",
   "pygments_lexer": "ipython2",
   "version": "2.7.9"
  }
 },
 "nbformat": 4,
 "nbformat_minor": 0
}
