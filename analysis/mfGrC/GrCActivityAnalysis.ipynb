{
 "cells": [
  {
   "cell_type": "markdown",
   "metadata": {},
   "source": [
    "# Data anaylsis in cerebellar granular layer simulations\n",
    "## Running the simulation\n",
    "\n",
    "First, we set current working directory to the root of Spiking Granular Layer and insert the source folder to the python path:"
   ]
  },
  {
   "cell_type": "code",
   "execution_count": 1,
   "metadata": {
    "collapsed": false
   },
   "outputs": [],
   "source": [
    "import os\n",
    "os.chdir('../../')\n",
    "os.getcwd()\n",
    "import sys\n",
    "sys.path.insert(1,'./src')"
   ]
  },
  {
   "cell_type": "markdown",
   "metadata": {},
   "source": [
    "Now start setting a new simulation with the configuration file that we specify:"
   ]
  },
  {
   "cell_type": "code",
   "execution_count": 2,
   "metadata": {
    "collapsed": false
   },
   "outputs": [],
   "source": [
    "config_file = './config/GoCGrC/SimulationConfigGranular.cfg'\n",
    "simulation_time = 50.0\n",
    "import SpikingSimulation.FrequencySimulation as FrequencySimulation\n",
    "simulation = FrequencySimulation.FrequencySimulation(config_file=config_file)"
   ]
  },
  {
   "cell_type": "markdown",
   "metadata": {},
   "source": [
    "Initialize the simulation"
   ]
  },
  {
   "cell_type": "code",
   "execution_count": 3,
   "metadata": {
    "collapsed": false
   },
   "outputs": [
    {
     "name": "stderr",
     "output_type": "stream",
     "text": [
      "2016-04-25 10:43:52,797 - P8730 - Simulation - DEBUG: Simulation time fixed to 50.0s\n",
      "2016-04-25 10:43:52,798 - P8730 - Simulation - DEBUG: Creating cerebellum generator\n",
      "2016-04-25 10:43:52,899 - P8730 - Simulation - DEBUG: Initializing cerebellum generator\n",
      "2016-04-25 10:43:52,900 - P8730 - Simulation - DEBUG: Cerebellar simulation initialized\n",
      "2016-04-25 10:43:52,909 - P8730 - Simulation - DEBUG: NEST module loaded\n",
      "2016-04-25 10:43:52,931 - P8730 - Simulation - DEBUG: Setting Global NEST Seed: 123469\n",
      "2016-04-25 10:43:52,932 - P8730 - Simulation - DEBUG: Setting Per-Process NEST Seeds: [123470, 123471, 123472, 123473, 123474, 123475, 123476, 123477, 123478, 123479, 123480, 123481]\n",
      "2016-04-25 10:43:52,954 - P8730 - Simulation - WARNING: Non-specified cell model parameter: tau_minus in layer mflayer. Using default value\n",
      "2016-04-25 10:43:52,956 - P8730 - Simulation - WARNING: Non-specified number of neurons in layer mflayer\n",
      "2016-04-25 10:43:52,957 - P8730 - Simulation - WARNING: Non-specified cell model parameter: tau_minus in layer grclayer. Using default value\n",
      "2016-04-25 10:43:52,957 - P8730 - Simulation - WARNING: Non-specified number of neurons in layer grclayer\n",
      "2016-04-25 10:43:52,959 - P8730 - Simulation - WARNING: Non-specified number of neurons in layer goclayer\n",
      "2016-04-25 10:43:52,960 - P8730 - Simulation - WARNING: tau_minus cannot be calculated in layer mflayer. Variable tau_minus is not defined. Using default value 20.0\n",
      "2016-04-25 10:43:52,960 - P8730 - Simulation - WARNING: tau_minus_triplet cannot be calculated in layer mflayer. Variable tau_istdp is not defined. Using default value 110.0\n",
      "2016-04-25 10:43:52,993 - P8730 - Simulation - DEBUG: Nest Process: 0. Neuron layer created in layer mflayer: 300. Local: 300\n",
      "2016-04-25 10:43:52,994 - P8730 - Simulation - WARNING: tau_minus cannot be calculated in layer grclayer. Variable tau_minus is not defined. Using default value 20.0\n",
      "2016-04-25 10:43:52,995 - P8730 - Simulation - WARNING: tau_minus_triplet cannot be calculated in layer grclayer. Variable tau_istdp is not defined. Using default value 110.0\n",
      "2016-04-25 10:43:53,097 - P8730 - Simulation - DEBUG: Nest Process: 0. Neuron layer created in layer grclayer: 4000. Local: 4000\n",
      "2016-04-25 10:43:53,099 - P8730 - Simulation - WARNING: tau_minus_triplet cannot be calculated in layer goclayer. Variable tau_istdp is not defined. Using default value 110.0\n",
      "2016-04-25 10:43:53,106 - P8730 - Simulation - DEBUG: Nest Process: 0. Neuron layer created in layer goclayer: 9. Local: 9\n",
      "2016-04-25 10:43:53,298 - P8730 - Simulation - DEBUG: Generated connections in layer mfgrcsynapsis (1 of 1). Local: 78367\n",
      "2016-04-25 10:43:53,300 - P8730 - Simulation - WARNING: Unrecognized parameter minus_plus_ratio in layer mfgrcsynapsis\n",
      "2016-04-25 10:43:53,301 - P8730 - Simulation - WARNING: Unrecognized parameter learning_step in layer mfgrcsynapsis\n",
      "2016-04-25 10:43:53,302 - P8730 - Simulation - WARNING: Unrecognized parameter tau_plus in layer mfgrcsynapsis\n",
      "2016-04-25 10:43:53,302 - P8730 - Simulation - WARNING: Unrecognized parameter weight_sum in layer mfgrcsynapsis\n",
      "2016-04-25 10:43:53,303 - P8730 - Simulation - WARNING: Unrecognized parameter max_weight in layer mfgrcsynapsis\n",
      "2016-04-25 10:43:53,304 - P8730 - Simulation - DEBUG: Generated connections in layer mfgocsynapsis (1 of 1). Local: 1955\n",
      "2016-04-25 10:43:53,308 - P8730 - Simulation - DEBUG: Generated connections in layer grcgocsynapsis (1 of 1). Local: 35902\n",
      "2016-04-25 10:43:53,310 - P8730 - Simulation - DEBUG: Creating glomerulus neighbourhood in layer gocgrcsynapsis. 300 glomeruli\n",
      "2016-04-25 10:43:53,337 - P8730 - Simulation - DEBUG: Calculating  neighbourhood in layer gocgrcsynapsis and block 1.\n",
      "2016-04-25 10:43:53,338 - P8730 - Simulation - DEBUG: Calculating  glomerulus connections in layer gocgrcsynapsis and block 1. 300 glomeruli\n",
      "2016-04-25 10:43:53,534 - P8730 - Simulation - DEBUG: Generated glomerulus-like connections in layer gocgrcsynapsis (1 of 1). Local: 18\n",
      "2016-04-25 10:43:53,536 - P8730 - Simulation - DEBUG: Generated glomerulus-like connections in layer gocgrcsynapsis. Local: 4174\n",
      "2016-04-25 10:43:53,538 - P8730 - Simulation - WARNING: Unrecognized parameter minus_plus_ratio in layer gocgrcsynapsis\n",
      "2016-04-25 10:43:53,540 - P8730 - Simulation - WARNING: Unrecognized parameter learning_step in layer gocgrcsynapsis\n",
      "2016-04-25 10:43:53,541 - P8730 - Simulation - WARNING: Unrecognized parameter tau_sym in layer gocgrcsynapsis\n",
      "2016-04-25 10:43:53,542 - P8730 - Simulation - WARNING: Unrecognized parameter max_weight in layer gocgrcsynapsis\n",
      "2016-04-25 10:43:53,544 - P8730 - Simulation - DEBUG: Generated connections in layer gocgocsynapsis (1 of 1). Local: 81\n",
      "2016-04-25 10:43:53,545 - P8730 - Simulation - WARNING: Unrecognized parameter minus_plus_ratio in layer gocgocsynapsis\n",
      "2016-04-25 10:43:53,546 - P8730 - Simulation - WARNING: Unrecognized parameter learning_step in layer gocgocsynapsis\n",
      "2016-04-25 10:43:53,548 - P8730 - Simulation - WARNING: Unrecognized parameter tau_sym in layer gocgocsynapsis\n"
     ]
    },
    {
     "name": "stdout",
     "output_type": "stream",
     "text": [
      "./src/SpikingSimulation/SpikingCerebellum/SynapticLayerNoMPI.py:486: RuntimeWarning: invalid value encountered in divide\n"
     ]
    },
    {
     "name": "stderr",
     "output_type": "stream",
     "text": [
      "2016-04-25 10:43:53,550 - P8730 - Simulation - WARNING: Unrecognized parameter max_weight in layer gocgocsynapsis\n"
     ]
    },
    {
     "name": "stdout",
     "output_type": "stream",
     "text": [
      "/opt/nest/nest2.10/nompi/lib/python2.7/site-packages/nest/lib/hl_api_helper.py:61: UserWarning: \n",
      "OneToOneConnect is deprecated and will be removed in a future version of NEST.\n",
      "Please use Connect instead!\n",
      "For details, see http://www.nest-simulator.org/connection_management                       \n"
     ]
    },
    {
     "name": "stderr",
     "output_type": "stream",
     "text": [
      "2016-04-25 10:43:54,924 - P8730 - Simulation - DEBUG: Nest Process: 0. Connections created in layer mfgrcsynapsis: 78367\n",
      "2016-04-25 10:43:54,964 - P8730 - Simulation - DEBUG: Nest Process: 0. Connections created in layer mfgocsynapsis: 1955\n",
      "2016-04-25 10:43:55,689 - P8730 - Simulation - DEBUG: Nest Process: 0. Connections created in layer grcgocsynapsis: 35902\n",
      "2016-04-25 10:43:55,772 - P8730 - Simulation - DEBUG: Nest Process: 0. Connections created in layer gocgrcsynapsis: 4174\n",
      "2016-04-25 10:43:55,774 - P8730 - Simulation - DEBUG: Nest Process: 0. Connections created in layer gocgocsynapsis: 81\n",
      "2016-04-25 10:43:57,016 - P8730 - Simulation - DEBUG: Creating AC Current generator\n",
      "2016-04-25 10:43:57,017 - P8730 - Simulation - DEBUG: Creating DC Current generator\n",
      "2016-04-25 10:43:57,059 - P8730 - Simulation - DEBUG: Normalization on iteration 10\n",
      "2016-04-25 10:43:57,060 - P8730 - Simulation - DEBUG: Average sum per columns 149.19101531\n",
      "2016-04-25 10:43:57,061 - P8730 - Simulation - DEBUG: Average sum per rows 109.406744561\n"
     ]
    }
   ],
   "source": [
    "simulation.config_options['simulation']['verbosity'] = 'Debug'\n",
    "simulation.config_options['simulation']['time'] = simulation_time\n",
    "simulation.config_options['network']['length'] = 1.0e-1\n",
    "simulation.config_options['mfgrcsynapsis']['average_number_of_source_cells'] = 20\n",
    "simulation.config_options['mfgrcsynapsis']['random_min_weight'] = 3.1e-9\n",
    "simulation.config_options['mfgrcsynapsis']['random_max_weight'] = 3.1e-9\n",
    "simulation.initialize()"
   ]
  },
  {
   "cell_type": "markdown",
   "metadata": {},
   "source": [
    "Visualize the simulation or only run it."
   ]
  },
  {
   "cell_type": "code",
   "execution_count": 4,
   "metadata": {
    "collapsed": false
   },
   "outputs": [
    {
     "name": "stderr",
     "output_type": "stream",
     "text": [
      "2016-04-13 14:13:57,896 - P18691 - Simulation - INFO: Running the simulation from 0.0s until time 50.0s\n",
      "2016-04-13 14:13:57,911 - P18691 - Simulation - DEBUG: Running the simulation 0.018s until 0.018s\n",
      "2016-04-13 14:13:58,113 - P18691 - Simulation - DEBUG: Running the simulation 0.437s until 0.455s\n",
      "2016-04-13 14:13:59,480 - P18691 - Simulation - DEBUG: Running the simulation 0.073s until 0.528s\n",
      "2016-04-13 14:13:59,666 - P18691 - Simulation - DEBUG: Running the simulation 0.364s until 0.892s\n",
      "2016-04-13 14:14:00,582 - P18691 - Simulation - DEBUG: Running the simulation 0.177s until 1.069s\n",
      "2016-04-13 14:14:01,027 - P18691 - Simulation - DEBUG: Running the simulation 0.035s until 1.104s\n",
      "2016-04-13 14:14:01,129 - P18691 - Simulation - DEBUG: Running the simulation 0.157s until 1.261s\n",
      "2016-04-13 14:14:01,502 - P18691 - Simulation - DEBUG: Running the simulation 0.86s until 2.121s\n"
     ]
    },
    {
     "ename": "KeyboardInterrupt",
     "evalue": "",
     "output_type": "error",
     "traceback": [
      "\u001b[1;31m---------------------------------------------------------------------------\u001b[0m",
      "\u001b[1;31mKeyboardInterrupt\u001b[0m                         Traceback (most recent call last)",
      "\u001b[1;32m<ipython-input-4-5ba88ede98ff>\u001b[0m in \u001b[0;36m<module>\u001b[1;34m()\u001b[0m\n\u001b[0;32m      1\u001b[0m \u001b[1;31m# simulation.visualize_animation()\u001b[0m\u001b[1;33m\u001b[0m\u001b[1;33m\u001b[0m\u001b[0m\n\u001b[1;32m----> 2\u001b[1;33m \u001b[0msimulation\u001b[0m\u001b[1;33m.\u001b[0m\u001b[0mrun_simulation\u001b[0m\u001b[1;33m(\u001b[0m\u001b[1;33m)\u001b[0m\u001b[1;33m\u001b[0m\u001b[0m\n\u001b[0m",
      "\u001b[1;32m/home/jesusgarrido/Documents/GitHubRepository/SpikingGranularLayer/src/SpikingSimulation/FrequencySimulation.pyc\u001b[0m in \u001b[0;36mrun_simulation\u001b[1;34m(self, **kwargs)\u001b[0m\n\u001b[0;32m    169\u001b[0m \u001b[1;33m\u001b[0m\u001b[0m\n\u001b[0;32m    170\u001b[0m                 \u001b[0mlogger\u001b[0m\u001b[1;33m.\u001b[0m\u001b[0mdebug\u001b[0m\u001b[1;33m(\u001b[0m\u001b[1;34m'Running the simulation %ss until %ss'\u001b[0m\u001b[1;33m,\u001b[0m \u001b[0msim_time\u001b[0m\u001b[1;33m,\u001b[0m \u001b[0mself\u001b[0m\u001b[1;33m.\u001b[0m\u001b[0mcerebellum\u001b[0m\u001b[1;33m.\u001b[0m\u001b[0msimulation_time\u001b[0m\u001b[1;33m+\u001b[0m\u001b[0msim_time\u001b[0m\u001b[1;33m)\u001b[0m\u001b[1;33m\u001b[0m\u001b[0m\n\u001b[1;32m--> 171\u001b[1;33m                 \u001b[0mself\u001b[0m\u001b[1;33m.\u001b[0m\u001b[0mcerebellum\u001b[0m\u001b[1;33m.\u001b[0m\u001b[0msimulate_network\u001b[0m\u001b[1;33m(\u001b[0m\u001b[0msim_time\u001b[0m\u001b[1;33m)\u001b[0m\u001b[1;33m\u001b[0m\u001b[0m\n\u001b[0m\u001b[0;32m    172\u001b[0m \u001b[1;33m\u001b[0m\u001b[0m\n\u001b[0;32m    173\u001b[0m                 \u001b[0mself\u001b[0m\u001b[1;33m.\u001b[0m\u001b[0mcurrent_time\u001b[0m \u001b[1;33m=\u001b[0m \u001b[0mself\u001b[0m\u001b[1;33m.\u001b[0m\u001b[0mcerebellum\u001b[0m\u001b[1;33m.\u001b[0m\u001b[0msimulation_time\u001b[0m\u001b[1;33m\u001b[0m\u001b[0m\n",
      "\u001b[1;32m/home/jesusgarrido/Documents/GitHubRepository/SpikingGranularLayer/src/SpikingSimulation/SpikingCerebellum/NestCerebellarModelNoMPI.pyc\u001b[0m in \u001b[0;36msimulate_network\u001b[1;34m(self, time_to_evolve)\u001b[0m\n\u001b[0;32m    820\u001b[0m             \u001b[1;31m# Round the simulation time to avoid inconsistent results in nest.\u001b[0m\u001b[1;33m\u001b[0m\u001b[1;33m\u001b[0m\u001b[0m\n\u001b[0;32m    821\u001b[0m             \u001b[1;31m# nest.Simulate(math.ceil(sim_time*1.e3))\u001b[0m\u001b[1;33m\u001b[0m\u001b[1;33m\u001b[0m\u001b[0m\n\u001b[1;32m--> 822\u001b[1;33m             \u001b[0mnest\u001b[0m\u001b[1;33m.\u001b[0m\u001b[0mSimulate\u001b[0m\u001b[1;33m(\u001b[0m\u001b[0msim_time\u001b[0m\u001b[1;33m*\u001b[0m\u001b[1;36m1.e3\u001b[0m\u001b[1;33m)\u001b[0m\u001b[1;33m\u001b[0m\u001b[0m\n\u001b[0m\u001b[0;32m    823\u001b[0m \u001b[1;33m\u001b[0m\u001b[0m\n\u001b[0;32m    824\u001b[0m             \u001b[1;31m# If it is time to record the activity\u001b[0m\u001b[1;33m\u001b[0m\u001b[1;33m\u001b[0m\u001b[0m\n",
      "\u001b[1;32m/opt/nest/nest2.10/nompi/lib/python2.7/site-packages/nest/lib/hl_api_helper.pyc\u001b[0m in \u001b[0;36mstack_checker_func\u001b[1;34m(*args, **kwargs)\u001b[0m\n\u001b[0;32m    136\u001b[0m     \u001b[1;32mdef\u001b[0m \u001b[0mstack_checker_func\u001b[0m\u001b[1;33m(\u001b[0m\u001b[1;33m*\u001b[0m\u001b[0margs\u001b[0m\u001b[1;33m,\u001b[0m \u001b[1;33m**\u001b[0m\u001b[0mkwargs\u001b[0m\u001b[1;33m)\u001b[0m\u001b[1;33m:\u001b[0m\u001b[1;33m\u001b[0m\u001b[0m\n\u001b[0;32m    137\u001b[0m         \u001b[1;32mif\u001b[0m \u001b[1;32mnot\u001b[0m \u001b[0mget_debug\u001b[0m\u001b[1;33m(\u001b[0m\u001b[1;33m)\u001b[0m\u001b[1;33m:\u001b[0m\u001b[1;33m\u001b[0m\u001b[0m\n\u001b[1;32m--> 138\u001b[1;33m             \u001b[1;32mreturn\u001b[0m \u001b[0mf\u001b[0m\u001b[1;33m(\u001b[0m\u001b[1;33m*\u001b[0m\u001b[0margs\u001b[0m\u001b[1;33m,\u001b[0m \u001b[1;33m**\u001b[0m\u001b[0mkwargs\u001b[0m\u001b[1;33m)\u001b[0m\u001b[1;33m\u001b[0m\u001b[0m\n\u001b[0m\u001b[0;32m    139\u001b[0m         \u001b[1;32melse\u001b[0m\u001b[1;33m:\u001b[0m\u001b[1;33m\u001b[0m\u001b[0m\n\u001b[0;32m    140\u001b[0m             \u001b[0msr\u001b[0m\u001b[1;33m(\u001b[0m\u001b[1;34m'count'\u001b[0m\u001b[1;33m)\u001b[0m\u001b[1;33m\u001b[0m\u001b[0m\n",
      "\u001b[1;32m/opt/nest/nest2.10/nompi/lib/python2.7/site-packages/nest/lib/hl_api_simulation.pyc\u001b[0m in \u001b[0;36mSimulate\u001b[1;34m(t)\u001b[0m\n\u001b[0;32m     33\u001b[0m \u001b[1;33m\u001b[0m\u001b[0m\n\u001b[0;32m     34\u001b[0m     \u001b[0msps\u001b[0m\u001b[1;33m(\u001b[0m\u001b[0mfloat\u001b[0m\u001b[1;33m(\u001b[0m\u001b[0mt\u001b[0m\u001b[1;33m)\u001b[0m\u001b[1;33m)\u001b[0m\u001b[1;33m\u001b[0m\u001b[0m\n\u001b[1;32m---> 35\u001b[1;33m     \u001b[0msr\u001b[0m\u001b[1;33m(\u001b[0m\u001b[1;34m'ms Simulate'\u001b[0m\u001b[1;33m)\u001b[0m\u001b[1;33m\u001b[0m\u001b[0m\n\u001b[0m\u001b[0;32m     36\u001b[0m \u001b[1;33m\u001b[0m\u001b[0m\n\u001b[0;32m     37\u001b[0m \u001b[1;33m\u001b[0m\u001b[0m\n",
      "\u001b[1;32m/opt/nest/nest2.10/nompi/lib/python2.7/site-packages/nest/__init__.pyc\u001b[0m in \u001b[0;36mcatching_sli_run\u001b[1;34m(cmd)\u001b[0m\n\u001b[0;32m     71\u001b[0m     \"\"\"\n\u001b[0;32m     72\u001b[0m \u001b[1;33m\u001b[0m\u001b[0m\n\u001b[1;32m---> 73\u001b[1;33m     \u001b[0mengine\u001b[0m\u001b[1;33m.\u001b[0m\u001b[0mrun\u001b[0m\u001b[1;33m(\u001b[0m\u001b[1;34m'{%s} runprotected'\u001b[0m \u001b[1;33m%\u001b[0m \u001b[0mcmd\u001b[0m\u001b[1;33m)\u001b[0m\u001b[1;33m\u001b[0m\u001b[0m\n\u001b[0m\u001b[0;32m     74\u001b[0m     \u001b[1;32mif\u001b[0m \u001b[1;32mnot\u001b[0m \u001b[0msli_pop\u001b[0m\u001b[1;33m(\u001b[0m\u001b[1;33m)\u001b[0m\u001b[1;33m:\u001b[0m\u001b[1;33m\u001b[0m\u001b[0m\n\u001b[0;32m     75\u001b[0m         \u001b[0merrorname\u001b[0m \u001b[1;33m=\u001b[0m \u001b[0msli_pop\u001b[0m\u001b[1;33m(\u001b[0m\u001b[1;33m)\u001b[0m\u001b[1;33m\u001b[0m\u001b[0m\n",
      "\u001b[1;31mKeyboardInterrupt\u001b[0m: "
     ]
    }
   ],
   "source": [
    "# simulation.visualize_animation()\n",
    "simulation.run_simulation()"
   ]
  },
  {
   "cell_type": "markdown",
   "metadata": {},
   "source": [
    "Calculate the average firing frequency of each granular cells during the ending 100 seconds"
   ]
  },
  {
   "cell_type": "code",
   "execution_count": null,
   "metadata": {
    "collapsed": false
   },
   "outputs": [],
   "source": [
    "gtime,gcell_id = simulation.cerebellum.get_spike_activity(neuron_layer = 'grclayer',\n",
    "                                                          init_time = simulation.current_time-100.0, \n",
    "                                                          end_time = simulation.current_time)\n",
    "import numpy\n",
    "firing_frequency = numpy.bincount(gcell_id) / (simulation_time*8.0)\n",
    "%matplotlib inline\n",
    "import matplotlib.pyplot as plt\n",
    "plt.hist(firing_frequency, bins=20)\n",
    "plt.ylabel('Number of GrC cells')\n",
    "plt.xlabel('Av. Spikes per Oscillatory Cycle')"
   ]
  },
  {
   "cell_type": "markdown",
   "metadata": {},
   "source": [
    "Get the histogram of input synapses for the granular cells"
   ]
  },
  {
   "cell_type": "code",
   "execution_count": 4,
   "metadata": {
    "collapsed": false
   },
   "outputs": [
    {
     "name": "stdout",
     "output_type": "stream",
     "text": [
      "/usr/lib/python2.7/dist-packages/matplotlib/font_manager.py:273: UserWarning: Matplotlib is building the font cache using fc-list. This may take a moment.\n"
     ]
    },
    {
     "data": {
      "text/plain": [
       "<matplotlib.text.Text at 0x7fe13a7bb290>"
      ]
     },
     "execution_count": 4,
     "metadata": {},
     "output_type": "execute_result"
    },
    {
     "data": {
      "image/png": "[encoded data removed]",
      "text/plain": [
       "<matplotlib.figure.Figure at 0x7fe151d33510>"
      ]
     },
     "metadata": {},
     "output_type": "display_data"
    }
   ],
   "source": [
    "target_cell_index = simulation.cerebellum.layer_map['mfgrcsynapsis'].target_index\n",
    "cell_number = simulation.cerebellum.layer_map['grclayer'].number_of_neurons\n",
    "import numpy\n",
    "number_of_inputs = numpy.bincount(target_cell_index)\n",
    "%matplotlib inline\n",
    "import matplotlib.pyplot as plt\n",
    "plt.hist(number_of_inputs, bins=30)\n",
    "plt.ylabel('Number of GrC cells')\n",
    "plt.xlabel('Number of input synapses from glomeruli')\n"
   ]
  },
  {
   "cell_type": "code",
   "execution_count": null,
   "metadata": {
    "collapsed": true
   },
   "outputs": [],
   "source": []
  }
 ],
 "metadata": {
  "kernelspec": {
   "display_name": "Python 2",
   "language": "python",
   "name": "python2"
  },
  "language_info": {
   "codemirror_mode": {
    "name": "ipython",
    "version": 2
   },
   "file_extension": ".py",
   "mimetype": "text/x-python",
   "name": "python",
   "nbconvert_exporter": "python",
   "pygments_lexer": "ipython2",
   "version": "2.7.11+"
  }
 },
 "nbformat": 4,
 "nbformat_minor": 0
}
